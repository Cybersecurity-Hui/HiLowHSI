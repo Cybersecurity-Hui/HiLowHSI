{
 "cells": [
  {
   "cell_type": "code",
   "execution_count": 1,
   "id": "d1f1739e-1b29-439e-b283-d5e9647f004d",
   "metadata": {},
   "outputs": [],
   "source": [
    "import argparse\n",
    "import numpy as np\n",
    "import torch.nn as nn\n",
    "import torch.utils.data\n",
    "from torchsummary import summary\n",
    "from utils.dataset import load_mat_hsi, sample_gt, HSIDataset\n",
    "from utils.utils import split_info_print, metrics, show_results\n",
    "from utils.scheduler import load_scheduler\n",
    "from models.get_model import get_model\n",
    "from train import train, test\n",
    "from utils.utils import Draw\n",
    "import time\n",
    "from sklearn.utils import shuffle\n",
    "from tqdm import tqdm\n",
    "import torch.backends.cudnn as cudnn\n",
    "import os\n",
    "import random\n",
    "from scipy.io import loadmat"
   ]
  },
  {
   "cell_type": "code",
   "execution_count": 2,
   "id": "89044509-1c6e-4dbd-9d04-738979449107",
   "metadata": {},
   "outputs": [
    {
     "name": "stdout",
     "output_type": "stream",
     "text": [
      "experiments will run on GPU device 0\n",
      "model = gscvit_HL\n",
      "dataset = HongHu\n",
      "dataset folder = ../data\n",
      "patch size = 8\n",
      "batch size = 128\n",
      "total epoch = 200\n",
      "0.01 for training, 0.01 for validation and 0.98 testing\n"
     ]
    }
   ],
   "source": [
    "parser = argparse.ArgumentParser(description=\"run patch-based HSI classification\")\n",
    "parser.add_argument(\"--model\", type=str, default='gscvit_HL') # model name\n",
    "parser.add_argument(\"--dataset_name\", type=str, default=\"HongHu\") # dataset name\n",
    "parser.add_argument(\"--dataset_dir\", type=str, default=\"../data\") # dataset dir\n",
    "parser.add_argument(\"--device\", type=str, default=\"0\")\n",
    "parser.add_argument(\"--patch_size\", type=int, default=8) # patch_size\n",
    "parser.add_argument(\"--num_run\", type=int, default=5)\n",
    "parser.add_argument(\"--epoch\", type=int, default=200)\n",
    "parser.add_argument(\"--bs\", type=int, default=128)  # bs = batch size\n",
    "parser.add_argument(\"--ratio\", type=float, default=0.02) # ratio of training + validation sample\n",
    "\n",
    "opts,_ = parser.parse_known_args()\n",
    "\n",
    "device = torch.device(\"cuda:{}\".format(opts.device))\n",
    "\n",
    "# print parameters\n",
    "print(\"experiments will run on GPU device {}\".format(opts.device))\n",
    "print(\"model = {}\".format(opts.model))\n",
    "print(\"dataset = {}\".format(opts.dataset_name))\n",
    "print(\"dataset folder = {}\".format(opts.dataset_dir))\n",
    "print(\"patch size = {}\".format(opts.patch_size))\n",
    "print(\"batch size = {}\".format(opts.bs))\n",
    "print(\"total epoch = {}\".format(opts.epoch))\n",
    "print(\"{} for training, {} for validation and {} testing\".format(opts.ratio / 2, opts.ratio / 2, 1 - opts.ratio))\n",
    "\n",
    "# load data\n",
    "image, gt, labels = load_mat_hsi(opts.dataset_name, opts.dataset_dir)\n",
    "\n",
    "num_classes = len(labels)\n",
    "\n",
    "num_bands = image.shape[-1]\n",
    "\n",
    "# random seeds\n",
    "seeds = [202401, 202402, 202403, 202404, 202405, 202406, 202407, 202408, 202409, 202410]\n",
    "\n",
    "# empty list to storing results\n",
    "results = []\n"
   ]
  },
  {
   "cell_type": "code",
   "execution_count": 3,
   "id": "78aac545-2931-429f-9e9d-4fa28b182f2f",
   "metadata": {},
   "outputs": [],
   "source": [
    "def setup_dataloaders(image, train_gt, val_gt, opts, seed):\n",
    "    \"\"\"\n",
    "    设置数据加载器\n",
    "    \"\"\"\n",
    "    # 创建数据集\n",
    "    train_set = HSIDataset(image, train_gt, patch_size=opts.patch_size, data_aug=True)\n",
    "    \n",
    "    val_set = HSIDataset(image, val_gt, patch_size=opts.patch_size, data_aug=True)\n",
    "\n",
    "    # 创建数据加载器\n",
    "    generator = torch.Generator()\n",
    "    generator.manual_seed(seed)\n",
    "\n",
    "    train_loader = torch.utils.data.DataLoader(\n",
    "        dataset=train_set,\n",
    "        batch_size=opts.bs,\n",
    "        shuffle=True,\n",
    "        drop_last=False,\n",
    "        generator=generator,\n",
    "        worker_init_fn=lambda worker_id: np.random.seed(seed + worker_id)\n",
    "    )\n",
    "\n",
    "    val_loader = torch.utils.data.DataLoader(\n",
    "        dataset=val_set,\n",
    "        batch_size=opts.bs,\n",
    "        shuffle=False,\n",
    "        drop_last=False\n",
    "    )\n",
    "\n",
    "    return train_loader, val_loader"
   ]
  },
  {
   "cell_type": "code",
   "execution_count": 4,
   "id": "8ca0918b-7d82-43d5-8957-3aa869840bce",
   "metadata": {},
   "outputs": [],
   "source": [
    "def setup_seed(seed):\n",
    "    # PyTorch CPU随机种子\n",
    "    torch.manual_seed(seed)\n",
    "    # 所有GPU的随机种子\n",
    "    torch.cuda.manual_seed_all(seed)\n",
    "    torch.cuda.manual_seed(seed)\n",
    "    # Python哈希种子（影响字典等数据结构的行为）\n",
    "    os.environ['PYTHONHASHSEED'] = str(seed)\n",
    "    # NumPy随机种子\n",
    "    np.random.seed(seed)\n",
    "    # Python内置随机种子\n",
    "    random.seed(seed)\n",
    "    # 启用确定性算法（降低性能但保证可重复）\n",
    "    torch.backends.cudnn.deterministic = True\n",
    "    # 关闭自动优化（固定卷积算法选择）\n",
    "    torch.backends.cudnn.benchmark = False\n",
    "    # 设置线程数，确保一致性\n",
    "    torch.set_num_threads(1)"
   ]
  },
  {
   "cell_type": "code",
   "execution_count": null,
   "id": "29ae39b6-8c06-414f-86f7-2ab7db009e99",
   "metadata": {
    "scrolled": true
   },
   "outputs": [
    {
     "name": "stdout",
     "output_type": "stream",
     "text": [
      "running an experiment with the gscvit_HL model\n",
      "run 1 / 5\n",
      "目标: 每类30个训练样本, 10个验证样本\n",
      "------------------------------------------------------------\n",
      "类别 0: 训练集 30样本, 验证集 10样本, 测试集 14001样本\n",
      "类别 1: 训练集 30样本, 验证集 10样本, 测试集 3472样本\n",
      "类别 2: 训练集 30样本, 验证集 10样本, 测试集 21781样本\n",
      "类别 3: 训练集 30样本, 验证集 10样本, 测试集 163245样本\n",
      "类别 4: 训练集 30样本, 验证集 10样本, 测试集 6178样本\n",
      "类别 5: 训练集 30样本, 验证集 10样本, 测试集 44517样本\n",
      "类别 6: 训练集 30样本, 验证集 10样本, 测试集 24063样本\n",
      "类别 7: 训练集 30样本, 验证集 10样本, 测试集 4014样本\n",
      "类别 8: 训练集 30样本, 验证集 10样本, 测试集 10779样本\n",
      "类别 9: 训练集 30样本, 验证集 10样本, 测试集 12354样本\n",
      "类别 10: 训练集 30样本, 验证集 10样本, 测试集 10975样本\n",
      "类别 11: 训练集 30样本, 验证集 10样本, 测试集 8914样本\n",
      "类别 12: 训练集 30样本, 验证集 10样本, 测试集 22467样本\n",
      "类别 13: 训练集 30样本, 验证集 10样本, 测试集 7316样本\n",
      "类别 14: 训练集 30样本, 验证集 10样本, 测试集 962样本\n",
      "类别 15: 训练集 30样本, 验证集 10样本, 测试集 7222样本\n",
      "类别 16: 训练集 30样本, 验证集 10样本, 测试集 2970样本\n",
      "类别 17: 训练集 30样本, 验证集 10样本, 测试集 3177样本\n",
      "类别 18: 训练集 30样本, 验证集 10样本, 测试集 8672样本\n",
      "类别 19: 训练集 30样本, 验证集 10样本, 测试集 3446样本\n",
      "类别 20: 训练集 30样本, 验证集 10样本, 测试集 1288样本\n",
      "类别 21: 训练集 30样本, 验证集 10样本, 测试集 4000样本\n",
      "\n",
      "验证采样结果:\n",
      "------------------------------------------------------------\n",
      "类别                               训练集        验证集        测试集\n",
      "------------------------------------------------------------\n",
      "Red roof                          30         10      14001\n",
      "Road                              30         10       3472\n",
      "Bare soil                         30         10      21781\n",
      "Cotton                            30         10     163245\n",
      "Cotton firewood                   30         10       6178\n",
      "Rape                              30         10      44517\n",
      "Chinese cabbage                   30         10      24063\n",
      "Pakchoi                           30         10       4014\n",
      "Cabbage                           30         10      10779\n",
      "Tuber mustard                     30         10      12354\n",
      "Brassica parachinensis            30         10      10975\n",
      "Brassica chinensis                30         10       8914\n",
      "Small Brassica chinensis          30         10      22467\n",
      "Lactuca sativa                    30         10       7316\n",
      "Celtuce                           30         10        962\n",
      "Film covered lettuce              30         10       7222\n",
      "Romaine lettuce                   30         10       2970\n",
      "Carrot                            30         10       3177\n",
      "White radish                      30         10       8672\n",
      "Garlic sprout                     30         10       3446\n",
      "Broad bean                        30         10       1288\n",
      "Tree                              30         10       4000\n",
      "network information:\n",
      "----------------------------------------------------------------\n",
      "        Layer (type)               Output Shape         Param #\n",
      "================================================================\n",
      "            Conv2d-1            [-1, 256, 8, 8]          69,376\n",
      "       BatchNorm2d-2            [-1, 256, 8, 8]             512\n",
      "              ReLU-3            [-1, 256, 8, 8]               0\n",
      "SpectralCalibration-4            [-1, 256, 8, 8]               0\n",
      "       BatchNorm2d-5            [-1, 256, 8, 8]             512\n",
      "              ReLU-6            [-1, 256, 8, 8]               0\n",
      "   ReflectionPad2d-7            [-1, 1, 22, 22]               0\n",
      "            Conv2d-8              [-1, 1, 8, 8]             225\n",
      "    SpectralDecomp-9  [[-1, 256, 8, 8], [-1, 256, 8, 8]]               0\n",
      "           Conv2d-10            [-1, 128, 8, 8]          32,896\n",
      "           Conv2d-11            [-1, 128, 8, 8]          16,512\n",
      "           Conv2d-12            [-1, 128, 8, 8]          16,512\n",
      "      BatchNorm2d-13            [-1, 128, 8, 8]             256\n",
      "             ReLU-14            [-1, 128, 8, 8]               0\n",
      "           Conv2d-15             [-1, 16, 8, 8]           1,040\n",
      "           Conv2d-16             [-1, 16, 8, 8]             592\n",
      "      BatchNorm2d-17             [-1, 16, 8, 8]              32\n",
      "             ReLU-18             [-1, 16, 8, 8]               0\n",
      "              GSC-19             [-1, 16, 8, 8]               0\n",
      "    ChanLayerNorm-20             [-1, 16, 8, 8]               0\n",
      "           Conv1d-21               [-1, 48, 17]             768\n",
      "          Softmax-22            [-1, 1, 17, 17]               0\n",
      "          Dropout-23            [-1, 1, 17, 17]               0\n",
      "        LayerNorm-24             [-1, 1, 4, 16]              32\n",
      "             GELU-25             [-1, 1, 4, 16]               0\n",
      "        Rearrange-26                [-1, 16, 4]               0\n",
      "           Conv1d-27                [-1, 32, 4]             544\n",
      "        Rearrange-28             [-1, 1, 4, 32]               0\n",
      "          Softmax-29              [-1, 1, 4, 4]               0\n",
      "          Dropout-30              [-1, 1, 4, 4]               0\n",
      "           Conv2d-31             [-1, 16, 8, 8]             272\n",
      "          Dropout-32             [-1, 16, 8, 8]               0\n",
      "             GSSA-33             [-1, 16, 8, 8]               0\n",
      "          PreNorm-34             [-1, 16, 8, 8]               0\n",
      "    ChanLayerNorm-35             [-1, 16, 8, 8]               0\n",
      "      Transformer-36             [-1, 16, 8, 8]               0\n",
      "      BatchNorm2d-37             [-1, 16, 8, 8]              32\n",
      "             ReLU-38             [-1, 16, 8, 8]               0\n",
      "           Conv2d-39            [-1, 144, 8, 8]          20,880\n",
      "      BatchNorm2d-40            [-1, 144, 8, 8]             288\n",
      "             ReLU-41            [-1, 144, 8, 8]               0\n",
      "  ReflectionPad2d-42            [-1, 1, 22, 22]               0\n",
      "           Conv2d-43              [-1, 1, 8, 8]             225\n",
      "   SpectralDecomp-44  [[-1, 144, 8, 8], [-1, 144, 8, 8]]               0\n",
      "           Conv2d-45             [-1, 64, 8, 8]           9,280\n",
      "    ChanLayerNorm-46             [-1, 64, 8, 8]               0\n",
      "           Conv1d-47               [-1, 48, 17]           3,072\n",
      "          Softmax-48            [-1, 1, 17, 17]               0\n",
      "          Dropout-49            [-1, 1, 17, 17]               0\n",
      "        LayerNorm-50             [-1, 1, 4, 16]              32\n",
      "             GELU-51             [-1, 1, 4, 16]               0\n",
      "        Rearrange-52                [-1, 16, 4]               0\n",
      "           Conv1d-53                [-1, 32, 4]             544\n",
      "        Rearrange-54             [-1, 1, 4, 32]               0\n",
      "          Softmax-55              [-1, 1, 4, 4]               0\n",
      "          Dropout-56              [-1, 1, 4, 4]               0\n",
      "           Conv2d-57             [-1, 64, 8, 8]           1,088\n",
      "          Dropout-58             [-1, 64, 8, 8]               0\n",
      "             GSSA-59             [-1, 64, 8, 8]               0\n",
      "          PreNorm-60             [-1, 64, 8, 8]               0\n",
      "    ChanLayerNorm-61             [-1, 64, 8, 8]               0\n",
      "      Transformer-62             [-1, 64, 8, 8]               0\n",
      "           Conv2d-63             [-1, 64, 8, 8]           4,160\n",
      "      BatchNorm2d-64             [-1, 64, 8, 8]             128\n",
      "             ReLU-65             [-1, 64, 8, 8]               0\n",
      "           Conv2d-66             [-1, 16, 8, 8]             592\n",
      "           Conv2d-67             [-1, 16, 8, 8]             592\n",
      "      BatchNorm2d-68             [-1, 16, 8, 8]              32\n",
      "             ReLU-69             [-1, 16, 8, 8]               0\n",
      "              GSC-70             [-1, 16, 8, 8]               0\n",
      "    ChanLayerNorm-71             [-1, 16, 8, 8]               0\n",
      "           Conv1d-72               [-1, 48, 17]             768\n",
      "          Softmax-73            [-1, 1, 17, 17]               0\n",
      "          Dropout-74            [-1, 1, 17, 17]               0\n",
      "        LayerNorm-75             [-1, 1, 4, 16]              32\n",
      "             GELU-76             [-1, 1, 4, 16]               0\n",
      "        Rearrange-77                [-1, 16, 4]               0\n",
      "           Conv1d-78                [-1, 32, 4]             544\n",
      "        Rearrange-79             [-1, 1, 4, 32]               0\n",
      "          Softmax-80              [-1, 1, 4, 4]               0\n",
      "          Dropout-81              [-1, 1, 4, 4]               0\n",
      "           Conv2d-82             [-1, 16, 8, 8]             272\n",
      "          Dropout-83             [-1, 16, 8, 8]               0\n",
      "             GSSA-84             [-1, 16, 8, 8]               0\n",
      "          PreNorm-85             [-1, 16, 8, 8]               0\n",
      "    ChanLayerNorm-86             [-1, 16, 8, 8]               0\n",
      "      Transformer-87             [-1, 16, 8, 8]               0\n",
      "      BatchNorm2d-88             [-1, 16, 8, 8]              32\n",
      "             ReLU-89             [-1, 16, 8, 8]               0\n",
      "           Reduce-90                   [-1, 80]               0\n",
      "        LayerNorm-91                   [-1, 80]             160\n",
      "           Linear-92                   [-1, 22]           1,782\n",
      "================================================================\n",
      "Total params: 184,616\n",
      "Trainable params: 184,616\n",
      "Non-trainable params: 0\n",
      "----------------------------------------------------------------\n",
      "Input size (MB): 0.07\n",
      "Forward/backward pass size (MB): 2694.11\n",
      "Params size (MB): 0.70\n",
      "Estimated Total Size (MB): 2694.88\n",
      "----------------------------------------------------------------\n"
     ]
    },
    {
     "name": "stderr",
     "output_type": "stream",
     "text": [
      "  0%|▌                                                                                                                        | 1/200 [00:00<02:03,  1.61it/s]"
     ]
    },
    {
     "name": "stdout",
     "output_type": "stream",
     "text": [
      "train at epoch 1/200, loss=2.660554\n",
      "epoch = 1: best OA = 0.0455, loss = 2.660554\n",
      "epoch = 1: current loss = 2.660554 (best loss = 2.660554)\n"
     ]
    },
    {
     "name": "stderr",
     "output_type": "stream",
     "text": [
      "  1%|█▏                                                                                                                       | 2/200 [00:00<01:25,  2.33it/s]"
     ]
    },
    {
     "name": "stdout",
     "output_type": "stream",
     "text": [
      "epoch = 2: best OA = 0.0500, loss = 2.176465\n",
      "epoch = 2: current loss = 2.176465 (best loss = 2.176465)\n"
     ]
    },
    {
     "name": "stderr",
     "output_type": "stream",
     "text": [
      "  2%|█▊                                                                                                                       | 3/200 [00:01<01:11,  2.76it/s]"
     ]
    },
    {
     "name": "stdout",
     "output_type": "stream",
     "text": [
      "epoch = 3: current loss = 1.955819 (best loss = 1.955819)\n"
     ]
    },
    {
     "name": "stderr",
     "output_type": "stream",
     "text": [
      "  2%|██▍                                                                                                                      | 4/200 [00:01<01:05,  3.00it/s]"
     ]
    },
    {
     "name": "stdout",
     "output_type": "stream",
     "text": [
      "epoch = 4: current loss = 1.747265 (best loss = 1.747265)\n"
     ]
    },
    {
     "name": "stderr",
     "output_type": "stream",
     "text": [
      "  2%|███                                                                                                                      | 5/200 [00:01<01:02,  3.14it/s]"
     ]
    },
    {
     "name": "stdout",
     "output_type": "stream",
     "text": [
      "train at epoch 5/200, loss=1.719204\n",
      "epoch = 5: current loss = 1.719204 (best loss = 1.719204)\n"
     ]
    },
    {
     "name": "stderr",
     "output_type": "stream",
     "text": [
      "  3%|███▋                                                                                                                     | 6/200 [00:02<00:59,  3.26it/s]"
     ]
    },
    {
     "name": "stdout",
     "output_type": "stream",
     "text": [
      "epoch = 6: current loss = 1.572338 (best loss = 1.572338)\n"
     ]
    },
    {
     "name": "stderr",
     "output_type": "stream",
     "text": [
      "  4%|████▏                                                                                                                    | 7/200 [00:02<00:58,  3.29it/s]"
     ]
    },
    {
     "name": "stdout",
     "output_type": "stream",
     "text": [
      "epoch = 7: best OA = 0.0591, loss = 1.465154\n",
      "epoch = 7: current loss = 1.465154 (best loss = 1.465154)\n"
     ]
    },
    {
     "name": "stderr",
     "output_type": "stream",
     "text": [
      "  4%|████▊                                                                                                                    | 8/200 [00:02<00:58,  3.30it/s]"
     ]
    },
    {
     "name": "stdout",
     "output_type": "stream",
     "text": [
      "epoch = 8: best OA = 0.1545, loss = 1.376328\n",
      "epoch = 8: current loss = 1.376328 (best loss = 1.376328)\n"
     ]
    },
    {
     "name": "stderr",
     "output_type": "stream",
     "text": [
      "  4%|█████▍                                                                                                                   | 9/200 [00:02<00:57,  3.31it/s]"
     ]
    },
    {
     "name": "stdout",
     "output_type": "stream",
     "text": [
      "epoch = 9: best OA = 0.3364, loss = 1.341211\n",
      "epoch = 9: current loss = 1.341211 (best loss = 1.341211)\n"
     ]
    },
    {
     "name": "stderr",
     "output_type": "stream",
     "text": [
      "  5%|██████                                                                                                                  | 10/200 [00:03<00:57,  3.31it/s]"
     ]
    },
    {
     "name": "stdout",
     "output_type": "stream",
     "text": [
      "train at epoch 10/200, loss=1.218582\n",
      "epoch = 10: best OA = 0.4773, loss = 1.218582\n",
      "epoch = 10: current loss = 1.218582 (best loss = 1.218582)\n"
     ]
    },
    {
     "name": "stderr",
     "output_type": "stream",
     "text": [
      "  6%|██████▌                                                                                                                 | 11/200 [00:03<00:56,  3.33it/s]"
     ]
    },
    {
     "name": "stdout",
     "output_type": "stream",
     "text": [
      "epoch = 11: best OA = 0.5909, loss = 1.174028\n",
      "epoch = 11: current loss = 1.174028 (best loss = 1.174028)\n"
     ]
    },
    {
     "name": "stderr",
     "output_type": "stream",
     "text": [
      "  6%|███████▏                                                                                                                | 12/200 [00:03<00:55,  3.37it/s]"
     ]
    },
    {
     "name": "stdout",
     "output_type": "stream",
     "text": [
      "epoch = 12: best OA = 0.6818, loss = 1.137229\n",
      "epoch = 12: current loss = 1.137229 (best loss = 1.137229)\n"
     ]
    },
    {
     "name": "stderr",
     "output_type": "stream",
     "text": [
      "  6%|███████▊                                                                                                                | 13/200 [00:04<00:55,  3.37it/s]"
     ]
    },
    {
     "name": "stdout",
     "output_type": "stream",
     "text": [
      "epoch = 13: best OA = 0.7273, loss = 1.123157\n",
      "epoch = 13: current loss = 1.123157 (best loss = 1.123157)\n"
     ]
    },
    {
     "name": "stderr",
     "output_type": "stream",
     "text": [
      "  7%|████████▍                                                                                                               | 14/200 [00:04<00:55,  3.33it/s]"
     ]
    },
    {
     "name": "stdout",
     "output_type": "stream",
     "text": [
      "epoch = 14: current loss = 1.100103 (best loss = 1.100103)\n"
     ]
    },
    {
     "name": "stderr",
     "output_type": "stream",
     "text": [
      "  8%|█████████                                                                                                               | 15/200 [00:04<00:56,  3.28it/s]"
     ]
    },
    {
     "name": "stdout",
     "output_type": "stream",
     "text": [
      "train at epoch 15/200, loss=0.973648\n",
      "epoch = 15: best OA = 0.7455, loss = 0.973648\n",
      "epoch = 15: current loss = 0.973648 (best loss = 0.973648)\n"
     ]
    },
    {
     "name": "stderr",
     "output_type": "stream",
     "text": [
      "  8%|█████████▌                                                                                                              | 16/200 [00:05<00:56,  3.25it/s]"
     ]
    },
    {
     "name": "stdout",
     "output_type": "stream",
     "text": [
      "epoch = 16: current loss = 0.956830 (best loss = 0.956830)\n"
     ]
    },
    {
     "name": "stderr",
     "output_type": "stream",
     "text": [
      "  8%|██████████▏                                                                                                             | 17/200 [00:05<00:55,  3.28it/s]"
     ]
    },
    {
     "name": "stdout",
     "output_type": "stream",
     "text": [
      "epoch = 17: best OA = 0.7636, loss = 0.949544\n",
      "epoch = 17: current loss = 0.949544 (best loss = 0.949544)\n"
     ]
    },
    {
     "name": "stderr",
     "output_type": "stream",
     "text": [
      "  9%|██████████▊                                                                                                             | 18/200 [00:05<00:55,  3.25it/s]"
     ]
    },
    {
     "name": "stdout",
     "output_type": "stream",
     "text": [
      "epoch = 18: best OA = 0.7818, loss = 0.874506\n",
      "epoch = 18: current loss = 0.874506 (best loss = 0.874506)\n"
     ]
    },
    {
     "name": "stderr",
     "output_type": "stream",
     "text": [
      " 10%|███████████▍                                                                                                            | 19/200 [00:05<00:54,  3.30it/s]"
     ]
    },
    {
     "name": "stdout",
     "output_type": "stream",
     "text": [
      "epoch = 19: current loss = 0.810659 (best loss = 0.810659)\n"
     ]
    },
    {
     "name": "stderr",
     "output_type": "stream",
     "text": [
      " 10%|████████████                                                                                                            | 20/200 [00:06<00:54,  3.31it/s]"
     ]
    },
    {
     "name": "stdout",
     "output_type": "stream",
     "text": [
      "train at epoch 20/200, loss=0.810598\n",
      "epoch = 20: current loss = 0.810598 (best loss = 0.810598)\n"
     ]
    },
    {
     "name": "stderr",
     "output_type": "stream",
     "text": [
      " 10%|████████████▌                                                                                                           | 21/200 [00:06<00:54,  3.26it/s]"
     ]
    },
    {
     "name": "stdout",
     "output_type": "stream",
     "text": [
      "epoch = 21: best OA = 0.7909, loss = 0.834502\n"
     ]
    },
    {
     "name": "stderr",
     "output_type": "stream",
     "text": [
      " 11%|█████████████▏                                                                                                          | 22/200 [00:06<00:55,  3.23it/s]"
     ]
    },
    {
     "name": "stdout",
     "output_type": "stream",
     "text": [
      "epoch = 22: best OA = 0.7909, loss = 0.767533\n",
      "epoch = 22: current loss = 0.767533 (best loss = 0.767533)\n"
     ]
    },
    {
     "name": "stderr",
     "output_type": "stream",
     "text": [
      " 12%|██████████████▍                                                                                                         | 24/200 [00:07<00:53,  3.28it/s]"
     ]
    },
    {
     "name": "stdout",
     "output_type": "stream",
     "text": [
      "epoch = 24: best OA = 0.7909, loss = 0.682579\n",
      "epoch = 24: current loss = 0.682579 (best loss = 0.682579)\n"
     ]
    },
    {
     "name": "stderr",
     "output_type": "stream",
     "text": [
      " 12%|███████████████                                                                                                         | 25/200 [00:07<00:52,  3.33it/s]"
     ]
    },
    {
     "name": "stdout",
     "output_type": "stream",
     "text": [
      "train at epoch 25/200, loss=0.694251\n"
     ]
    },
    {
     "name": "stderr",
     "output_type": "stream",
     "text": [
      " 13%|███████████████▌                                                                                                        | 26/200 [00:08<00:52,  3.34it/s]"
     ]
    },
    {
     "name": "stdout",
     "output_type": "stream",
     "text": [
      "epoch = 26: current loss = 0.600039 (best loss = 0.600039)\n"
     ]
    },
    {
     "name": "stderr",
     "output_type": "stream",
     "text": [
      " 14%|████████████████▏                                                                                                       | 27/200 [00:08<00:52,  3.32it/s]"
     ]
    },
    {
     "name": "stdout",
     "output_type": "stream",
     "text": [
      "epoch = 27: best OA = 0.8091, loss = 0.616573\n"
     ]
    },
    {
     "name": "stderr",
     "output_type": "stream",
     "text": [
      " 14%|████████████████▊                                                                                                       | 28/200 [00:08<00:51,  3.34it/s]"
     ]
    },
    {
     "name": "stdout",
     "output_type": "stream",
     "text": [
      "epoch = 28: best OA = 0.8091, loss = 0.610493\n"
     ]
    },
    {
     "name": "stderr",
     "output_type": "stream",
     "text": [
      " 15%|██████████████████                                                                                                      | 30/200 [00:09<00:50,  3.38it/s]"
     ]
    },
    {
     "name": "stdout",
     "output_type": "stream",
     "text": [
      "train at epoch 30/200, loss=0.597091\n",
      "epoch = 30: current loss = 0.597091 (best loss = 0.597091)\n"
     ]
    },
    {
     "name": "stderr",
     "output_type": "stream",
     "text": [
      " 16%|██████████████████▌                                                                                                     | 31/200 [00:09<00:50,  3.37it/s]"
     ]
    },
    {
     "name": "stdout",
     "output_type": "stream",
     "text": [
      "epoch = 31: current loss = 0.559278 (best loss = 0.559278)\n"
     ]
    },
    {
     "name": "stderr",
     "output_type": "stream",
     "text": [
      " 16%|███████████████████▊                                                                                                    | 33/200 [00:10<00:49,  3.38it/s]"
     ]
    },
    {
     "name": "stdout",
     "output_type": "stream",
     "text": [
      "epoch = 33: best OA = 0.8091, loss = 0.471116\n",
      "epoch = 33: current loss = 0.471116 (best loss = 0.471116)\n"
     ]
    },
    {
     "name": "stderr",
     "output_type": "stream",
     "text": [
      " 18%|█████████████████████                                                                                                   | 35/200 [00:10<00:49,  3.30it/s]"
     ]
    },
    {
     "name": "stdout",
     "output_type": "stream",
     "text": [
      "train at epoch 35/200, loss=0.467389\n",
      "epoch = 35: best OA = 0.8273, loss = 0.467389\n",
      "epoch = 35: current loss = 0.467389 (best loss = 0.467389)\n"
     ]
    },
    {
     "name": "stderr",
     "output_type": "stream",
     "text": [
      " 20%|███████████████████████▍                                                                                                | 39/200 [00:11<00:48,  3.31it/s]"
     ]
    },
    {
     "name": "stdout",
     "output_type": "stream",
     "text": [
      "epoch = 39: current loss = 0.451503 (best loss = 0.451503)\n"
     ]
    },
    {
     "name": "stderr",
     "output_type": "stream",
     "text": [
      " 20%|████████████████████████                                                                                                | 40/200 [00:12<00:49,  3.25it/s]"
     ]
    },
    {
     "name": "stdout",
     "output_type": "stream",
     "text": [
      "train at epoch 40/200, loss=0.461906\n",
      "epoch = 40: best OA = 0.8409, loss = 0.461906\n"
     ]
    },
    {
     "name": "stderr",
     "output_type": "stream",
     "text": [
      " 20%|████████████████████████▌                                                                                               | 41/200 [00:12<00:48,  3.26it/s]"
     ]
    },
    {
     "name": "stdout",
     "output_type": "stream",
     "text": [
      "epoch = 41: best OA = 0.8591, loss = 0.429047\n",
      "epoch = 41: current loss = 0.429047 (best loss = 0.429047)\n"
     ]
    },
    {
     "name": "stderr",
     "output_type": "stream",
     "text": [
      " 22%|█████████████████████████▊                                                                                              | 43/200 [00:13<00:47,  3.30it/s]"
     ]
    },
    {
     "name": "stdout",
     "output_type": "stream",
     "text": [
      "epoch = 43: current loss = 0.417893 (best loss = 0.417893)\n"
     ]
    },
    {
     "name": "stderr",
     "output_type": "stream",
     "text": [
      " 22%|██████████████████████████▍                                                                                             | 44/200 [00:13<00:47,  3.29it/s]"
     ]
    },
    {
     "name": "stdout",
     "output_type": "stream",
     "text": [
      "epoch = 44: current loss = 0.398015 (best loss = 0.398015)\n"
     ]
    },
    {
     "name": "stderr",
     "output_type": "stream",
     "text": [
      " 22%|███████████████████████████                                                                                             | 45/200 [00:13<00:47,  3.28it/s]"
     ]
    },
    {
     "name": "stdout",
     "output_type": "stream",
     "text": [
      "train at epoch 45/200, loss=0.371779\n",
      "epoch = 45: current loss = 0.371779 (best loss = 0.371779)\n"
     ]
    },
    {
     "name": "stderr",
     "output_type": "stream",
     "text": [
      " 23%|███████████████████████████▌                                                                                            | 46/200 [00:14<00:46,  3.28it/s]"
     ]
    },
    {
     "name": "stdout",
     "output_type": "stream",
     "text": [
      "epoch = 46: current loss = 0.352306 (best loss = 0.352306)\n"
     ]
    },
    {
     "name": "stderr",
     "output_type": "stream",
     "text": [
      " 24%|█████████████████████████████▍                                                                                          | 49/200 [00:14<00:44,  3.39it/s]"
     ]
    },
    {
     "name": "stdout",
     "output_type": "stream",
     "text": [
      "epoch = 49: current loss = 0.337498 (best loss = 0.337498)\n"
     ]
    },
    {
     "name": "stderr",
     "output_type": "stream",
     "text": [
      " 25%|██████████████████████████████                                                                                          | 50/200 [00:15<00:44,  3.40it/s]"
     ]
    },
    {
     "name": "stdout",
     "output_type": "stream",
     "text": [
      "train at epoch 50/200, loss=0.402287\n"
     ]
    },
    {
     "name": "stderr",
     "output_type": "stream",
     "text": [
      " 26%|██████████████████████████████▌                                                                                         | 51/200 [00:15<00:44,  3.36it/s]"
     ]
    },
    {
     "name": "stdout",
     "output_type": "stream",
     "text": [
      "epoch = 51: current loss = 0.319382 (best loss = 0.319382)\n"
     ]
    },
    {
     "name": "stderr",
     "output_type": "stream",
     "text": [
      " 28%|█████████████████████████████████                                                                                       | 55/200 [00:16<00:42,  3.42it/s]"
     ]
    },
    {
     "name": "stdout",
     "output_type": "stream",
     "text": [
      "train at epoch 55/200, loss=0.294139\n",
      "epoch = 55: current loss = 0.294139 (best loss = 0.294139)\n"
     ]
    },
    {
     "name": "stderr",
     "output_type": "stream",
     "text": [
      " 30%|███████████████████████████████████▍                                                                                    | 59/200 [00:17<00:40,  3.45it/s]"
     ]
    },
    {
     "name": "stdout",
     "output_type": "stream",
     "text": [
      "epoch = 59: current loss = 0.290089 (best loss = 0.290089)\n"
     ]
    },
    {
     "name": "stderr",
     "output_type": "stream",
     "text": [
      " 30%|████████████████████████████████████                                                                                    | 60/200 [00:18<00:39,  3.50it/s]"
     ]
    },
    {
     "name": "stdout",
     "output_type": "stream",
     "text": [
      "train at epoch 60/200, loss=0.325509\n"
     ]
    },
    {
     "name": "stderr",
     "output_type": "stream",
     "text": [
      " 32%|█████████████████████████████████████▊                                                                                  | 63/200 [00:19<00:39,  3.43it/s]"
     ]
    },
    {
     "name": "stdout",
     "output_type": "stream",
     "text": [
      "epoch = 63: current loss = 0.250182 (best loss = 0.250182)\n"
     ]
    },
    {
     "name": "stderr",
     "output_type": "stream",
     "text": [
      " 32%|███████████████████████████████████████                                                                                 | 65/200 [00:19<00:39,  3.38it/s]"
     ]
    },
    {
     "name": "stdout",
     "output_type": "stream",
     "text": [
      "train at epoch 65/200, loss=0.240137\n",
      "epoch = 65: current loss = 0.240137 (best loss = 0.240137)\n"
     ]
    },
    {
     "name": "stderr",
     "output_type": "stream",
     "text": [
      " 33%|███████████████████████████████████████▌                                                                                | 66/200 [00:19<00:39,  3.38it/s]"
     ]
    },
    {
     "name": "stdout",
     "output_type": "stream",
     "text": [
      "epoch = 66: current loss = 0.217662 (best loss = 0.217662)\n"
     ]
    },
    {
     "name": "stderr",
     "output_type": "stream",
     "text": [
      " 34%|████████████████████████████████████████▏                                                                               | 67/200 [00:20<00:39,  3.37it/s]"
     ]
    },
    {
     "name": "stdout",
     "output_type": "stream",
     "text": [
      "epoch = 67: current loss = 0.195527 (best loss = 0.195527)\n"
     ]
    },
    {
     "name": "stderr",
     "output_type": "stream",
     "text": [
      " 35%|██████████████████████████████████████████                                                                              | 70/200 [00:21<00:38,  3.37it/s]"
     ]
    },
    {
     "name": "stdout",
     "output_type": "stream",
     "text": [
      "train at epoch 70/200, loss=0.319725\n"
     ]
    },
    {
     "name": "stderr",
     "output_type": "stream",
     "text": [
      " 38%|█████████████████████████████████████████████                                                                           | 75/200 [00:22<00:36,  3.41it/s]"
     ]
    },
    {
     "name": "stdout",
     "output_type": "stream",
     "text": [
      "train at epoch 75/200, loss=0.288447\n"
     ]
    },
    {
     "name": "stderr",
     "output_type": "stream",
     "text": [
      " 39%|██████████████████████████████████████████████▊                                                                         | 78/200 [00:23<00:35,  3.44it/s]"
     ]
    }
   ],
   "source": [
    "time_all = []\n",
    "for run in range(5):\n",
    "    setup_seed(seeds[run])\n",
    "    print(\"running an experiment with the {} model\".format(opts.model))\n",
    "    print(\"run {} / {}\".format(run + 1, opts.num_run))\n",
    "\n",
    "    # get train_gt, val_gt and test_gt\n",
    "    train_gt, val_gt, test_gt = sample_gt(\n",
    "            gt, \n",
    "            train_samples_per_class=30,  # 每类30个训练样本\n",
    "            val_samples_per_class=10,    # 每类10个验证样本\n",
    "            seed=seeds[run]\n",
    "        )\n",
    "\n",
    "# 设置数据加载器\n",
    "    train_loader, val_loader = setup_dataloaders(\n",
    "        image=image,\n",
    "        train_gt=train_gt,\n",
    "        val_gt=val_gt,\n",
    "        opts=opts,\n",
    "        seed=seeds[run]\n",
    "    )\n",
    "\n",
    "    # load model and loss\n",
    "    model = get_model(opts.model, opts.dataset_name, opts.patch_size)\n",
    "    model = model.to(device)\n",
    "    if run == 0:\n",
    "        split_info_print(train_gt, val_gt, test_gt, labels)\n",
    "        print(\"network information:\")\n",
    "        with torch.no_grad():\n",
    "            input_shape = (1, num_bands, opts.patch_size, opts.patch_size)\n",
    "            summary(model, input_shape)\n",
    "\n",
    "    model = model.to(device)\n",
    "    # print(model)\n",
    "    optimizer, scheduler = load_scheduler(opts.model, model)\n",
    "\n",
    "    criterion = nn.CrossEntropyLoss()\n",
    "\n",
    "    # where to save checkpoint model\n",
    "    model_dir = \"./checkpoints/\" + opts.model + '/' + opts.dataset_name + '/' + str(run)\n",
    "\n",
    "    try:\n",
    "        train(model, optimizer, criterion, train_loader, val_loader, opts.epoch, model_dir, device, scheduler)\n",
    "    except KeyboardInterrupt:\n",
    "        print('\"ctrl+c\" is pused, the training is over')\n",
    "    start = time.time()\n",
    "    # test the model\n",
    "    probabilities = test(model, model_dir, image, opts.patch_size, num_classes, device)\n",
    "\n",
    "    prediction = np.argmax(probabilities, axis=-1)\n",
    "    end = time.time()\n",
    "    test_time = end - start\n",
    "    time_all.append(test_time)\n",
    "    # computing metrics\n",
    "    run_results = metrics(prediction, test_gt, n_classes=num_classes)  # only for test set\n",
    "    results.append(run_results)\n",
    "    show_results(run_results, label_values=labels)\n",
    "\n",
    "    # draw the classification map\n",
    "    # Draw(model,image,gt,opts.patch_size,opts.dataset_name,opts.model,num_classes)\n",
    "if opts.num_run > 1:\n",
    "        show_results(results, label_values=labels, agregated=True)"
   ]
  },
  {
   "cell_type": "code",
   "execution_count": null,
   "id": "879f2eb3-47c2-4ec6-99e0-176d59e21fac",
   "metadata": {},
   "outputs": [],
   "source": []
  },
  {
   "cell_type": "code",
   "execution_count": null,
   "id": "fe8f929d-bd5c-4af9-af8b-680465bb66e8",
   "metadata": {},
   "outputs": [],
   "source": []
  }
 ],
 "metadata": {
  "kernelspec": {
   "display_name": "Python 3 (ipykernel)",
   "language": "python",
   "name": "python3"
  },
  "language_info": {
   "codemirror_mode": {
    "name": "ipython",
    "version": 3
   },
   "file_extension": ".py",
   "mimetype": "text/x-python",
   "name": "python",
   "nbconvert_exporter": "python",
   "pygments_lexer": "ipython3",
   "version": "3.10.16"
  }
 },
 "nbformat": 4,
 "nbformat_minor": 5
}
