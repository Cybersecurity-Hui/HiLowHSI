{
 "cells": [
  {
   "cell_type": "code",
   "execution_count": 1,
   "id": "23bbcb76-c586-4ff3-a3d3-6e22106f5394",
   "metadata": {},
   "outputs": [],
   "source": [
    "import argparse\n",
    "import numpy as np\n",
    "import torch.nn as nn\n",
    "import torch.utils.data\n",
    "from torchsummary import summary\n",
    "from utils.dataset import load_mat_hsi, sample_gt, HSIDataset\n",
    "from utils.utils import split_info_print, metrics, show_results\n",
    "from utils.scheduler import load_scheduler\n",
    "from models.get_model import get_model\n",
    "from train import train, test\n",
    "from utils.utils import Draw\n",
    "import time\n",
    "from sklearn.utils import shuffle\n",
    "from tqdm import tqdm\n",
    "import torch.backends.cudnn as cudnn\n",
    "import os\n",
    "import random"
   ]
  },
  {
   "cell_type": "code",
   "execution_count": 2,
   "id": "dc27ae97-95a5-4fbf-8a98-c8d20a831f75",
   "metadata": {},
   "outputs": [
    {
     "name": "stdout",
     "output_type": "stream",
     "text": [
      "experiments will run on GPU device 0\n",
      "model = gscvit\n",
      "dataset = UP\n",
      "dataset folder = ../data\n",
      "patch size = 8\n",
      "batch size = 128\n",
      "total epoch = 200\n",
      "0.01 for training, 0.01 for validation and 0.98 testing\n"
     ]
    }
   ],
   "source": [
    "parser = argparse.ArgumentParser(description=\"run patch-based HSI classification\")\n",
    "parser.add_argument(\"--model\", type=str, default='gscvit') # model name\n",
    "parser.add_argument(\"--dataset_name\", type=str, default=\"UP\") # dataset name\n",
    "parser.add_argument(\"--dataset_dir\", type=str, default=\"../data\") # dataset dir\n",
    "parser.add_argument(\"--device\", type=str, default=\"0\")\n",
    "parser.add_argument(\"--patch_size\", type=int, default=8) # patch_size\n",
    "parser.add_argument(\"--num_run\", type=int, default=5)\n",
    "parser.add_argument(\"--epoch\", type=int, default=200)\n",
    "parser.add_argument(\"--bs\", type=int, default=128)  # bs = batch size\n",
    "parser.add_argument(\"--ratio\", type=float, default=0.02) # ratio of training + validation sample\n",
    "\n",
    "opts,_ = parser.parse_known_args()\n",
    "\n",
    "device = torch.device(\"cuda:{}\".format(opts.device))\n",
    "\n",
    "# print parameters\n",
    "print(\"experiments will run on GPU device {}\".format(opts.device))\n",
    "print(\"model = {}\".format(opts.model))\n",
    "print(\"dataset = {}\".format(opts.dataset_name))\n",
    "print(\"dataset folder = {}\".format(opts.dataset_dir))\n",
    "print(\"patch size = {}\".format(opts.patch_size))\n",
    "print(\"batch size = {}\".format(opts.bs))\n",
    "print(\"total epoch = {}\".format(opts.epoch))\n",
    "print(\"{} for training, {} for validation and {} testing\".format(opts.ratio / 2, opts.ratio / 2, 1 - opts.ratio))\n",
    "\n",
    "# load data\n",
    "image, gt, labels = load_mat_hsi(opts.dataset_name, opts.dataset_dir)\n",
    "\n",
    "num_classes = len(labels)\n",
    "\n",
    "num_bands = image.shape[-1]\n",
    "\n",
    "# random seeds\n",
    "seeds = [202401, 202402, 202403, 202404, 202405, 202406, 202407, 202408, 202409, 202410]\n",
    "\n",
    "# empty list to storing results\n",
    "results = []\n"
   ]
  },
  {
   "cell_type": "code",
   "execution_count": 3,
   "id": "1f93d834-5fcc-4b79-be49-86dc0c1cf616",
   "metadata": {},
   "outputs": [],
   "source": [
    "def setup_seed(seed):\n",
    "    # PyTorch CPU随机种子\n",
    "    torch.manual_seed(seed)\n",
    "    # 所有GPU的随机种子\n",
    "    torch.cuda.manual_seed_all(seed)\n",
    "    # Python哈希种子（影响字典等数据结构的行为）\n",
    "    os.environ['PYTHONHASHSEED'] = str(seed)\n",
    "    # NumPy随机种子\n",
    "    np.random.seed(seed)\n",
    "    # Python内置随机种子\n",
    "    random.seed(seed)\n",
    "    # 启用确定性算法（降低性能但保证可重复）\n",
    "    torch.backends.cudnn.deterministic = True\n",
    "    # 关闭自动优化（固定卷积算法选择）\n",
    "    torch.backends.cudnn.benchmark = False"
   ]
  },
  {
   "cell_type": "code",
   "execution_count": 4,
   "id": "80ce6a6e-1014-4dd4-a97c-6dde9d4cedf3",
   "metadata": {},
   "outputs": [],
   "source": [
    "def setup_dataloaders(image, train_gt, val_gt, opts, seed):\n",
    "    \"\"\"\n",
    "    设置数据加载器\n",
    "    \"\"\"\n",
    "    # 创建数据集\n",
    "    train_set = HSIDataset(image, train_gt, patch_size=opts.patch_size, data_aug=True)\n",
    "    \n",
    "    val_set = HSIDataset(image, val_gt, patch_size=opts.patch_size, data_aug=True)\n",
    "\n",
    "    # 创建数据加载器\n",
    "    generator = torch.Generator()\n",
    "    generator.manual_seed(seed)\n",
    "\n",
    "    train_loader = torch.utils.data.DataLoader(\n",
    "        dataset=train_set,\n",
    "        batch_size=opts.bs,\n",
    "        shuffle=True,\n",
    "        drop_last=False,\n",
    "        generator=generator,\n",
    "        worker_init_fn=lambda worker_id: np.random.seed(seed + worker_id)\n",
    "    )\n",
    "\n",
    "    val_loader = torch.utils.data.DataLoader(\n",
    "        dataset=val_set,\n",
    "        batch_size=opts.bs,\n",
    "        shuffle=False,\n",
    "        drop_last=False\n",
    "    )\n",
    "\n",
    "    return train_loader, val_loader"
   ]
  },
  {
   "cell_type": "code",
   "execution_count": 5,
   "id": "e43dab51-f350-47be-998e-6ea00f70e15a",
   "metadata": {
    "scrolled": true
   },
   "outputs": [
    {
     "name": "stdout",
     "output_type": "stream",
     "text": [
      "running an experiment with the gscvit model\n",
      "run 1 / 5\n",
      "目标: 每类30个训练样本, 10个验证样本\n",
      "------------------------------------------------------------\n",
      "类别 0: 训练集 30样本, 验证集 10样本, 测试集 6591样本\n",
      "类别 1: 训练集 30样本, 验证集 10样本, 测试集 18609样本\n",
      "类别 2: 训练集 30样本, 验证集 10样本, 测试集 2059样本\n",
      "类别 3: 训练集 30样本, 验证集 10样本, 测试集 3024样本\n",
      "类别 4: 训练集 30样本, 验证集 10样本, 测试集 1305样本\n",
      "类别 5: 训练集 30样本, 验证集 10样本, 测试集 4989样本\n",
      "类别 6: 训练集 30样本, 验证集 10样本, 测试集 1290样本\n",
      "类别 7: 训练集 30样本, 验证集 10样本, 测试集 3642样本\n",
      "类别 8: 训练集 30样本, 验证集 10样本, 测试集 907样本\n",
      "\n",
      "验证采样结果:\n",
      "------------------------------------------------------------\n",
      "类别                               训练集        验证集        测试集\n",
      "------------------------------------------------------------\n",
      "name1                             30         10       6591\n",
      "name2                             30         10      18609\n",
      "name3                             30         10       2059\n",
      "name4                             30         10       3024\n",
      "name5                             30         10       1305\n",
      "name6                             30         10       4989\n",
      "name7                             30         10       1290\n",
      "name8                             30         10       3642\n",
      "name9                             30         10        907\n",
      "network information:\n",
      "----------------------------------------------------------------\n",
      "        Layer (type)               Output Shape         Param #\n",
      "================================================================\n",
      "            Conv2d-1            [-1, 256, 8, 8]          26,624\n",
      "       BatchNorm2d-2            [-1, 256, 8, 8]             512\n",
      "              ReLU-3            [-1, 256, 8, 8]               0\n",
      "SpectralCalibration-4            [-1, 256, 8, 8]               0\n",
      "       BatchNorm2d-5            [-1, 256, 8, 8]             512\n",
      "              ReLU-6            [-1, 256, 8, 8]               0\n",
      "            Conv2d-7            [-1, 128, 8, 8]           2,176\n",
      "            Conv2d-8            [-1, 128, 8, 8]           9,344\n",
      "       BatchNorm2d-9            [-1, 128, 8, 8]             256\n",
      "             ReLU-10            [-1, 128, 8, 8]               0\n",
      "              GSC-11            [-1, 128, 8, 8]               0\n",
      "    ChanLayerNorm-12            [-1, 128, 8, 8]               0\n",
      "           Conv1d-13               [-1, 48, 17]           6,144\n",
      "          Softmax-14            [-1, 1, 17, 17]               0\n",
      "          Dropout-15            [-1, 1, 17, 17]               0\n",
      "        LayerNorm-16             [-1, 1, 4, 16]              32\n",
      "             GELU-17             [-1, 1, 4, 16]               0\n",
      "        Rearrange-18                [-1, 16, 4]               0\n",
      "           Conv1d-19                [-1, 32, 4]             544\n",
      "        Rearrange-20             [-1, 1, 4, 32]               0\n",
      "          Softmax-21              [-1, 1, 4, 4]               0\n",
      "          Dropout-22              [-1, 1, 4, 4]               0\n",
      "           Conv2d-23            [-1, 128, 8, 8]           2,176\n",
      "          Dropout-24            [-1, 128, 8, 8]               0\n",
      "             GSSA-25            [-1, 128, 8, 8]               0\n",
      "          PreNorm-26            [-1, 128, 8, 8]               0\n",
      "    ChanLayerNorm-27            [-1, 128, 8, 8]               0\n",
      "      Transformer-28            [-1, 128, 8, 8]               0\n",
      "           Conv2d-29            [-1, 128, 8, 8]          16,512\n",
      "      BatchNorm2d-30            [-1, 128, 8, 8]             256\n",
      "             ReLU-31            [-1, 128, 8, 8]               0\n",
      "           Conv2d-32             [-1, 64, 8, 8]             576\n",
      "           Conv2d-33             [-1, 64, 8, 8]           2,368\n",
      "      BatchNorm2d-34             [-1, 64, 8, 8]             128\n",
      "             ReLU-35             [-1, 64, 8, 8]               0\n",
      "              GSC-36             [-1, 64, 8, 8]               0\n",
      "    ChanLayerNorm-37             [-1, 64, 8, 8]               0\n",
      "           Conv1d-38               [-1, 48, 17]           3,072\n",
      "          Softmax-39            [-1, 1, 17, 17]               0\n",
      "          Dropout-40            [-1, 1, 17, 17]               0\n",
      "        LayerNorm-41             [-1, 1, 4, 16]              32\n",
      "             GELU-42             [-1, 1, 4, 16]               0\n",
      "        Rearrange-43                [-1, 16, 4]               0\n",
      "           Conv1d-44                [-1, 32, 4]             544\n",
      "        Rearrange-45             [-1, 1, 4, 32]               0\n",
      "          Softmax-46              [-1, 1, 4, 4]               0\n",
      "          Dropout-47              [-1, 1, 4, 4]               0\n",
      "           Conv2d-48             [-1, 64, 8, 8]           1,088\n",
      "          Dropout-49             [-1, 64, 8, 8]               0\n",
      "             GSSA-50             [-1, 64, 8, 8]               0\n",
      "          PreNorm-51             [-1, 64, 8, 8]               0\n",
      "    ChanLayerNorm-52             [-1, 64, 8, 8]               0\n",
      "      Transformer-53             [-1, 64, 8, 8]               0\n",
      "           Conv2d-54             [-1, 64, 8, 8]           4,160\n",
      "      BatchNorm2d-55             [-1, 64, 8, 8]             128\n",
      "             ReLU-56             [-1, 64, 8, 8]               0\n",
      "           Reduce-57                   [-1, 64]               0\n",
      "        LayerNorm-58                   [-1, 64]             128\n",
      "           Linear-59                    [-1, 9]             585\n",
      "================================================================\n",
      "Total params: 77,897\n",
      "Trainable params: 77,897\n",
      "Non-trainable params: 0\n",
      "----------------------------------------------------------------\n",
      "Input size (MB): 0.03\n",
      "Forward/backward pass size (MB): 2.19\n",
      "Params size (MB): 0.30\n",
      "Estimated Total Size (MB): 2.51\n",
      "----------------------------------------------------------------\n"
     ]
    },
    {
     "name": "stderr",
     "output_type": "stream",
     "text": [
      "  0%|▌                                                                                                                           | 1/200 [00:00<01:34,  2.11it/s]"
     ]
    },
    {
     "name": "stdout",
     "output_type": "stream",
     "text": [
      "train at epoch 1/200, loss=2.428562\n",
      "epoch = 1: best OA = 0.1111, loss = 2.428562\n",
      "epoch = 1: current loss = 2.428562 (best loss = 2.428562)\n",
      "epoch = 2: best OA = 0.1111, loss = 1.725430\n",
      "epoch = 2: current loss = 1.725430 (best loss = 1.725430)\n"
     ]
    },
    {
     "name": "stderr",
     "output_type": "stream",
     "text": [
      "  2%|███                                                                                                                         | 5/200 [00:00<00:26,  7.23it/s]"
     ]
    },
    {
     "name": "stdout",
     "output_type": "stream",
     "text": [
      "epoch = 3: best OA = 0.1889, loss = 1.446032\n",
      "epoch = 3: current loss = 1.446032 (best loss = 1.446032)\n",
      "epoch = 4: current loss = 1.213050 (best loss = 1.213050)\n",
      "train at epoch 5/200, loss=1.129685\n",
      "epoch = 5: current loss = 1.129685 (best loss = 1.129685)\n"
     ]
    },
    {
     "name": "stderr",
     "output_type": "stream",
     "text": [
      "  4%|████▎                                                                                                                       | 7/200 [00:00<00:21,  8.83it/s]"
     ]
    },
    {
     "name": "stdout",
     "output_type": "stream",
     "text": [
      "epoch = 6: current loss = 1.121097 (best loss = 1.121097)\n",
      "epoch = 7: current loss = 1.009536 (best loss = 1.009536)\n"
     ]
    },
    {
     "name": "stderr",
     "output_type": "stream",
     "text": [
      "  6%|██████▊                                                                                                                    | 11/200 [00:01<00:18, 10.46it/s]"
     ]
    },
    {
     "name": "stdout",
     "output_type": "stream",
     "text": [
      "epoch = 9: current loss = 0.820491 (best loss = 0.820491)\n",
      "train at epoch 10/200, loss=0.826428\n",
      "epoch = 10: best OA = 0.2111, loss = 0.826428\n",
      "epoch = 11: best OA = 0.2333, loss = 0.773180\n",
      "epoch = 11: current loss = 0.773180 (best loss = 0.773180)\n"
     ]
    },
    {
     "name": "stderr",
     "output_type": "stream",
     "text": [
      "  6%|███████▉                                                                                                                   | 13/200 [00:01<00:17, 10.90it/s]"
     ]
    },
    {
     "name": "stdout",
     "output_type": "stream",
     "text": [
      "epoch = 12: best OA = 0.3222, loss = 0.770780\n",
      "epoch = 12: current loss = 0.770780 (best loss = 0.770780)\n",
      "epoch = 13: current loss = 0.717329 (best loss = 0.717329)\n",
      "epoch = 14: best OA = 0.3556, loss = 0.853958\n"
     ]
    },
    {
     "name": "stderr",
     "output_type": "stream",
     "text": [
      "  8%|█████████▏                                                                                                                 | 15/200 [00:01<00:16, 11.26it/s]"
     ]
    },
    {
     "name": "stdout",
     "output_type": "stream",
     "text": [
      "train at epoch 15/200, loss=0.816652\n",
      "epoch = 15: best OA = 0.3889, loss = 0.816652\n",
      "epoch = 16: best OA = 0.4556, loss = 0.657204\n",
      "epoch = 16: current loss = 0.657204 (best loss = 0.657204)\n",
      "epoch = 17: best OA = 0.4889, loss = 0.580714\n",
      "epoch = 17: current loss = 0.580714 (best loss = 0.580714)\n"
     ]
    },
    {
     "name": "stderr",
     "output_type": "stream",
     "text": [
      " 10%|███████████▋                                                                                                               | 19/200 [00:02<00:15, 11.42it/s]"
     ]
    },
    {
     "name": "stdout",
     "output_type": "stream",
     "text": [
      "epoch = 18: best OA = 0.5889, loss = 0.734310\n",
      "epoch = 19: best OA = 0.6333, loss = 0.586981\n",
      "train at epoch 20/200, loss=0.535312\n",
      "epoch = 20: best OA = 0.6556, loss = 0.535312\n",
      "epoch = 20: current loss = 0.535312 (best loss = 0.535312)\n"
     ]
    },
    {
     "name": "stderr",
     "output_type": "stream",
     "text": [
      " 12%|██████████████▏                                                                                                            | 23/200 [00:02<00:15, 11.20it/s]"
     ]
    },
    {
     "name": "stdout",
     "output_type": "stream",
     "text": [
      "epoch = 22: best OA = 0.6556, loss = 0.607126\n",
      "epoch = 23: best OA = 0.7444, loss = 0.443095\n",
      "epoch = 23: current loss = 0.443095 (best loss = 0.443095)\n",
      "epoch = 24: best OA = 0.7889, loss = 0.478813\n"
     ]
    },
    {
     "name": "stderr",
     "output_type": "stream",
     "text": [
      " 12%|███████████████▍                                                                                                           | 25/200 [00:02<00:15, 11.42it/s]"
     ]
    },
    {
     "name": "stdout",
     "output_type": "stream",
     "text": [
      "train at epoch 25/200, loss=0.473851\n",
      "epoch = 25: best OA = 0.8000, loss = 0.473851\n",
      "epoch = 26: best OA = 0.8000, loss = 0.518911\n",
      "epoch = 27: best OA = 0.8333, loss = 0.508677\n"
     ]
    },
    {
     "name": "stderr",
     "output_type": "stream",
     "text": [
      " 14%|█████████████████▊                                                                                                         | 29/200 [00:02<00:15, 11.08it/s]"
     ]
    },
    {
     "name": "stdout",
     "output_type": "stream",
     "text": [
      "epoch = 28: best OA = 0.8667, loss = 0.443251\n",
      "train at epoch 30/200, loss=0.429924\n"
     ]
    },
    {
     "name": "stderr",
     "output_type": "stream",
     "text": [
      " 16%|███████████████████                                                                                                        | 31/200 [00:03<00:16, 10.35it/s]"
     ]
    },
    {
     "name": "stdout",
     "output_type": "stream",
     "text": [
      "epoch = 30: current loss = 0.429924 (best loss = 0.429924)\n",
      "epoch = 31: current loss = 0.393374 (best loss = 0.393374)\n"
     ]
    },
    {
     "name": "stderr",
     "output_type": "stream",
     "text": [
      " 16%|████████████████████▎                                                                                                      | 33/200 [00:03<00:16, 10.11it/s]"
     ]
    },
    {
     "name": "stdout",
     "output_type": "stream",
     "text": [
      "epoch = 32: current loss = 0.366055 (best loss = 0.366055)\n",
      "epoch = 33: best OA = 0.8778, loss = 0.382992\n"
     ]
    },
    {
     "name": "stderr",
     "output_type": "stream",
     "text": [
      " 18%|█████████████████████▌                                                                                                     | 35/200 [00:03<00:17,  9.61it/s]"
     ]
    },
    {
     "name": "stdout",
     "output_type": "stream",
     "text": [
      "epoch = 34: best OA = 0.8778, loss = 0.389648\n",
      "train at epoch 35/200, loss=0.457788\n",
      "epoch = 35: best OA = 0.8778, loss = 0.457788\n"
     ]
    },
    {
     "name": "stderr",
     "output_type": "stream",
     "text": [
      " 18%|██████████████████████▊                                                                                                    | 37/200 [00:03<00:17,  9.28it/s]"
     ]
    },
    {
     "name": "stdout",
     "output_type": "stream",
     "text": [
      "epoch = 36: best OA = 0.8778, loss = 0.303943\n",
      "epoch = 36: current loss = 0.303943 (best loss = 0.303943)\n",
      "epoch = 37: current loss = 0.284085 (best loss = 0.284085)\n"
     ]
    },
    {
     "name": "stderr",
     "output_type": "stream",
     "text": [
      " 20%|███████████████████████▉                                                                                                   | 39/200 [00:04<00:17,  9.11it/s]"
     ]
    },
    {
     "name": "stdout",
     "output_type": "stream",
     "text": [
      "epoch = 38: best OA = 0.9000, loss = 0.254412\n",
      "epoch = 38: current loss = 0.254412 (best loss = 0.254412)\n",
      "epoch = 39: best OA = 0.9111, loss = 0.341413\n"
     ]
    },
    {
     "name": "stderr",
     "output_type": "stream",
     "text": [
      " 20%|████████████████████████▌                                                                                                  | 40/200 [00:04<00:17,  9.02it/s]"
     ]
    },
    {
     "name": "stdout",
     "output_type": "stream",
     "text": [
      "train at epoch 40/200, loss=0.337031\n",
      "epoch = 40: best OA = 0.9111, loss = 0.337031\n"
     ]
    },
    {
     "name": "stderr",
     "output_type": "stream",
     "text": [
      " 23%|████████████████████████████▎                                                                                              | 46/200 [00:04<00:14, 10.30it/s]"
     ]
    },
    {
     "name": "stdout",
     "output_type": "stream",
     "text": [
      "train at epoch 45/200, loss=0.254860\n"
     ]
    },
    {
     "name": "stderr",
     "output_type": "stream",
     "text": [
      " 24%|█████████████████████████████▌                                                                                             | 48/200 [00:05<00:14, 10.15it/s]"
     ]
    },
    {
     "name": "stdout",
     "output_type": "stream",
     "text": [
      "epoch = 48: best OA = 0.9111, loss = 0.294253\n",
      "train at epoch 50/200, loss=0.266905\n",
      "epoch = 50: best OA = 0.9222, loss = 0.266905\n"
     ]
    },
    {
     "name": "stderr",
     "output_type": "stream",
     "text": [
      " 27%|█████████████████████████████████▏                                                                                         | 54/200 [00:05<00:14, 10.28it/s]"
     ]
    },
    {
     "name": "stdout",
     "output_type": "stream",
     "text": [
      "epoch = 52: current loss = 0.250370 (best loss = 0.250370)\n"
     ]
    },
    {
     "name": "stderr",
     "output_type": "stream",
     "text": [
      " 28%|██████████████████████████████████▍                                                                                        | 56/200 [00:05<00:14,  9.85it/s]"
     ]
    },
    {
     "name": "stdout",
     "output_type": "stream",
     "text": [
      "train at epoch 55/200, loss=0.273476\n",
      "epoch = 55: best OA = 0.9333, loss = 0.273476\n",
      "epoch = 56: best OA = 0.9333, loss = 0.348710\n"
     ]
    },
    {
     "name": "stderr",
     "output_type": "stream",
     "text": [
      " 30%|████████████████████████████████████▎                                                                                      | 59/200 [00:06<00:14, 10.03it/s]"
     ]
    },
    {
     "name": "stdout",
     "output_type": "stream",
     "text": [
      "epoch = 57: current loss = 0.204181 (best loss = 0.204181)\n"
     ]
    },
    {
     "name": "stderr",
     "output_type": "stream",
     "text": [
      " 30%|████████████████████████████████████▉                                                                                      | 60/200 [00:06<00:14,  9.97it/s]"
     ]
    },
    {
     "name": "stdout",
     "output_type": "stream",
     "text": [
      "train at epoch 60/200, loss=0.208975\n"
     ]
    },
    {
     "name": "stderr",
     "output_type": "stream",
     "text": [
      " 31%|██████████████████████████████████████▏                                                                                    | 62/200 [00:06<00:13, 10.00it/s]"
     ]
    },
    {
     "name": "stdout",
     "output_type": "stream",
     "text": [
      "epoch = 62: current loss = 0.202581 (best loss = 0.202581)\n",
      "epoch = 64: best OA = 0.9333, loss = 0.220690\n"
     ]
    },
    {
     "name": "stderr",
     "output_type": "stream",
     "text": [
      " 33%|████████████████████████████████████████▌                                                                                  | 66/200 [00:06<00:13, 10.14it/s]"
     ]
    },
    {
     "name": "stdout",
     "output_type": "stream",
     "text": [
      "train at epoch 65/200, loss=0.307624\n"
     ]
    },
    {
     "name": "stderr",
     "output_type": "stream",
     "text": [
      " 34%|█████████████████████████████████████████▊                                                                                 | 68/200 [00:06<00:13,  9.87it/s]"
     ]
    },
    {
     "name": "stdout",
     "output_type": "stream",
     "text": [
      "epoch = 67: current loss = 0.184440 (best loss = 0.184440)\n",
      "epoch = 68: best OA = 0.9333, loss = 0.334845\n"
     ]
    },
    {
     "name": "stderr",
     "output_type": "stream",
     "text": [
      " 36%|███████████████████████████████████████████▋                                                                               | 71/200 [00:07<00:12, 10.17it/s]"
     ]
    },
    {
     "name": "stdout",
     "output_type": "stream",
     "text": [
      "epoch = 69: best OA = 0.9444, loss = 0.298304\n",
      "train at epoch 70/200, loss=0.194212\n"
     ]
    },
    {
     "name": "stderr",
     "output_type": "stream",
     "text": [
      " 36%|████████████████████████████████████████████▉                                                                              | 73/200 [00:07<00:12, 10.19it/s]"
     ]
    },
    {
     "name": "stdout",
     "output_type": "stream",
     "text": [
      "epoch = 72: current loss = 0.153545 (best loss = 0.153545)\n"
     ]
    },
    {
     "name": "stderr",
     "output_type": "stream",
     "text": [
      " 38%|██████████████████████████████████████████████▏                                                                            | 75/200 [00:07<00:12, 10.07it/s]"
     ]
    },
    {
     "name": "stdout",
     "output_type": "stream",
     "text": [
      "train at epoch 75/200, loss=0.231907\n",
      "epoch = 75: best OA = 0.9556, loss = 0.231907\n"
     ]
    },
    {
     "name": "stderr",
     "output_type": "stream",
     "text": [
      " 40%|█████████████████████████████████████████████████▊                                                                         | 81/200 [00:08<00:11, 10.65it/s]"
     ]
    },
    {
     "name": "stdout",
     "output_type": "stream",
     "text": [
      "train at epoch 80/200, loss=0.230127\n"
     ]
    },
    {
     "name": "stderr",
     "output_type": "stream",
     "text": [
      " 44%|█████████████████████████████████████████████████████▌                                                                     | 87/200 [00:08<00:10, 10.78it/s]"
     ]
    },
    {
     "name": "stdout",
     "output_type": "stream",
     "text": [
      "train at epoch 85/200, loss=0.242596\n"
     ]
    },
    {
     "name": "stderr",
     "output_type": "stream",
     "text": [
      " 46%|███████████████████████████████████████████████████████▉                                                                   | 91/200 [00:09<00:10, 10.66it/s]"
     ]
    },
    {
     "name": "stdout",
     "output_type": "stream",
     "text": [
      "epoch = 89: current loss = 0.133978 (best loss = 0.133978)\n",
      "train at epoch 90/200, loss=0.181533\n"
     ]
    },
    {
     "name": "stderr",
     "output_type": "stream",
     "text": [
      " 46%|█████████████████████████████████████████████████████████▏                                                                 | 93/200 [00:09<00:10, 10.32it/s]"
     ]
    },
    {
     "name": "stdout",
     "output_type": "stream",
     "text": [
      "epoch = 92: best OA = 0.9556, loss = 0.165759\n",
      "epoch = 93: best OA = 0.9556, loss = 0.249829\n"
     ]
    },
    {
     "name": "stderr",
     "output_type": "stream",
     "text": [
      " 48%|██████████████████████████████████████████████████████████▍                                                                | 95/200 [00:09<00:10,  9.96it/s]"
     ]
    },
    {
     "name": "stdout",
     "output_type": "stream",
     "text": [
      "epoch = 94: best OA = 0.9667, loss = 0.107224\n",
      "epoch = 94: current loss = 0.107224 (best loss = 0.107224)\n",
      "train at epoch 95/200, loss=0.175964\n"
     ]
    },
    {
     "name": "stderr",
     "output_type": "stream",
     "text": [
      " 50%|████████████████████████████████████████████████████████████▉                                                              | 99/200 [00:09<00:09, 10.21it/s]"
     ]
    },
    {
     "name": "stdout",
     "output_type": "stream",
     "text": [
      "epoch = 98: current loss = 0.100357 (best loss = 0.100357)\n",
      "train at epoch 100/200, loss=0.274861\n"
     ]
    },
    {
     "name": "stderr",
     "output_type": "stream",
     "text": [
      " 52%|████████████████████████████████████████████████████████████████                                                          | 105/200 [00:10<00:09, 10.41it/s]"
     ]
    },
    {
     "name": "stdout",
     "output_type": "stream",
     "text": [
      "train at epoch 105/200, loss=0.302019\n"
     ]
    },
    {
     "name": "stderr",
     "output_type": "stream",
     "text": [
      " 56%|███████████████████████████████████████████████████████████████████▋                                                      | 111/200 [00:11<00:08, 10.50it/s]"
     ]
    },
    {
     "name": "stdout",
     "output_type": "stream",
     "text": [
      "train at epoch 110/200, loss=0.257060\n"
     ]
    },
    {
     "name": "stderr",
     "output_type": "stream",
     "text": [
      " 58%|███████████████████████████████████████████████████████████████████████▎                                                  | 117/200 [00:11<00:06, 11.87it/s]"
     ]
    },
    {
     "name": "stdout",
     "output_type": "stream",
     "text": [
      "train at epoch 115/200, loss=0.126424\n"
     ]
    },
    {
     "name": "stderr",
     "output_type": "stream",
     "text": [
      " 60%|████████████████████████████████████████████████████████████████████████▌                                                 | 119/200 [00:11<00:06, 11.73it/s]"
     ]
    },
    {
     "name": "stdout",
     "output_type": "stream",
     "text": [
      "epoch = 118: current loss = 0.089712 (best loss = 0.089712)\n",
      "train at epoch 120/200, loss=0.417147\n"
     ]
    },
    {
     "name": "stderr",
     "output_type": "stream",
     "text": [
      " 62%|████████████████████████████████████████████████████████████████████████████▎                                             | 125/200 [00:12<00:06, 10.81it/s]"
     ]
    },
    {
     "name": "stdout",
     "output_type": "stream",
     "text": [
      "epoch = 124: best OA = 0.9667, loss = 0.225920\n",
      "train at epoch 125/200, loss=0.113897\n"
     ]
    },
    {
     "name": "stderr",
     "output_type": "stream",
     "text": [
      " 66%|███████████████████████████████████████████████████████████████████████████████▉                                          | 131/200 [00:12<00:06, 10.77it/s]"
     ]
    },
    {
     "name": "stdout",
     "output_type": "stream",
     "text": [
      "train at epoch 130/200, loss=0.263522\n"
     ]
    },
    {
     "name": "stderr",
     "output_type": "stream",
     "text": [
      " 68%|██████████████████████████████████████████████████████████████████████████████████▎                                       | 135/200 [00:13<00:06, 10.83it/s]"
     ]
    },
    {
     "name": "stdout",
     "output_type": "stream",
     "text": [
      "train at epoch 135/200, loss=0.232171\n"
     ]
    },
    {
     "name": "stderr",
     "output_type": "stream",
     "text": [
      " 70%|██████████████████████████████████████████████████████████████████████████████████████                                    | 141/200 [00:13<00:05, 10.63it/s]"
     ]
    },
    {
     "name": "stdout",
     "output_type": "stream",
     "text": [
      "train at epoch 140/200, loss=0.176639\n"
     ]
    },
    {
     "name": "stderr",
     "output_type": "stream",
     "text": [
      " 72%|████████████████████████████████████████████████████████████████████████████████████████▍                                 | 145/200 [00:14<00:05, 10.53it/s]"
     ]
    },
    {
     "name": "stdout",
     "output_type": "stream",
     "text": [
      "train at epoch 145/200, loss=0.121587\n",
      "epoch = 145: best OA = 0.9667, loss = 0.121587\n"
     ]
    },
    {
     "name": "stderr",
     "output_type": "stream",
     "text": [
      " 76%|████████████████████████████████████████████████████████████████████████████████████████████                              | 151/200 [00:14<00:04, 10.77it/s]"
     ]
    },
    {
     "name": "stdout",
     "output_type": "stream",
     "text": [
      "train at epoch 150/200, loss=0.184233\n"
     ]
    },
    {
     "name": "stderr",
     "output_type": "stream",
     "text": [
      " 78%|██████████████████████████████████████████████████████████████████████████████████████████████▌                           | 155/200 [00:15<00:04, 10.84it/s]"
     ]
    },
    {
     "name": "stdout",
     "output_type": "stream",
     "text": [
      "train at epoch 155/200, loss=0.193220\n",
      "epoch = 156: best OA = 0.9667, loss = 0.096569\n"
     ]
    },
    {
     "name": "stderr",
     "output_type": "stream",
     "text": [
      " 80%|████████████████████████████████████████████████████████████████████████████████████████████████▉                         | 159/200 [00:15<00:03, 10.40it/s]"
     ]
    },
    {
     "name": "stdout",
     "output_type": "stream",
     "text": [
      "epoch = 157: best OA = 0.9778, loss = 0.133281\n",
      "epoch = 159: best OA = 0.9778, loss = 0.155026\n"
     ]
    },
    {
     "name": "stderr",
     "output_type": "stream",
     "text": [
      " 80%|██████████████████████████████████████████████████████████████████████████████████████████████████▏                       | 161/200 [00:15<00:03, 10.32it/s]"
     ]
    },
    {
     "name": "stdout",
     "output_type": "stream",
     "text": [
      "train at epoch 160/200, loss=0.186511\n",
      "epoch = 161: current loss = 0.073748 (best loss = 0.073748)\n"
     ]
    },
    {
     "name": "stderr",
     "output_type": "stream",
     "text": [
      " 82%|███████████████████████████████████████████████████████████████████████████████████████████████████▍                      | 163/200 [00:15<00:03, 10.11it/s]"
     ]
    },
    {
     "name": "stdout",
     "output_type": "stream",
     "text": [
      "epoch = 162: best OA = 0.9778, loss = 0.166162\n",
      "epoch = 163: best OA = 0.9778, loss = 0.077001\n"
     ]
    },
    {
     "name": "stderr",
     "output_type": "stream",
     "text": [
      " 82%|████████████████████████████████████████████████████████████████████████████████████████████████████▋                     | 165/200 [00:16<00:03, 10.34it/s]"
     ]
    },
    {
     "name": "stdout",
     "output_type": "stream",
     "text": [
      "train at epoch 165/200, loss=0.082011\n"
     ]
    },
    {
     "name": "stderr",
     "output_type": "stream",
     "text": [
      " 84%|███████████████████████████████████████████████████████████████████████████████████████████████████████                   | 169/200 [00:16<00:02, 10.56it/s]"
     ]
    },
    {
     "name": "stdout",
     "output_type": "stream",
     "text": [
      "epoch = 167: best OA = 0.9889, loss = 0.083794\n"
     ]
    },
    {
     "name": "stderr",
     "output_type": "stream",
     "text": [
      " 86%|████████████████████████████████████████████████████████████████████████████████████████████████████████▎                 | 171/200 [00:16<00:02, 10.34it/s]"
     ]
    },
    {
     "name": "stdout",
     "output_type": "stream",
     "text": [
      "train at epoch 170/200, loss=0.072496\n",
      "epoch = 170: current loss = 0.072496 (best loss = 0.072496)\n"
     ]
    },
    {
     "name": "stderr",
     "output_type": "stream",
     "text": [
      " 88%|██████████████████████████████████████████████████████████████████████████████████████████████████████████▊               | 175/200 [00:16<00:02, 10.19it/s]"
     ]
    },
    {
     "name": "stdout",
     "output_type": "stream",
     "text": [
      "epoch = 174: current loss = 0.062790 (best loss = 0.062790)\n",
      "train at epoch 175/200, loss=0.075213\n"
     ]
    },
    {
     "name": "stderr",
     "output_type": "stream",
     "text": [
      " 90%|██████████████████████████████████████████████████████████████████████████████████████████████████████████████▍           | 181/200 [00:17<00:01, 11.14it/s]"
     ]
    },
    {
     "name": "stdout",
     "output_type": "stream",
     "text": [
      "train at epoch 180/200, loss=0.367062\n"
     ]
    },
    {
     "name": "stderr",
     "output_type": "stream",
     "text": [
      " 94%|██████████████████████████████████████████████████████████████████████████████████████████████████████████████████        | 187/200 [00:17<00:01, 11.90it/s]"
     ]
    },
    {
     "name": "stdout",
     "output_type": "stream",
     "text": [
      "train at epoch 185/200, loss=0.120718\n",
      "epoch = 187: current loss = 0.055310 (best loss = 0.055310)\n"
     ]
    },
    {
     "name": "stderr",
     "output_type": "stream",
     "text": [
      " 94%|███████████████████████████████████████████████████████████████████████████████████████████████████████████████████▎      | 189/200 [00:18<00:00, 11.50it/s]"
     ]
    },
    {
     "name": "stdout",
     "output_type": "stream",
     "text": [
      "epoch = 188: current loss = 0.041280 (best loss = 0.041280)\n",
      "train at epoch 190/200, loss=0.063892\n"
     ]
    },
    {
     "name": "stderr",
     "output_type": "stream",
     "text": [
      " 98%|████████████████████████████████████████████████████████████████████████████████████████████████████████████████████████▏ | 197/200 [00:18<00:00, 12.64it/s]"
     ]
    },
    {
     "name": "stdout",
     "output_type": "stream",
     "text": [
      "train at epoch 195/200, loss=0.162822\n"
     ]
    },
    {
     "name": "stderr",
     "output_type": "stream",
     "text": [
      "100%|██████████████████████████████████████████████████████████████████████████████████████████████████████████████████████████| 200/200 [00:19<00:00, 10.50it/s]\n"
     ]
    },
    {
     "name": "stdout",
     "output_type": "stream",
     "text": [
      "train at epoch 200/200, loss=0.056381\n"
     ]
    },
    {
     "name": "stderr",
     "output_type": "stream",
     "text": [
      "inference on the HSI: 3256it [00:13, 244.42it/s]                                                                                                                 "
     ]
    },
    {
     "name": "stdout",
     "output_type": "stream",
     "text": [
      "Confusion matrix :\n",
      "[[ 6168     0    14     0     0     0   353    56     0]\n",
      " [    0 16478     0   254     0  1877     0     0     0]\n",
      " [   17     0  1938     0     0     0     0   103     1]\n",
      " [   32    19     0  2944     0     7     0    14     8]\n",
      " [    1     0     0     0  1304     0     0     0     0]\n",
      " [    0   477     0     0     0  4512     0     0     0]\n",
      " [    5     0     0     0     0     0  1284     1     0]\n",
      " [   26     0   129    23     0     0     0  3464     0]\n",
      " [    0     0     0     0     5     0     0     0   902]]---\n",
      "Accuracy : 91.93%\n",
      "---\n",
      "class acc :\n",
      "\tname1: 93.58\n",
      "\tname2: 88.55\n",
      "\tname3: 94.12\n",
      "\tname4: 97.35\n",
      "\tname5: 99.92\n",
      "\tname6: 90.44\n",
      "\tname7: 99.53\n",
      "\tname8: 95.11\n",
      "\tname9: 99.45\n",
      "---\n",
      "AA: 95.34%\n",
      "Kappa: 89.47\n",
      "\n",
      "Agregated results :\n",
      "Confusion matrix :\n",
      "[[6.1680e+03 0.0000e+00 1.4000e+01 0.0000e+00 0.0000e+00 0.0000e+00\n",
      "  3.5300e+02 5.6000e+01 0.0000e+00]\n",
      " [0.0000e+00 1.6478e+04 0.0000e+00 2.5400e+02 0.0000e+00 1.8770e+03\n",
      "  0.0000e+00 0.0000e+00 0.0000e+00]\n",
      " [1.7000e+01 0.0000e+00 1.9380e+03 0.0000e+00 0.0000e+00 0.0000e+00\n",
      "  0.0000e+00 1.0300e+02 1.0000e+00]\n",
      " [3.2000e+01 1.9000e+01 0.0000e+00 2.9440e+03 0.0000e+00 7.0000e+00\n",
      "  0.0000e+00 1.4000e+01 8.0000e+00]\n",
      " [1.0000e+00 0.0000e+00 0.0000e+00 0.0000e+00 1.3040e+03 0.0000e+00\n",
      "  0.0000e+00 0.0000e+00 0.0000e+00]\n",
      " [0.0000e+00 4.7700e+02 0.0000e+00 0.0000e+00 0.0000e+00 4.5120e+03\n",
      "  0.0000e+00 0.0000e+00 0.0000e+00]\n",
      " [5.0000e+00 0.0000e+00 0.0000e+00 0.0000e+00 0.0000e+00 0.0000e+00\n",
      "  1.2840e+03 1.0000e+00 0.0000e+00]\n",
      " [2.6000e+01 0.0000e+00 1.2900e+02 2.3000e+01 0.0000e+00 0.0000e+00\n",
      "  0.0000e+00 3.4640e+03 0.0000e+00]\n",
      " [0.0000e+00 0.0000e+00 0.0000e+00 0.0000e+00 5.0000e+00 0.0000e+00\n",
      "  0.0000e+00 0.0000e+00 9.0200e+02]]---\n",
      "Accuracy: 91.93±0.00\n",
      "---\n",
      "class acc :\n",
      "\tname1: 93.58±0.00\n",
      "\tname2: 88.55±0.00\n",
      "\tname3: 94.12±0.00\n",
      "\tname4: 97.35±0.00\n",
      "\tname5: 99.92±0.00\n",
      "\tname6: 90.44±0.00\n",
      "\tname7: 99.53±0.00\n",
      "\tname8: 95.11±0.00\n",
      "\tname9: 99.45±0.00\n",
      "---\n",
      "AA: 95.34±0.00\n",
      "Kappa: 89.47±0.00\n",
      "\n"
     ]
    },
    {
     "name": "stderr",
     "output_type": "stream",
     "text": [
      "\n"
     ]
    }
   ],
   "source": [
    "time_all = []\n",
    "for run in range(1):\n",
    "    setup_seed(seeds[run])\n",
    "    print(\"running an experiment with the {} model\".format(opts.model))\n",
    "    print(\"run {} / {}\".format(run + 1, opts.num_run))\n",
    "\n",
    "    # get train_gt, val_gt and test_gt\n",
    "    train_gt, val_gt, test_gt = sample_gt(\n",
    "            gt, \n",
    "            train_samples_per_class=30,  # 每类30个训练样本\n",
    "            val_samples_per_class=10,    # 每类10个验证样本\n",
    "            seed=seeds[run]\n",
    "        )\n",
    "\n",
    "# 设置数据加载器\n",
    "    train_loader, val_loader = setup_dataloaders(\n",
    "        image=image,\n",
    "        train_gt=train_gt,\n",
    "        val_gt=val_gt,\n",
    "        opts=opts,\n",
    "        seed=seeds[run]\n",
    "    )\n",
    "\n",
    "    # load model and loss\n",
    "    model = get_model(opts.model, opts.dataset_name, opts.patch_size)\n",
    "    model = model.to(device)\n",
    "    if run == 0:\n",
    "        split_info_print(train_gt, val_gt, test_gt, labels)\n",
    "        print(\"network information:\")\n",
    "        with torch.no_grad():\n",
    "            input_shape = (1, num_bands, opts.patch_size, opts.patch_size)\n",
    "            summary(model, input_shape)\n",
    "\n",
    "    model = model.to(device)\n",
    "    # print(model)\n",
    "    optimizer, scheduler = load_scheduler(opts.model, model)\n",
    "\n",
    "    criterion = nn.CrossEntropyLoss()\n",
    "\n",
    "    # where to save checkpoint model\n",
    "    model_dir = \"./checkpoints/\" + opts.model + '/' + opts.dataset_name + '/' + str(run)\n",
    "\n",
    "    try:\n",
    "        train(model, optimizer, criterion, train_loader, val_loader, opts.epoch, model_dir, device, scheduler)\n",
    "    except KeyboardInterrupt:\n",
    "        print('\"ctrl+c\" is pused, the training is over')\n",
    "    start = time.time()\n",
    "    # test the model\n",
    "    probabilities = test(model, model_dir, image, opts.patch_size, num_classes, device)\n",
    "\n",
    "    prediction = np.argmax(probabilities, axis=-1)\n",
    "    end = time.time()\n",
    "    test_time = end - start\n",
    "    time_all.append(test_time)\n",
    "    # computing metrics\n",
    "    run_results = metrics(prediction, test_gt, n_classes=num_classes)  # only for test set\n",
    "    results.append(run_results)\n",
    "    show_results(run_results, label_values=labels)\n",
    "\n",
    "    # draw the classification map\n",
    "    # Draw(model,image,gt,opts.patch_size,opts.dataset_name,opts.model,num_classes)\n",
    "if opts.num_run > 1:\n",
    "        show_results(results, label_values=labels, agregated=True)"
   ]
  },
  {
   "cell_type": "code",
   "execution_count": null,
   "id": "48047b5a-281e-4475-9f5a-f2853724722d",
   "metadata": {},
   "outputs": [],
   "source": []
  },
  {
   "cell_type": "code",
   "execution_count": null,
   "id": "b6736006-d291-4c5d-b0fe-85c408c4c854",
   "metadata": {},
   "outputs": [],
   "source": []
  }
 ],
 "metadata": {
  "kernelspec": {
   "display_name": "Python 3 (ipykernel)",
   "language": "python",
   "name": "python3"
  },
  "language_info": {
   "codemirror_mode": {
    "name": "ipython",
    "version": 3
   },
   "file_extension": ".py",
   "mimetype": "text/x-python",
   "name": "python",
   "nbconvert_exporter": "python",
   "pygments_lexer": "ipython3",
   "version": "3.10.16"
  }
 },
 "nbformat": 4,
 "nbformat_minor": 5
}
