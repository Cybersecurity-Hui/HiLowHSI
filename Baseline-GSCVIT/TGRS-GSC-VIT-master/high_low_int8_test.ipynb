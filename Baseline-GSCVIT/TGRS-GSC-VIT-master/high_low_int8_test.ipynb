{
 "cells": [
  {
   "cell_type": "code",
   "execution_count": 1,
   "id": "c403a701-35cf-4d39-bcd1-ff8b38a47f59",
   "metadata": {},
   "outputs": [],
   "source": [
    "import argparse\n",
    "import numpy as np\n",
    "import torch.nn as nn\n",
    "import torch.utils.data\n",
    "from torchsummary import summary\n",
    "from utils.dataset import load_mat_hsi, sample_gt, HSIDataset\n",
    "from utils.utils import split_info_print, metrics, show_results\n",
    "from utils.scheduler import load_scheduler\n",
    "from models.get_model import get_model\n",
    "from utils.utils import Draw\n",
    "import time\n",
    "from sklearn.utils import shuffle\n",
    "from tqdm import tqdm\n",
    "import torch.backends.cudnn as cudnn\n",
    "\n",
    "import os\n",
    "from utils.utils import grouper, sliding_window, count_sliding_window"
   ]
  },
  {
   "cell_type": "code",
   "execution_count": 2,
   "id": "2b3fd4b1-e99c-4f78-a5ad-86e7f15dbead",
   "metadata": {},
   "outputs": [
    {
     "name": "stdout",
     "output_type": "stream",
     "text": [
      "experiments will run on GPU device 0\n",
      "model = gscvit_HL_INT\n",
      "dataset = HongHu\n",
      "dataset folder = ../data\n",
      "patch size = 8\n",
      "batch size = 128\n",
      "total epoch = 200\n",
      "0.01 for training, 0.01 for validation and 0.98 testing\n"
     ]
    }
   ],
   "source": [
    "parser = argparse.ArgumentParser(description=\"run patch-based HSI classification\")\n",
    "parser.add_argument(\"--model\", type=str, default='gscvit_HL_INT') # model name\n",
    "parser.add_argument(\"--dataset_name\", type=str, default=\"HongHu\") # dataset name\n",
    "parser.add_argument(\"--dataset_dir\", type=str, default=\"../data\") # dataset dir\n",
    "parser.add_argument(\"--device\", type=str, default=\"0\")\n",
    "parser.add_argument(\"--patch_size\", type=int, default=8) # patch_size\n",
    "parser.add_argument(\"--num_run\", type=int, default=5)\n",
    "parser.add_argument(\"--epoch\", type=int, default=200)\n",
    "parser.add_argument(\"--bs\", type=int, default=128)  # bs = batch size\n",
    "parser.add_argument(\"--ratio\", type=float, default=0.02) # ratio of training + validation sample\n",
    "\n",
    "opts,_ = parser.parse_known_args()\n",
    "\n",
    "device = torch.device(\"cuda:{}\".format(opts.device))\n",
    "\n",
    "# print parameters\n",
    "print(\"experiments will run on GPU device {}\".format(opts.device))\n",
    "print(\"model = {}\".format(opts.model))\n",
    "print(\"dataset = {}\".format(opts.dataset_name))\n",
    "print(\"dataset folder = {}\".format(opts.dataset_dir))\n",
    "print(\"patch size = {}\".format(opts.patch_size))\n",
    "print(\"batch size = {}\".format(opts.bs))\n",
    "print(\"total epoch = {}\".format(opts.epoch))\n",
    "print(\"{} for training, {} for validation and {} testing\".format(opts.ratio / 2, opts.ratio / 2, 1 - opts.ratio))\n",
    "\n",
    "# load data\n",
    "image, gt, labels = load_mat_hsi(opts.dataset_name, opts.dataset_dir)\n",
    "\n",
    "num_classes = len(labels)\n",
    "\n",
    "num_bands = image.shape[-1]\n",
    "\n",
    "# random seeds\n",
    "seeds = [202401, 202402, 202403, 202404, 202405, 202406, 202407, 202408, 202409, 202410]\n",
    "\n",
    "# empty list to storing results\n",
    "results = []\n"
   ]
  },
  {
   "cell_type": "code",
   "execution_count": 3,
   "id": "9ad04d68-7407-4d0e-82a7-2e38732e2a96",
   "metadata": {},
   "outputs": [],
   "source": [
    "def setup_dataloaders(image, train_gt, val_gt, opts, seed):\n",
    "    \"\"\"\n",
    "    设置数据加载器\n",
    "    \"\"\"\n",
    "    # 创建数据集\n",
    "    train_set = HSIDataset(image, train_gt, patch_size=opts.patch_size, data_aug=True)\n",
    "    \n",
    "    val_set = HSIDataset(image, val_gt, patch_size=opts.patch_size, data_aug=True)\n",
    "\n",
    "    # 创建数据加载器\n",
    "    generator = torch.Generator()\n",
    "    generator.manual_seed(seed)\n",
    "\n",
    "    train_loader = torch.utils.data.DataLoader(\n",
    "        dataset=train_set,\n",
    "        batch_size=opts.bs,\n",
    "        shuffle=True,\n",
    "        drop_last=False,\n",
    "        generator=generator,\n",
    "        worker_init_fn=lambda worker_id: np.random.seed(seed + worker_id)\n",
    "    )\n",
    "\n",
    "    val_loader = torch.utils.data.DataLoader(\n",
    "        dataset=val_set,\n",
    "        batch_size=opts.bs,\n",
    "        shuffle=False,\n",
    "        drop_last=False\n",
    "    )\n",
    "\n",
    "    return train_loader, val_loader"
   ]
  },
  {
   "cell_type": "code",
   "execution_count": 4,
   "id": "3241999e-6285-4e8d-ae55-c34126d82688",
   "metadata": {},
   "outputs": [],
   "source": [
    "def setup_seed(seed):\n",
    "    # PyTorch CPU随机种子\n",
    "    torch.manual_seed(seed)\n",
    "    # 所有GPU的随机种子\n",
    "    torch.cuda.manual_seed_all(seed)\n",
    "    torch.cuda.manual_seed(seed)\n",
    "    # Python哈希种子（影响字典等数据结构的行为）\n",
    "    os.environ['PYTHONHASHSEED'] = str(seed)\n",
    "    # NumPy随机种子\n",
    "    np.random.seed(seed)\n",
    "    # Python内置随机种子\n",
    "    random.seed(seed)\n",
    "    # 启用确定性算法（降低性能但保证可重复）\n",
    "    torch.backends.cudnn.deterministic = True\n",
    "    # 关闭自动优化（固定卷积算法选择）\n",
    "    torch.backends.cudnn.benchmark = False\n",
    "    # 设置线程数，确保一致性\n",
    "    torch.set_num_threads(1)"
   ]
  },
  {
   "cell_type": "code",
   "execution_count": 5,
   "id": "185c8083-c7e7-4cb8-b25e-84f40a162136",
   "metadata": {},
   "outputs": [],
   "source": [
    "def train(network, optimizer, criterion, train_loader, val_loader, epoch, saving_path, device, scheduler=None):\n",
    "\n",
    "    best_acc = -0.1\n",
    "    losses = []\n",
    "\n",
    "    for e in tqdm(range(1, epoch+1), desc=\"\"):\n",
    "        network.train()\n",
    "        for batch_idx, (images, targets) in enumerate(train_loader):\n",
    "            images, targets = images.to(device), targets.to(device)\n",
    "            optimizer.zero_grad()\n",
    "            outputs = network(images)\n",
    "            loss = criterion(outputs, targets)\n",
    "            loss.backward()\n",
    "            optimizer.step()\n",
    "            losses.append(loss.item())\n",
    "        if e % 10 == 0 or e == 1:\n",
    "            mean_losses = np.mean(losses)\n",
    "            train_info = \"train at epoch {}/{}, loss={:.6f}\"\n",
    "            train_info = train_info.format(e, epoch,  mean_losses)\n",
    "            tqdm.write(train_info)\n",
    "            losses = []\n",
    "        else:\n",
    "            losses = []\n",
    "\n",
    "        val_acc = validation(network, val_loader, device)\n",
    "\n",
    "        if scheduler is not None:\n",
    "            scheduler.step()\n",
    "\n",
    "        is_best = val_acc >= best_acc\n",
    "        best_acc = max(val_acc, best_acc)\n",
    "        save_checkpoint(network, is_best, saving_path, epoch=e, acc=best_acc)\n",
    "\n",
    "\n",
    "def validation(network, val_loader, device):\n",
    "    num_correct = 0.\n",
    "    total_num = 0.\n",
    "    network.eval()\n",
    "    for batch_idx, (images, targets) in enumerate(val_loader):\n",
    "        images, targets = images.to(device), targets.to(device)\n",
    "        outputs = network(images)\n",
    "        _, outputs = torch.max(outputs, dim=1) \n",
    "        for output, target in zip(outputs, targets):\n",
    "            num_correct = num_correct + (output.item() == target.item())\n",
    "            total_num = total_num + 1\n",
    "    overall_acc = num_correct / total_num\n",
    "    return overall_acc\n",
    "\n",
    "\n",
    "def test(network, model_dir, image, patch_size, n_classes, device):\n",
    "    #network.load_state_dict(torch.load(model_dir + \"/model_best.pth\"))\n",
    "    network.eval()\n",
    "\n",
    "    patch_size = patch_size\n",
    "    batch_size = 64\n",
    "    window_size = (patch_size, patch_size)\n",
    "    image_w, image_h = image.shape[:2]\n",
    "    pad_size = patch_size // 2\n",
    "\n",
    "    # pad the image\n",
    "    image = np.pad(image, ((pad_size, pad_size), (pad_size, pad_size), (0, 0)), mode='reflect')\n",
    "\n",
    "    probs = np.zeros(image.shape[:2] + (n_classes, ))\n",
    "\n",
    "    iterations = count_sliding_window(image, window_size=window_size) // batch_size\n",
    "    for batch in tqdm(grouper(batch_size, sliding_window(image, window_size=window_size)),\n",
    "                      total=iterations,\n",
    "                      desc=\"inference on the HSI\"):\n",
    "        with torch.no_grad():\n",
    "            data = [b[0] for b in batch]\n",
    "            data = np.copy(data)\n",
    "            data = data.transpose((0, 3, 1, 2))\n",
    "            data = torch.from_numpy(data)\n",
    "            data = data.unsqueeze(1)\n",
    "\n",
    "            indices = [b[1:] for b in batch]\n",
    "            data = data.to(device)\n",
    "            output = network(data)\n",
    "            if isinstance(output, tuple):\n",
    "                output = output[0]\n",
    "            output = output.to('cpu').numpy()\n",
    "\n",
    "            for (x, y, w, h), out in zip(indices, output):\n",
    "                probs[x + w // 2, y + h // 2] += out\n",
    "    return probs[pad_size:image_w + pad_size, pad_size:image_h + pad_size, :]\n",
    "\n",
    "\n",
    "def save_checkpoint(network, is_best, saving_path, **kwargs):\n",
    "    if not os.path.isdir(saving_path):\n",
    "        os.makedirs(saving_path, exist_ok=True)\n",
    "\n",
    "    if is_best:\n",
    "        tqdm.write(\"epoch = {epoch}: best OA = {acc:.4f}\".format(**kwargs))\n",
    "        torch.save(network.state_dict(), os.path.join(saving_path, 'model_best.pth'))\n",
    "    else:  # save the ckpt for each 10 epoch\n",
    "        if kwargs['epoch'] % 10 == 0:\n",
    "            torch.save(network.state_dict(), os.path.join(saving_path, 'model.pth'))\n",
    "\n"
   ]
  },
  {
   "cell_type": "code",
   "execution_count": 6,
   "id": "870fb337-5005-4b83-9c1e-46024bbd359e",
   "metadata": {
    "scrolled": true
   },
   "outputs": [
    {
     "name": "stdout",
     "output_type": "stream",
     "text": [
      "running an experiment with the gscvit_HL_INT model\n",
      "run 1 / 5\n",
      "目标: 每类30个训练样本, 10个验证样本\n",
      "------------------------------------------------------------\n",
      "类别 0: 训练集 30样本, 验证集 10样本, 测试集 14001样本\n",
      "类别 1: 训练集 30样本, 验证集 10样本, 测试集 3472样本\n",
      "类别 2: 训练集 30样本, 验证集 10样本, 测试集 21781样本\n",
      "类别 3: 训练集 30样本, 验证集 10样本, 测试集 163245样本\n",
      "类别 4: 训练集 30样本, 验证集 10样本, 测试集 6178样本\n",
      "类别 5: 训练集 30样本, 验证集 10样本, 测试集 44517样本\n",
      "类别 6: 训练集 30样本, 验证集 10样本, 测试集 24063样本\n",
      "类别 7: 训练集 30样本, 验证集 10样本, 测试集 4014样本\n",
      "类别 8: 训练集 30样本, 验证集 10样本, 测试集 10779样本\n",
      "类别 9: 训练集 30样本, 验证集 10样本, 测试集 12354样本\n",
      "类别 10: 训练集 30样本, 验证集 10样本, 测试集 10975样本\n",
      "类别 11: 训练集 30样本, 验证集 10样本, 测试集 8914样本\n",
      "类别 12: 训练集 30样本, 验证集 10样本, 测试集 22467样本\n",
      "类别 13: 训练集 30样本, 验证集 10样本, 测试集 7316样本\n",
      "类别 14: 训练集 30样本, 验证集 10样本, 测试集 962样本\n",
      "类别 15: 训练集 30样本, 验证集 10样本, 测试集 7222样本\n",
      "类别 16: 训练集 30样本, 验证集 10样本, 测试集 2970样本\n",
      "类别 17: 训练集 30样本, 验证集 10样本, 测试集 3177样本\n",
      "类别 18: 训练集 30样本, 验证集 10样本, 测试集 8672样本\n",
      "类别 19: 训练集 30样本, 验证集 10样本, 测试集 3446样本\n",
      "类别 20: 训练集 30样本, 验证集 10样本, 测试集 1288样本\n",
      "类别 21: 训练集 30样本, 验证集 10样本, 测试集 4000样本\n",
      "\n",
      "验证采样结果:\n",
      "------------------------------------------------------------\n",
      "类别                               训练集        验证集        测试集\n",
      "------------------------------------------------------------\n",
      "Red roof                          30         10      14001\n",
      "Road                              30         10       3472\n",
      "Bare soil                         30         10      21781\n",
      "Cotton                            30         10     163245\n",
      "Cotton firewood                   30         10       6178\n",
      "Rape                              30         10      44517\n",
      "Chinese cabbage                   30         10      24063\n",
      "Pakchoi                           30         10       4014\n",
      "Cabbage                           30         10      10779\n",
      "Tuber mustard                     30         10      12354\n",
      "Brassica parachinensis            30         10      10975\n",
      "Brassica chinensis                30         10       8914\n",
      "Small Brassica chinensis          30         10      22467\n",
      "Lactuca sativa                    30         10       7316\n",
      "Celtuce                           30         10        962\n",
      "Film covered lettuce              30         10       7222\n",
      "Romaine lettuce                   30         10       2970\n",
      "Carrot                            30         10       3177\n",
      "White radish                      30         10       8672\n",
      "Garlic sprout                     30         10       3446\n",
      "Broad bean                        30         10       1288\n",
      "Tree                              30         10       4000\n",
      "network information:\n",
      "----------------------------------------------------------------\n",
      "        Layer (type)               Output Shape         Param #\n",
      "================================================================\n",
      "            Conv2d-1            [-1, 256, 8, 8]          69,376\n",
      "       BatchNorm2d-2            [-1, 256, 8, 8]             512\n",
      "              ReLU-3            [-1, 256, 8, 8]               0\n",
      "SpectralCalibration-4            [-1, 256, 8, 8]               0\n",
      "       BatchNorm2d-5            [-1, 256, 8, 8]             512\n",
      "              ReLU-6            [-1, 256, 8, 8]               0\n",
      "   ReflectionPad2d-7            [-1, 1, 22, 22]               0\n",
      "            Conv2d-8              [-1, 1, 8, 8]             225\n",
      "    SpectralDecomp-9  [[-1, 256, 8, 8], [-1, 256, 8, 8]]               0\n",
      "MovingAverageMinMaxObserver-10            [-1, 256, 8, 8]               0\n",
      "        QuantStub-11            [-1, 256, 8, 8]               0\n",
      "   MinMaxObserver-12            [-1, 256, 1, 1]               0\n",
      "MovingAverageMinMaxObserver-13            [-1, 128, 8, 8]               0\n",
      "           Conv2d-14            [-1, 128, 8, 8]          32,896\n",
      "      DeQuantStub-15            [-1, 128, 8, 8]               0\n",
      "MovingAverageMinMaxObserver-16            [-1, 128, 8, 8]               0\n",
      "        QuantStub-17            [-1, 128, 8, 8]               0\n",
      "   MinMaxObserver-18            [-1, 128, 1, 1]               0\n",
      "MovingAverageMinMaxObserver-19            [-1, 128, 8, 8]               0\n",
      "           Conv2d-20            [-1, 128, 8, 8]          16,512\n",
      "   MinMaxObserver-21            [-1, 128, 1, 1]               0\n",
      "MovingAverageMinMaxObserver-22            [-1, 128, 8, 8]               0\n",
      "           Conv2d-23            [-1, 128, 8, 8]          16,512\n",
      "      DeQuantStub-24            [-1, 128, 8, 8]               0\n",
      "      BatchNorm2d-25            [-1, 128, 8, 8]             256\n",
      "             ReLU-26            [-1, 128, 8, 8]               0\n",
      "           Conv2d-27             [-1, 16, 8, 8]           1,040\n",
      "           Conv2d-28             [-1, 16, 8, 8]             592\n",
      "      BatchNorm2d-29             [-1, 16, 8, 8]              32\n",
      "             ReLU-30             [-1, 16, 8, 8]               0\n",
      "              GSC-31             [-1, 16, 8, 8]               0\n",
      "    ChanLayerNorm-32             [-1, 16, 8, 8]               0\n",
      "           Conv1d-33               [-1, 48, 17]             768\n",
      "          Softmax-34            [-1, 1, 17, 17]               0\n",
      "          Dropout-35            [-1, 1, 17, 17]               0\n",
      "        LayerNorm-36             [-1, 1, 4, 16]              32\n",
      "             GELU-37             [-1, 1, 4, 16]               0\n",
      "        Rearrange-38                [-1, 16, 4]               0\n",
      "           Conv1d-39                [-1, 32, 4]             544\n",
      "        Rearrange-40             [-1, 1, 4, 32]               0\n",
      "          Softmax-41              [-1, 1, 4, 4]               0\n",
      "          Dropout-42              [-1, 1, 4, 4]               0\n",
      "           Conv2d-43             [-1, 16, 8, 8]             272\n",
      "          Dropout-44             [-1, 16, 8, 8]               0\n",
      "             GSSA-45             [-1, 16, 8, 8]               0\n",
      "          PreNorm-46             [-1, 16, 8, 8]               0\n",
      "    ChanLayerNorm-47             [-1, 16, 8, 8]               0\n",
      "      Transformer-48             [-1, 16, 8, 8]               0\n",
      "      BatchNorm2d-49             [-1, 16, 8, 8]              32\n",
      "             ReLU-50             [-1, 16, 8, 8]               0\n",
      "           Conv2d-51            [-1, 144, 8, 8]          20,880\n",
      "      BatchNorm2d-52            [-1, 144, 8, 8]             288\n",
      "             ReLU-53            [-1, 144, 8, 8]               0\n",
      "  ReflectionPad2d-54            [-1, 1, 22, 22]               0\n",
      "           Conv2d-55              [-1, 1, 8, 8]             225\n",
      "   SpectralDecomp-56  [[-1, 144, 8, 8], [-1, 144, 8, 8]]               0\n",
      "           Conv2d-57             [-1, 64, 8, 8]           9,280\n",
      "    ChanLayerNorm-58             [-1, 64, 8, 8]               0\n",
      "           Conv1d-59               [-1, 48, 17]           3,072\n",
      "          Softmax-60            [-1, 1, 17, 17]               0\n",
      "          Dropout-61            [-1, 1, 17, 17]               0\n",
      "        LayerNorm-62             [-1, 1, 4, 16]              32\n",
      "             GELU-63             [-1, 1, 4, 16]               0\n",
      "        Rearrange-64                [-1, 16, 4]               0\n",
      "           Conv1d-65                [-1, 32, 4]             544\n",
      "        Rearrange-66             [-1, 1, 4, 32]               0\n",
      "          Softmax-67              [-1, 1, 4, 4]               0\n",
      "          Dropout-68              [-1, 1, 4, 4]               0\n",
      "           Conv2d-69             [-1, 64, 8, 8]           1,088\n",
      "          Dropout-70             [-1, 64, 8, 8]               0\n",
      "             GSSA-71             [-1, 64, 8, 8]               0\n",
      "          PreNorm-72             [-1, 64, 8, 8]               0\n",
      "    ChanLayerNorm-73             [-1, 64, 8, 8]               0\n",
      "      Transformer-74             [-1, 64, 8, 8]               0\n",
      "           Conv2d-75             [-1, 64, 8, 8]           4,160\n",
      "      BatchNorm2d-76             [-1, 64, 8, 8]             128\n",
      "             ReLU-77             [-1, 64, 8, 8]               0\n",
      "           Conv2d-78             [-1, 16, 8, 8]             592\n",
      "           Conv2d-79             [-1, 16, 8, 8]             592\n",
      "      BatchNorm2d-80             [-1, 16, 8, 8]              32\n",
      "             ReLU-81             [-1, 16, 8, 8]               0\n",
      "              GSC-82             [-1, 16, 8, 8]               0\n",
      "    ChanLayerNorm-83             [-1, 16, 8, 8]               0\n",
      "           Conv1d-84               [-1, 48, 17]             768\n",
      "          Softmax-85            [-1, 1, 17, 17]               0\n",
      "          Dropout-86            [-1, 1, 17, 17]               0\n",
      "        LayerNorm-87             [-1, 1, 4, 16]              32\n",
      "             GELU-88             [-1, 1, 4, 16]               0\n",
      "        Rearrange-89                [-1, 16, 4]               0\n",
      "           Conv1d-90                [-1, 32, 4]             544\n",
      "        Rearrange-91             [-1, 1, 4, 32]               0\n",
      "          Softmax-92              [-1, 1, 4, 4]               0\n",
      "          Dropout-93              [-1, 1, 4, 4]               0\n",
      "           Conv2d-94             [-1, 16, 8, 8]             272\n",
      "          Dropout-95             [-1, 16, 8, 8]               0\n",
      "             GSSA-96             [-1, 16, 8, 8]               0\n",
      "          PreNorm-97             [-1, 16, 8, 8]               0\n",
      "    ChanLayerNorm-98             [-1, 16, 8, 8]               0\n",
      "      Transformer-99             [-1, 16, 8, 8]               0\n",
      "     BatchNorm2d-100             [-1, 16, 8, 8]              32\n",
      "            ReLU-101             [-1, 16, 8, 8]               0\n",
      "          Reduce-102                   [-1, 80]               0\n",
      "       LayerNorm-103                   [-1, 80]             160\n",
      "          Linear-104                   [-1, 22]           1,782\n",
      "================================================================\n",
      "Total params: 184,616\n",
      "Trainable params: 184,616\n",
      "Non-trainable params: 0\n",
      "----------------------------------------------------------------\n",
      "Input size (MB): 0.07\n",
      "Forward/backward pass size (MB): 2693.42\n",
      "Params size (MB): 0.70\n",
      "Estimated Total Size (MB): 2694.19\n",
      "----------------------------------------------------------------\n"
     ]
    },
    {
     "name": "stderr",
     "output_type": "stream",
     "text": [
      "  0%|▏                                         | 1/200 [00:00<02:09,  1.54it/s]"
     ]
    },
    {
     "name": "stdout",
     "output_type": "stream",
     "text": [
      "train at epoch 1/200, loss=2.660567\n",
      "epoch = 1: best OA = 0.0455\n"
     ]
    },
    {
     "name": "stderr",
     "output_type": "stream",
     "text": [
      "  0%|▏                                         | 1/200 [00:01<02:09,  1.54it/s]"
     ]
    },
    {
     "name": "stdout",
     "output_type": "stream",
     "text": [
      "epoch = 2: best OA = 0.0500\n"
     ]
    },
    {
     "name": "stderr",
     "output_type": "stream",
     "text": [
      "  3%|█▎                                        | 6/200 [00:02<01:20,  2.42it/s]"
     ]
    },
    {
     "name": "stdout",
     "output_type": "stream",
     "text": [
      "epoch = 6: best OA = 0.0591\n"
     ]
    },
    {
     "name": "stderr",
     "output_type": "stream",
     "text": [
      "  4%|█▋                                        | 8/200 [00:03<01:16,  2.51it/s]"
     ]
    },
    {
     "name": "stdout",
     "output_type": "stream",
     "text": [
      "epoch = 8: best OA = 0.1227\n"
     ]
    },
    {
     "name": "stderr",
     "output_type": "stream",
     "text": [
      "  4%|█▉                                        | 9/200 [00:03<01:16,  2.51it/s]"
     ]
    },
    {
     "name": "stdout",
     "output_type": "stream",
     "text": [
      "epoch = 9: best OA = 0.2545\n"
     ]
    },
    {
     "name": "stderr",
     "output_type": "stream",
     "text": [
      "  5%|██                                       | 10/200 [00:04<01:15,  2.51it/s]"
     ]
    },
    {
     "name": "stdout",
     "output_type": "stream",
     "text": [
      "train at epoch 10/200, loss=1.207888\n",
      "epoch = 10: best OA = 0.4773\n"
     ]
    },
    {
     "name": "stderr",
     "output_type": "stream",
     "text": [
      "  6%|██▎                                      | 11/200 [00:04<01:15,  2.51it/s]"
     ]
    },
    {
     "name": "stdout",
     "output_type": "stream",
     "text": [
      "epoch = 11: best OA = 0.5409\n"
     ]
    },
    {
     "name": "stderr",
     "output_type": "stream",
     "text": [
      "  6%|██▍                                      | 12/200 [00:05<01:15,  2.48it/s]"
     ]
    },
    {
     "name": "stdout",
     "output_type": "stream",
     "text": [
      "epoch = 12: best OA = 0.6545\n"
     ]
    },
    {
     "name": "stderr",
     "output_type": "stream",
     "text": [
      "  6%|██▋                                      | 13/200 [00:05<01:14,  2.53it/s]"
     ]
    },
    {
     "name": "stdout",
     "output_type": "stream",
     "text": [
      "epoch = 13: best OA = 0.6591\n"
     ]
    },
    {
     "name": "stderr",
     "output_type": "stream",
     "text": [
      "  7%|██▊                                      | 14/200 [00:05<01:13,  2.55it/s]"
     ]
    },
    {
     "name": "stdout",
     "output_type": "stream",
     "text": [
      "epoch = 14: best OA = 0.7000\n"
     ]
    },
    {
     "name": "stderr",
     "output_type": "stream",
     "text": [
      "  8%|███                                      | 15/200 [00:06<01:12,  2.56it/s]"
     ]
    },
    {
     "name": "stdout",
     "output_type": "stream",
     "text": [
      "epoch = 15: best OA = 0.7682\n"
     ]
    },
    {
     "name": "stderr",
     "output_type": "stream",
     "text": [
      "  9%|███▋                                     | 18/200 [00:07<01:09,  2.60it/s]"
     ]
    },
    {
     "name": "stdout",
     "output_type": "stream",
     "text": [
      "epoch = 18: best OA = 0.7864\n"
     ]
    },
    {
     "name": "stderr",
     "output_type": "stream",
     "text": [
      " 10%|███▉                                     | 19/200 [00:07<01:08,  2.64it/s]"
     ]
    },
    {
     "name": "stdout",
     "output_type": "stream",
     "text": [
      "epoch = 19: best OA = 0.7909\n"
     ]
    },
    {
     "name": "stderr",
     "output_type": "stream",
     "text": [
      " 10%|████                                     | 20/200 [00:08<01:05,  2.76it/s]"
     ]
    },
    {
     "name": "stdout",
     "output_type": "stream",
     "text": [
      "train at epoch 20/200, loss=0.799583\n"
     ]
    },
    {
     "name": "stderr",
     "output_type": "stream",
     "text": [
      " 14%|█████▌                                   | 27/200 [00:10<01:04,  2.69it/s]"
     ]
    },
    {
     "name": "stdout",
     "output_type": "stream",
     "text": [
      "epoch = 27: best OA = 0.8227\n"
     ]
    },
    {
     "name": "stderr",
     "output_type": "stream",
     "text": [
      " 15%|██████▏                                  | 30/200 [00:11<01:03,  2.68it/s]"
     ]
    },
    {
     "name": "stdout",
     "output_type": "stream",
     "text": [
      "train at epoch 30/200, loss=0.634295\n"
     ]
    },
    {
     "name": "stderr",
     "output_type": "stream",
     "text": [
      " 16%|██████▌                                  | 32/200 [00:12<01:03,  2.66it/s]"
     ]
    },
    {
     "name": "stdout",
     "output_type": "stream",
     "text": [
      "epoch = 32: best OA = 0.8227\n"
     ]
    },
    {
     "name": "stderr",
     "output_type": "stream",
     "text": [
      " 18%|███████▍                                 | 36/200 [00:14<01:01,  2.67it/s]"
     ]
    },
    {
     "name": "stdout",
     "output_type": "stream",
     "text": [
      "epoch = 36: best OA = 0.8227\n"
     ]
    },
    {
     "name": "stderr",
     "output_type": "stream",
     "text": [
      " 20%|████████▏                                | 40/200 [00:15<01:00,  2.66it/s]"
     ]
    },
    {
     "name": "stdout",
     "output_type": "stream",
     "text": [
      "train at epoch 40/200, loss=0.428506\n",
      "epoch = 40: best OA = 0.8227\n"
     ]
    },
    {
     "name": "stderr",
     "output_type": "stream",
     "text": [
      " 24%|█████████▊                               | 48/200 [00:18<00:56,  2.68it/s]"
     ]
    },
    {
     "name": "stdout",
     "output_type": "stream",
     "text": [
      "epoch = 48: best OA = 0.8227\n"
     ]
    },
    {
     "name": "stderr",
     "output_type": "stream",
     "text": [
      " 25%|██████████▎                              | 50/200 [00:19<00:56,  2.65it/s]"
     ]
    },
    {
     "name": "stdout",
     "output_type": "stream",
     "text": [
      "train at epoch 50/200, loss=0.409165\n",
      "epoch = 50: best OA = 0.8409\n"
     ]
    },
    {
     "name": "stderr",
     "output_type": "stream",
     "text": [
      " 30%|████████████▎                            | 60/200 [00:22<00:49,  2.81it/s]"
     ]
    },
    {
     "name": "stdout",
     "output_type": "stream",
     "text": [
      "train at epoch 60/200, loss=0.306750\n"
     ]
    },
    {
     "name": "stderr",
     "output_type": "stream",
     "text": [
      " 32%|████████████▉                            | 63/200 [00:23<00:50,  2.72it/s]"
     ]
    },
    {
     "name": "stdout",
     "output_type": "stream",
     "text": [
      "epoch = 63: best OA = 0.8500\n"
     ]
    },
    {
     "name": "stderr",
     "output_type": "stream",
     "text": [
      " 35%|██████████████▎                          | 70/200 [00:26<00:48,  2.68it/s]"
     ]
    },
    {
     "name": "stdout",
     "output_type": "stream",
     "text": [
      "train at epoch 70/200, loss=0.323723\n"
     ]
    },
    {
     "name": "stderr",
     "output_type": "stream",
     "text": [
      " 40%|████████████████▍                        | 80/200 [00:30<00:45,  2.66it/s]"
     ]
    },
    {
     "name": "stdout",
     "output_type": "stream",
     "text": [
      "train at epoch 80/200, loss=0.307073\n"
     ]
    },
    {
     "name": "stderr",
     "output_type": "stream",
     "text": [
      " 42%|█████████████████▏                       | 84/200 [00:31<00:43,  2.67it/s]"
     ]
    },
    {
     "name": "stdout",
     "output_type": "stream",
     "text": [
      "epoch = 84: best OA = 0.8545\n"
     ]
    },
    {
     "name": "stderr",
     "output_type": "stream",
     "text": [
      " 45%|██████████████████▍                      | 90/200 [00:33<00:40,  2.69it/s]"
     ]
    },
    {
     "name": "stdout",
     "output_type": "stream",
     "text": [
      "train at epoch 90/200, loss=0.271621\n"
     ]
    },
    {
     "name": "stderr",
     "output_type": "stream",
     "text": [
      " 48%|███████████████████▉                     | 97/200 [00:36<00:38,  2.70it/s]"
     ]
    },
    {
     "name": "stdout",
     "output_type": "stream",
     "text": [
      "epoch = 97: best OA = 0.8591\n"
     ]
    },
    {
     "name": "stderr",
     "output_type": "stream",
     "text": [
      " 50%|████████████████████                    | 100/200 [00:37<00:37,  2.69it/s]"
     ]
    },
    {
     "name": "stdout",
     "output_type": "stream",
     "text": [
      "train at epoch 100/200, loss=0.229154\n"
     ]
    },
    {
     "name": "stderr",
     "output_type": "stream",
     "text": [
      " 55%|██████████████████████                  | 110/200 [00:41<00:31,  2.87it/s]"
     ]
    },
    {
     "name": "stdout",
     "output_type": "stream",
     "text": [
      "train at epoch 110/200, loss=0.201998\n"
     ]
    },
    {
     "name": "stderr",
     "output_type": "stream",
     "text": [
      " 60%|████████████████████████                | 120/200 [00:44<00:27,  2.86it/s]"
     ]
    },
    {
     "name": "stdout",
     "output_type": "stream",
     "text": [
      "train at epoch 120/200, loss=0.205757\n"
     ]
    },
    {
     "name": "stderr",
     "output_type": "stream",
     "text": [
      " 65%|██████████████████████████              | 130/200 [00:48<00:25,  2.71it/s]"
     ]
    },
    {
     "name": "stdout",
     "output_type": "stream",
     "text": [
      "train at epoch 130/200, loss=0.227295\n"
     ]
    },
    {
     "name": "stderr",
     "output_type": "stream",
     "text": [
      " 70%|████████████████████████████            | 140/200 [00:52<00:22,  2.69it/s]"
     ]
    },
    {
     "name": "stdout",
     "output_type": "stream",
     "text": [
      "train at epoch 140/200, loss=0.159854\n"
     ]
    },
    {
     "name": "stderr",
     "output_type": "stream",
     "text": [
      " 70%|████████████████████████████▏           | 141/200 [00:52<00:22,  2.67it/s]"
     ]
    },
    {
     "name": "stdout",
     "output_type": "stream",
     "text": [
      "epoch = 141: best OA = 0.8636\n"
     ]
    },
    {
     "name": "stderr",
     "output_type": "stream",
     "text": [
      " 71%|████████████████████████████▍           | 142/200 [00:52<00:21,  2.66it/s]"
     ]
    },
    {
     "name": "stdout",
     "output_type": "stream",
     "text": [
      "epoch = 142: best OA = 0.8636\n"
     ]
    },
    {
     "name": "stderr",
     "output_type": "stream",
     "text": [
      " 75%|██████████████████████████████          | 150/200 [00:55<00:18,  2.68it/s]"
     ]
    },
    {
     "name": "stdout",
     "output_type": "stream",
     "text": [
      "train at epoch 150/200, loss=0.094575\n"
     ]
    },
    {
     "name": "stderr",
     "output_type": "stream",
     "text": [
      " 76%|██████████████████████████████▏         | 151/200 [00:56<00:18,  2.65it/s]"
     ]
    },
    {
     "name": "stdout",
     "output_type": "stream",
     "text": [
      "epoch = 151: best OA = 0.8636\n"
     ]
    },
    {
     "name": "stderr",
     "output_type": "stream",
     "text": [
      " 80%|████████████████████████████████        | 160/200 [00:59<00:14,  2.67it/s]"
     ]
    },
    {
     "name": "stdout",
     "output_type": "stream",
     "text": [
      "train at epoch 160/200, loss=0.175804\n"
     ]
    },
    {
     "name": "stderr",
     "output_type": "stream",
     "text": [
      " 85%|██████████████████████████████████      | 170/200 [01:03<00:11,  2.69it/s]"
     ]
    },
    {
     "name": "stdout",
     "output_type": "stream",
     "text": [
      "train at epoch 170/200, loss=0.127857\n"
     ]
    },
    {
     "name": "stderr",
     "output_type": "stream",
     "text": [
      " 90%|███████████████████████████████████▊    | 179/200 [01:06<00:07,  2.89it/s]"
     ]
    },
    {
     "name": "stdout",
     "output_type": "stream",
     "text": [
      "epoch = 179: best OA = 0.8773\n"
     ]
    },
    {
     "name": "stderr",
     "output_type": "stream",
     "text": [
      " 90%|████████████████████████████████████    | 180/200 [01:06<00:06,  2.94it/s]"
     ]
    },
    {
     "name": "stdout",
     "output_type": "stream",
     "text": [
      "train at epoch 180/200, loss=0.119221\n"
     ]
    },
    {
     "name": "stderr",
     "output_type": "stream",
     "text": [
      " 95%|██████████████████████████████████████  | 190/200 [01:10<00:03,  2.69it/s]"
     ]
    },
    {
     "name": "stdout",
     "output_type": "stream",
     "text": [
      "train at epoch 190/200, loss=0.070933\n"
     ]
    },
    {
     "name": "stderr",
     "output_type": "stream",
     "text": [
      "100%|████████████████████████████████████████| 200/200 [01:14<00:00,  2.70it/s]\n"
     ]
    },
    {
     "name": "stdout",
     "output_type": "stream",
     "text": [
      "train at epoch 200/200, loss=0.175070\n"
     ]
    },
    {
     "name": "stderr",
     "output_type": "stream",
     "text": [
      "inference on the HSI: 6999it [00:51, 136.53it/s]                               \n"
     ]
    },
    {
     "name": "stdout",
     "output_type": "stream",
     "text": [
      "Confusion matrix :\n",
      "[[ 13421     98     49      0    252    101     44     25      0      0\n",
      "       1      0      0      0      5      0      0      0      5      0\n",
      "       0      0]\n",
      " [   159   2739    192      0      7      0      0      0      0      0\n",
      "       0      0      0      0      0      0    363      0      0     12\n",
      "       0      0]\n",
      " [   231    123  20387      1    232      0      4     45      2      2\n",
      "       2      8      6      0      1      0     20      0      0    368\n",
      "     349      0]\n",
      " [    46      1     99 142931  15067      0    485    260     22     23\n",
      "     626      0     44      1      0      2      0      2    140    262\n",
      "      14   3220]\n",
      " [     0     20     47     60   5751      0     73     55      0      0\n",
      "      65     19     83      0      0      0      0      2      3      0\n",
      "       0      0]\n",
      " [     1      0     75     19     47  39592    122    416      1   2641\n",
      "      15     16    838     32      1      0      0     14    684      3\n",
      "       0      0]\n",
      " [     0      9     19     88     37      7  15227    912      1   2245\n",
      "      38   4390     57     30     31      0      0     77    384     35\n",
      "       0    476]\n",
      " [     0      3    255      0      0      7    129   3211      0     85\n",
      "       0     23     98      0      0      0      9      2      0     59\n",
      "      72     61]\n",
      " [     0      0      0      0      0      0     20      0  10508     24\n",
      "       8      0      0      0      0      0      0      0    195     24\n",
      "       0      0]\n",
      " [     0      0     10      0      0     18    287     64      7  11464\n",
      "      26    204     97     72     12      0      0     65     18      0\n",
      "       0     10]\n",
      " [     0      0     16     38     10      0   1070     31     31   1771\n",
      "    6198    744    104     76     68      0      0     33    691     27\n",
      "       0     67]\n",
      " [     0      4    236      0      0     49    324    302      0    218\n",
      "      13   7460    198     27      8      4      0     62      1      8\n",
      "       0      0]\n",
      " [     1     28    912     46    167   1209    372   1429      0    344\n",
      "      28   2300  14925     69     21      0      1    314     37     76\n",
      "     188      0]\n",
      " [     0      0    266      0      0      2      5    539      0    623\n",
      "       0      3      0   5877      0      0      0      0      0      0\n",
      "       1      0]\n",
      " [     0      0      0      9      0      0      3      0     11      0\n",
      "       2      0      0      0    937      0      0      0      0      0\n",
      "       0      0]\n",
      " [     0      1     78      0      0      5      0      2     34      5\n",
      "       0      0      0      0      0   6578    517      0      2      0\n",
      "       0      0]\n",
      " [     0      0     10      0      0      0      0      0      0      0\n",
      "       0      0      0      0      0     10   2950      0      0      0\n",
      "       0      0]\n",
      " [     0      0      1      3      0      0     14      1      0      0\n",
      "      29     35     65      0      0      0      0   3028      0      0\n",
      "       0      1]\n",
      " [     0      0      9      1      1     17    253     39     25    105\n",
      "      38     77     65      0      0      0      0      1   7912    117\n",
      "       3      9]\n",
      " [     0      0     63      0      0      0      0     20      3      0\n",
      "       1      2      0      0      0      0      0      0      2   3353\n",
      "       0      2]\n",
      " [     0      0    354      0     25      0      0      6      0      0\n",
      "       0      0      0      0      0      0      0      0      0      1\n",
      "     902      0]\n",
      " [     0      0      3      9      0      0    111     22      0      0\n",
      "      16      0      0      0      0      0      0      0     11     26\n",
      "       0   3802]]---\n",
      "Accuracy : 85.31%\n",
      "---\n",
      "class acc :\n",
      "\tRed roof: 95.86\n",
      "\tRoad: 78.89\n",
      "\tBare soil: 93.60\n",
      "\tCotton: 87.56\n",
      "\tCotton firewood: 93.09\n",
      "\tRape: 88.94\n",
      "\tChinese cabbage: 63.28\n",
      "\tPakchoi: 80.00\n",
      "\tCabbage: 97.49\n",
      "\tTuber mustard: 92.80\n",
      "\tBrassica parachinensis: 56.47\n",
      "\tBrassica chinensis: 83.69\n",
      "\tSmall Brassica chinensis: 66.43\n",
      "\tLactuca sativa: 80.33\n",
      "\tCeltuce: 97.40\n",
      "\tFilm covered lettuce: 91.08\n",
      "\tRomaine lettuce: 99.33\n",
      "\tCarrot: 95.31\n",
      "\tWhite radish: 91.24\n",
      "\tGarlic sprout: 97.30\n",
      "\tBroad bean: 70.03\n",
      "\tTree: 95.05\n",
      "---\n",
      "AA: 86.14%\n",
      "Kappa: 81.95\n",
      "\n",
      "running an experiment with the gscvit_HL_INT model\n",
      "run 2 / 5\n",
      "目标: 每类30个训练样本, 10个验证样本\n",
      "------------------------------------------------------------\n",
      "类别 0: 训练集 30样本, 验证集 10样本, 测试集 14001样本\n",
      "类别 1: 训练集 30样本, 验证集 10样本, 测试集 3472样本\n",
      "类别 2: 训练集 30样本, 验证集 10样本, 测试集 21781样本\n",
      "类别 3: 训练集 30样本, 验证集 10样本, 测试集 163245样本\n",
      "类别 4: 训练集 30样本, 验证集 10样本, 测试集 6178样本\n",
      "类别 5: 训练集 30样本, 验证集 10样本, 测试集 44517样本\n",
      "类别 6: 训练集 30样本, 验证集 10样本, 测试集 24063样本\n",
      "类别 7: 训练集 30样本, 验证集 10样本, 测试集 4014样本\n",
      "类别 8: 训练集 30样本, 验证集 10样本, 测试集 10779样本\n",
      "类别 9: 训练集 30样本, 验证集 10样本, 测试集 12354样本\n",
      "类别 10: 训练集 30样本, 验证集 10样本, 测试集 10975样本\n",
      "类别 11: 训练集 30样本, 验证集 10样本, 测试集 8914样本\n",
      "类别 12: 训练集 30样本, 验证集 10样本, 测试集 22467样本\n",
      "类别 13: 训练集 30样本, 验证集 10样本, 测试集 7316样本\n",
      "类别 14: 训练集 30样本, 验证集 10样本, 测试集 962样本\n",
      "类别 15: 训练集 30样本, 验证集 10样本, 测试集 7222样本\n",
      "类别 16: 训练集 30样本, 验证集 10样本, 测试集 2970样本\n",
      "类别 17: 训练集 30样本, 验证集 10样本, 测试集 3177样本\n",
      "类别 18: 训练集 30样本, 验证集 10样本, 测试集 8672样本\n",
      "类别 19: 训练集 30样本, 验证集 10样本, 测试集 3446样本\n",
      "类别 20: 训练集 30样本, 验证集 10样本, 测试集 1288样本\n",
      "类别 21: 训练集 30样本, 验证集 10样本, 测试集 4000样本\n",
      "\n",
      "验证采样结果:\n"
     ]
    },
    {
     "name": "stderr",
     "output_type": "stream",
     "text": [
      "  0%|▏                                         | 1/200 [00:00<01:00,  3.28it/s]"
     ]
    },
    {
     "name": "stdout",
     "output_type": "stream",
     "text": [
      "train at epoch 1/200, loss=2.828901\n",
      "epoch = 1: best OA = 0.0455\n"
     ]
    },
    {
     "name": "stderr",
     "output_type": "stream",
     "text": [
      "  1%|▍                                         | 2/200 [00:00<00:58,  3.38it/s]"
     ]
    },
    {
     "name": "stdout",
     "output_type": "stream",
     "text": [
      "epoch = 2: best OA = 0.0455\n"
     ]
    },
    {
     "name": "stderr",
     "output_type": "stream",
     "text": [
      "  2%|▋                                         | 3/200 [00:00<00:57,  3.45it/s]"
     ]
    },
    {
     "name": "stdout",
     "output_type": "stream",
     "text": [
      "epoch = 3: best OA = 0.0455\n"
     ]
    },
    {
     "name": "stderr",
     "output_type": "stream",
     "text": [
      "  2%|▊                                         | 4/200 [00:01<00:56,  3.45it/s]"
     ]
    },
    {
     "name": "stdout",
     "output_type": "stream",
     "text": [
      "epoch = 4: best OA = 0.0455\n"
     ]
    },
    {
     "name": "stderr",
     "output_type": "stream",
     "text": [
      "  2%|█                                         | 5/200 [00:01<00:56,  3.47it/s]"
     ]
    },
    {
     "name": "stdout",
     "output_type": "stream",
     "text": [
      "epoch = 5: best OA = 0.0455\n"
     ]
    },
    {
     "name": "stderr",
     "output_type": "stream",
     "text": [
      "  3%|█▎                                        | 6/200 [00:01<00:55,  3.47it/s]"
     ]
    },
    {
     "name": "stdout",
     "output_type": "stream",
     "text": [
      "epoch = 6: best OA = 0.0591\n"
     ]
    },
    {
     "name": "stderr",
     "output_type": "stream",
     "text": [
      "  4%|█▍                                        | 7/200 [00:02<00:55,  3.49it/s]"
     ]
    },
    {
     "name": "stdout",
     "output_type": "stream",
     "text": [
      "epoch = 7: best OA = 0.1000\n"
     ]
    },
    {
     "name": "stderr",
     "output_type": "stream",
     "text": [
      "  4%|█▋                                        | 8/200 [00:02<00:55,  3.48it/s]"
     ]
    },
    {
     "name": "stdout",
     "output_type": "stream",
     "text": [
      "epoch = 8: best OA = 0.1591\n"
     ]
    },
    {
     "name": "stderr",
     "output_type": "stream",
     "text": [
      "  4%|█▉                                        | 9/200 [00:02<00:54,  3.50it/s]"
     ]
    },
    {
     "name": "stdout",
     "output_type": "stream",
     "text": [
      "epoch = 9: best OA = 0.2636\n"
     ]
    },
    {
     "name": "stderr",
     "output_type": "stream",
     "text": [
      "  5%|██                                       | 10/200 [00:02<00:55,  3.44it/s]"
     ]
    },
    {
     "name": "stdout",
     "output_type": "stream",
     "text": [
      "train at epoch 10/200, loss=1.210616\n",
      "epoch = 10: best OA = 0.3818\n"
     ]
    },
    {
     "name": "stderr",
     "output_type": "stream",
     "text": [
      "  6%|██▎                                      | 11/200 [00:03<00:54,  3.45it/s]"
     ]
    },
    {
     "name": "stdout",
     "output_type": "stream",
     "text": [
      "epoch = 11: best OA = 0.5500\n"
     ]
    },
    {
     "name": "stderr",
     "output_type": "stream",
     "text": [
      "  6%|██▍                                      | 12/200 [00:03<00:54,  3.44it/s]"
     ]
    },
    {
     "name": "stdout",
     "output_type": "stream",
     "text": [
      "epoch = 12: best OA = 0.6682\n"
     ]
    },
    {
     "name": "stderr",
     "output_type": "stream",
     "text": [
      "  7%|██▊                                      | 14/200 [00:04<00:53,  3.48it/s]"
     ]
    },
    {
     "name": "stdout",
     "output_type": "stream",
     "text": [
      "epoch = 14: best OA = 0.7227\n"
     ]
    },
    {
     "name": "stderr",
     "output_type": "stream",
     "text": [
      "  8%|███                                      | 15/200 [00:04<00:52,  3.50it/s]"
     ]
    },
    {
     "name": "stdout",
     "output_type": "stream",
     "text": [
      "epoch = 15: best OA = 0.7455\n"
     ]
    },
    {
     "name": "stderr",
     "output_type": "stream",
     "text": [
      "  8%|███▎                                     | 16/200 [00:04<00:52,  3.51it/s]"
     ]
    },
    {
     "name": "stdout",
     "output_type": "stream",
     "text": [
      "epoch = 16: best OA = 0.7500\n"
     ]
    },
    {
     "name": "stderr",
     "output_type": "stream",
     "text": [
      "  8%|███▍                                     | 17/200 [00:04<00:52,  3.50it/s]"
     ]
    },
    {
     "name": "stdout",
     "output_type": "stream",
     "text": [
      "epoch = 17: best OA = 0.7636\n"
     ]
    },
    {
     "name": "stderr",
     "output_type": "stream",
     "text": [
      " 10%|███▉                                     | 19/200 [00:05<00:51,  3.51it/s]"
     ]
    },
    {
     "name": "stdout",
     "output_type": "stream",
     "text": [
      "epoch = 19: best OA = 0.7818\n"
     ]
    },
    {
     "name": "stderr",
     "output_type": "stream",
     "text": [
      " 10%|████                                     | 20/200 [00:05<00:51,  3.50it/s]"
     ]
    },
    {
     "name": "stdout",
     "output_type": "stream",
     "text": [
      "train at epoch 20/200, loss=0.732574\n"
     ]
    },
    {
     "name": "stderr",
     "output_type": "stream",
     "text": [
      " 10%|████▎                                    | 21/200 [00:06<00:50,  3.52it/s]"
     ]
    },
    {
     "name": "stdout",
     "output_type": "stream",
     "text": [
      "epoch = 21: best OA = 0.7818\n"
     ]
    },
    {
     "name": "stderr",
     "output_type": "stream",
     "text": [
      " 11%|████▌                                    | 22/200 [00:06<00:50,  3.54it/s]"
     ]
    },
    {
     "name": "stdout",
     "output_type": "stream",
     "text": [
      "epoch = 22: best OA = 0.8000\n"
     ]
    },
    {
     "name": "stderr",
     "output_type": "stream",
     "text": [
      " 12%|████▉                                    | 24/200 [00:06<00:49,  3.55it/s]"
     ]
    },
    {
     "name": "stdout",
     "output_type": "stream",
     "text": [
      "epoch = 24: best OA = 0.8273\n"
     ]
    },
    {
     "name": "stderr",
     "output_type": "stream",
     "text": [
      " 14%|█████▌                                   | 27/200 [00:07<00:48,  3.55it/s]"
     ]
    },
    {
     "name": "stdout",
     "output_type": "stream",
     "text": [
      "epoch = 27: best OA = 0.8409\n"
     ]
    },
    {
     "name": "stderr",
     "output_type": "stream",
     "text": [
      " 15%|██████▏                                  | 30/200 [00:08<00:47,  3.55it/s]"
     ]
    },
    {
     "name": "stdout",
     "output_type": "stream",
     "text": [
      "train at epoch 30/200, loss=0.591173\n"
     ]
    },
    {
     "name": "stderr",
     "output_type": "stream",
     "text": [
      " 16%|██████▎                                  | 31/200 [00:08<00:47,  3.55it/s]"
     ]
    },
    {
     "name": "stdout",
     "output_type": "stream",
     "text": [
      "epoch = 31: best OA = 0.8409\n"
     ]
    },
    {
     "name": "stderr",
     "output_type": "stream",
     "text": [
      " 17%|██████▉                                  | 34/200 [00:09<00:46,  3.58it/s]"
     ]
    },
    {
     "name": "stdout",
     "output_type": "stream",
     "text": [
      "epoch = 34: best OA = 0.8455\n"
     ]
    },
    {
     "name": "stderr",
     "output_type": "stream",
     "text": [
      " 18%|███████▌                                 | 37/200 [00:10<00:45,  3.56it/s]"
     ]
    },
    {
     "name": "stdout",
     "output_type": "stream",
     "text": [
      "epoch = 37: best OA = 0.8500\n"
     ]
    },
    {
     "name": "stderr",
     "output_type": "stream",
     "text": [
      " 20%|████████▏                                | 40/200 [00:11<00:45,  3.55it/s]"
     ]
    },
    {
     "name": "stdout",
     "output_type": "stream",
     "text": [
      "train at epoch 40/200, loss=0.442302\n"
     ]
    },
    {
     "name": "stderr",
     "output_type": "stream",
     "text": [
      " 22%|█████████▏                               | 45/200 [00:12<00:43,  3.60it/s]"
     ]
    },
    {
     "name": "stdout",
     "output_type": "stream",
     "text": [
      "epoch = 45: best OA = 0.8636\n"
     ]
    },
    {
     "name": "stderr",
     "output_type": "stream",
     "text": [
      " 24%|██████████                               | 49/200 [00:13<00:41,  3.63it/s]"
     ]
    },
    {
     "name": "stdout",
     "output_type": "stream",
     "text": [
      "epoch = 49: best OA = 0.8636\n"
     ]
    },
    {
     "name": "stderr",
     "output_type": "stream",
     "text": [
      " 25%|██████████▎                              | 50/200 [00:14<00:42,  3.57it/s]"
     ]
    },
    {
     "name": "stdout",
     "output_type": "stream",
     "text": [
      "train at epoch 50/200, loss=0.367218\n",
      "epoch = 50: best OA = 0.8682\n"
     ]
    },
    {
     "name": "stderr",
     "output_type": "stream",
     "text": [
      " 26%|██████████▋                              | 52/200 [00:14<00:41,  3.54it/s]"
     ]
    },
    {
     "name": "stdout",
     "output_type": "stream",
     "text": [
      "epoch = 52: best OA = 0.8727\n"
     ]
    },
    {
     "name": "stderr",
     "output_type": "stream",
     "text": [
      " 30%|████████████▎                            | 60/200 [00:16<00:38,  3.63it/s]"
     ]
    },
    {
     "name": "stdout",
     "output_type": "stream",
     "text": [
      "train at epoch 60/200, loss=0.336841\n"
     ]
    },
    {
     "name": "stderr",
     "output_type": "stream",
     "text": [
      " 31%|████████████▋                            | 62/200 [00:17<00:38,  3.60it/s]"
     ]
    },
    {
     "name": "stdout",
     "output_type": "stream",
     "text": [
      "epoch = 62: best OA = 0.8727\n"
     ]
    },
    {
     "name": "stderr",
     "output_type": "stream",
     "text": [
      " 32%|█████████████▎                           | 65/200 [00:18<00:37,  3.60it/s]"
     ]
    },
    {
     "name": "stdout",
     "output_type": "stream",
     "text": [
      "epoch = 65: best OA = 0.8818\n"
     ]
    },
    {
     "name": "stderr",
     "output_type": "stream",
     "text": [
      " 35%|██████████████▎                          | 70/200 [00:19<00:35,  3.62it/s]"
     ]
    },
    {
     "name": "stdout",
     "output_type": "stream",
     "text": [
      "train at epoch 70/200, loss=0.239458\n"
     ]
    },
    {
     "name": "stderr",
     "output_type": "stream",
     "text": [
      " 40%|████████████████▍                        | 80/200 [00:22<00:33,  3.61it/s]"
     ]
    },
    {
     "name": "stdout",
     "output_type": "stream",
     "text": [
      "train at epoch 80/200, loss=0.155589\n"
     ]
    },
    {
     "name": "stderr",
     "output_type": "stream",
     "text": [
      " 40%|████████████████▌                        | 81/200 [00:22<00:33,  3.57it/s]"
     ]
    },
    {
     "name": "stdout",
     "output_type": "stream",
     "text": [
      "epoch = 81: best OA = 0.8864\n"
     ]
    },
    {
     "name": "stderr",
     "output_type": "stream",
     "text": [
      " 45%|██████████████████▍                      | 90/200 [00:25<00:30,  3.61it/s]"
     ]
    },
    {
     "name": "stdout",
     "output_type": "stream",
     "text": [
      "train at epoch 90/200, loss=0.228064\n"
     ]
    },
    {
     "name": "stderr",
     "output_type": "stream",
     "text": [
      " 46%|██████████████████▋                      | 91/200 [00:25<00:30,  3.56it/s]"
     ]
    },
    {
     "name": "stdout",
     "output_type": "stream",
     "text": [
      "epoch = 91: best OA = 0.8955\n"
     ]
    },
    {
     "name": "stderr",
     "output_type": "stream",
     "text": [
      " 50%|████████████████████                    | 100/200 [00:27<00:27,  3.61it/s]"
     ]
    },
    {
     "name": "stdout",
     "output_type": "stream",
     "text": [
      "train at epoch 100/200, loss=0.231398\n"
     ]
    },
    {
     "name": "stderr",
     "output_type": "stream",
     "text": [
      " 55%|██████████████████████                  | 110/200 [00:30<00:24,  3.62it/s]"
     ]
    },
    {
     "name": "stdout",
     "output_type": "stream",
     "text": [
      "train at epoch 110/200, loss=0.132668\n"
     ]
    },
    {
     "name": "stderr",
     "output_type": "stream",
     "text": [
      " 60%|████████████████████████                | 120/200 [00:33<00:22,  3.60it/s]"
     ]
    },
    {
     "name": "stdout",
     "output_type": "stream",
     "text": [
      "train at epoch 120/200, loss=0.141369\n"
     ]
    },
    {
     "name": "stderr",
     "output_type": "stream",
     "text": [
      " 65%|██████████████████████████              | 130/200 [00:36<00:19,  3.60it/s]"
     ]
    },
    {
     "name": "stdout",
     "output_type": "stream",
     "text": [
      "train at epoch 130/200, loss=0.134891\n"
     ]
    },
    {
     "name": "stderr",
     "output_type": "stream",
     "text": [
      " 70%|████████████████████████████            | 140/200 [00:38<00:16,  3.62it/s]"
     ]
    },
    {
     "name": "stdout",
     "output_type": "stream",
     "text": [
      "train at epoch 140/200, loss=0.120950\n"
     ]
    },
    {
     "name": "stderr",
     "output_type": "stream",
     "text": [
      " 75%|██████████████████████████████          | 150/200 [00:41<00:13,  3.62it/s]"
     ]
    },
    {
     "name": "stdout",
     "output_type": "stream",
     "text": [
      "train at epoch 150/200, loss=0.097284\n"
     ]
    },
    {
     "name": "stderr",
     "output_type": "stream",
     "text": [
      " 78%|███████████████████████████████▍        | 157/200 [00:43<00:11,  3.64it/s]"
     ]
    },
    {
     "name": "stdout",
     "output_type": "stream",
     "text": [
      "epoch = 157: best OA = 0.8955\n"
     ]
    },
    {
     "name": "stderr",
     "output_type": "stream",
     "text": [
      " 79%|███████████████████████████████▌        | 158/200 [00:43<00:11,  3.61it/s]"
     ]
    },
    {
     "name": "stdout",
     "output_type": "stream",
     "text": [
      "epoch = 158: best OA = 0.8955\n"
     ]
    },
    {
     "name": "stderr",
     "output_type": "stream",
     "text": [
      " 80%|████████████████████████████████        | 160/200 [00:44<00:11,  3.60it/s]"
     ]
    },
    {
     "name": "stdout",
     "output_type": "stream",
     "text": [
      "train at epoch 160/200, loss=0.086237\n"
     ]
    },
    {
     "name": "stderr",
     "output_type": "stream",
     "text": [
      " 85%|██████████████████████████████████      | 170/200 [00:46<00:08,  3.62it/s]"
     ]
    },
    {
     "name": "stdout",
     "output_type": "stream",
     "text": [
      "train at epoch 170/200, loss=0.199120\n"
     ]
    },
    {
     "name": "stderr",
     "output_type": "stream",
     "text": [
      " 90%|███████████████████████████████████▊    | 179/200 [00:49<00:05,  3.61it/s]"
     ]
    },
    {
     "name": "stdout",
     "output_type": "stream",
     "text": [
      "epoch = 179: best OA = 0.9045\n"
     ]
    },
    {
     "name": "stderr",
     "output_type": "stream",
     "text": [
      " 90%|████████████████████████████████████    | 180/200 [00:49<00:05,  3.56it/s]"
     ]
    },
    {
     "name": "stdout",
     "output_type": "stream",
     "text": [
      "train at epoch 180/200, loss=0.054527\n"
     ]
    },
    {
     "name": "stderr",
     "output_type": "stream",
     "text": [
      " 90%|████████████████████████████████████▏   | 181/200 [00:49<00:05,  3.55it/s]"
     ]
    },
    {
     "name": "stdout",
     "output_type": "stream",
     "text": [
      "epoch = 181: best OA = 0.9045\n"
     ]
    },
    {
     "name": "stderr",
     "output_type": "stream",
     "text": [
      " 95%|██████████████████████████████████████  | 190/200 [00:52<00:02,  3.63it/s]"
     ]
    },
    {
     "name": "stdout",
     "output_type": "stream",
     "text": [
      "train at epoch 190/200, loss=0.042570\n"
     ]
    },
    {
     "name": "stderr",
     "output_type": "stream",
     "text": [
      "100%|████████████████████████████████████████| 200/200 [00:55<00:00,  3.63it/s]\n"
     ]
    },
    {
     "name": "stdout",
     "output_type": "stream",
     "text": [
      "train at epoch 200/200, loss=0.100160\n"
     ]
    },
    {
     "name": "stderr",
     "output_type": "stream",
     "text": [
      "inference on the HSI: 6999it [00:46, 151.50it/s]                               \n"
     ]
    },
    {
     "name": "stdout",
     "output_type": "stream",
     "text": [
      "Confusion matrix :\n",
      "[[ 13301    316      1      9    192    113      0     11      0      0\n",
      "      30      0      0      0      0      0     13      0      5      0\n",
      "       0     10]\n",
      " [     7   2848    252      0      0      0      0      0      0      0\n",
      "       0      0      0      0      0      0    365      0      0      0\n",
      "       0      0]\n",
      " [   243    314  20227     52     56      0     14    386     43     23\n",
      "       7      9      5     97      0      0    116      1      0     69\n",
      "     119      0]\n",
      " [     4      2     84 149028   1247      0   3567     29      0      0\n",
      "     449      0      0      0      5      5      0     51     33     85\n",
      "       4   8652]\n",
      " [    54     34     58    279   5522      0      0     15      0      0\n",
      "     148      2     10      0      0      0      0      0     31     24\n",
      "       1      0]\n",
      " [     2      0      0     19      3  40988      3    389      0   1267\n",
      "     314     14   1118    262      0      0     16     51     61      1\n",
      "       7      2]\n",
      " [     0      8      0     68      2     77  17339    498     34   1273\n",
      "     707   1087     98     24     64      6      0    487   1783     55\n",
      "       0    453]\n",
      " [     0     20    100     21      1      2    181   2996      0      7\n",
      "      41     29     93    135      5     50     35    199      0      6\n",
      "      14     79]\n",
      " [     0      0      0      0      0      0      1      0  10140      2\n",
      "      34      0      0      0      0     29      0      0    478     13\n",
      "       0     82]\n",
      " [     0      8      0      0      0    842     67     76     29   9690\n",
      "     555    177     26    256      0      0     21    308    267      0\n",
      "       0     32]\n",
      " [     0      0      0     60      4    158    105     34      3    843\n",
      "    7991     65      9      0    176      1      4    389    988     50\n",
      "       0     95]\n",
      " [     0     30      0      0      0    314    164    140      0     76\n",
      "     302   6697    551      0      0     92     26    464     48     10\n",
      "       0      0]\n",
      " [     2     51    159    142     37    936    120   1630      0    491\n",
      "    1259   1323  15020    157      1     15     33    634    216     12\n",
      "     223      6]\n",
      " [     1      0    111      0      0    358     11     12      0     47\n",
      "      10     26     40   6685      0      0      7      6      2      0\n",
      "       0      0]\n",
      " [     0      0      0     11      0      0      4      0      2      4\n",
      "       0      0      0      0    941      0      0      0      0      0\n",
      "       0      0]\n",
      " [     0     14      0      0      0      0      0      0      0      0\n",
      "       0      0      0      0      0   6251    957      0      0      0\n",
      "       0      0]\n",
      " [     0     32      0      0      0      0      0      0      0      0\n",
      "       0      0      0      0      0      3   2935      0      0      0\n",
      "       0      0]\n",
      " [     0      0      0      3      0      0      0      0      0      1\n",
      "      10      0     27      0      0      0      0   3130      0      0\n",
      "       0      6]\n",
      " [     0      6      1     55      2      0      0     15      9      9\n",
      "      91      1      0      3      0      0      0      2   8304    126\n",
      "       0     48]\n",
      " [     0      0    117      0      0      0      4      0      0      0\n",
      "      46      4      0      0      0      0      1      0      0   3273\n",
      "       0      1]\n",
      " [     0      7    450      0      0      0      0     75      0      0\n",
      "       2      0      0      0      0      0      0      0      0      4\n",
      "     750      0]\n",
      " [     0      0      0      1      0      0    106      1      0      9\n",
      "       0      3      0      0      0      0      0      6      0      0\n",
      "       0   3874]]---\n",
      "Accuracy : 87.59%\n",
      "---\n",
      "class acc :\n",
      "\tRed roof: 95.00\n",
      "\tRoad: 82.03\n",
      "\tBare soil: 92.87\n",
      "\tCotton: 91.29\n",
      "\tCotton firewood: 89.38\n",
      "\tRape: 92.07\n",
      "\tChinese cabbage: 72.06\n",
      "\tPakchoi: 74.64\n",
      "\tCabbage: 94.07\n",
      "\tTuber mustard: 78.44\n",
      "\tBrassica parachinensis: 72.81\n",
      "\tBrassica chinensis: 75.13\n",
      "\tSmall Brassica chinensis: 66.85\n",
      "\tLactuca sativa: 91.38\n",
      "\tCeltuce: 97.82\n",
      "\tFilm covered lettuce: 86.55\n",
      "\tRomaine lettuce: 98.82\n",
      "\tCarrot: 98.52\n",
      "\tWhite radish: 95.76\n",
      "\tGarlic sprout: 94.98\n",
      "\tBroad bean: 58.23\n",
      "\tTree: 96.85\n",
      "---\n",
      "AA: 86.16%\n",
      "Kappa: 84.61\n",
      "\n",
      "running an experiment with the gscvit_HL_INT model\n",
      "run 3 / 5\n",
      "目标: 每类30个训练样本, 10个验证样本\n",
      "------------------------------------------------------------\n",
      "类别 0: 训练集 30样本, 验证集 10样本, 测试集 14001样本\n",
      "类别 1: 训练集 30样本, 验证集 10样本, 测试集 3472样本\n",
      "类别 2: 训练集 30样本, 验证集 10样本, 测试集 21781样本\n",
      "类别 3: 训练集 30样本, 验证集 10样本, 测试集 163245样本\n",
      "类别 4: 训练集 30样本, 验证集 10样本, 测试集 6178样本\n",
      "类别 5: 训练集 30样本, 验证集 10样本, 测试集 44517样本\n",
      "类别 6: 训练集 30样本, 验证集 10样本, 测试集 24063样本\n",
      "类别 7: 训练集 30样本, 验证集 10样本, 测试集 4014样本\n",
      "类别 8: 训练集 30样本, 验证集 10样本, 测试集 10779样本\n",
      "类别 9: 训练集 30样本, 验证集 10样本, 测试集 12354样本\n",
      "类别 10: 训练集 30样本, 验证集 10样本, 测试集 10975样本\n",
      "类别 11: 训练集 30样本, 验证集 10样本, 测试集 8914样本\n",
      "类别 12: 训练集 30样本, 验证集 10样本, 测试集 22467样本\n",
      "类别 13: 训练集 30样本, 验证集 10样本, 测试集 7316样本\n",
      "类别 14: 训练集 30样本, 验证集 10样本, 测试集 962样本\n",
      "类别 15: 训练集 30样本, 验证集 10样本, 测试集 7222样本\n",
      "类别 16: 训练集 30样本, 验证集 10样本, 测试集 2970样本\n",
      "类别 17: 训练集 30样本, 验证集 10样本, 测试集 3177样本\n",
      "类别 18: 训练集 30样本, 验证集 10样本, 测试集 8672样本\n",
      "类别 19: 训练集 30样本, 验证集 10样本, 测试集 3446样本\n",
      "类别 20: 训练集 30样本, 验证集 10样本, 测试集 1288样本\n",
      "类别 21: 训练集 30样本, 验证集 10样本, 测试集 4000样本\n",
      "\n",
      "验证采样结果:\n"
     ]
    },
    {
     "name": "stderr",
     "output_type": "stream",
     "text": [
      "  0%|▏                                         | 1/200 [00:00<01:00,  3.30it/s]"
     ]
    },
    {
     "name": "stdout",
     "output_type": "stream",
     "text": [
      "train at epoch 1/200, loss=2.660074\n",
      "epoch = 1: best OA = 0.0455\n"
     ]
    },
    {
     "name": "stderr",
     "output_type": "stream",
     "text": [
      "  1%|▍                                         | 2/200 [00:00<00:59,  3.35it/s]"
     ]
    },
    {
     "name": "stdout",
     "output_type": "stream",
     "text": [
      "epoch = 2: best OA = 0.0455\n"
     ]
    },
    {
     "name": "stderr",
     "output_type": "stream",
     "text": [
      "  2%|▋                                         | 3/200 [00:00<00:57,  3.42it/s]"
     ]
    },
    {
     "name": "stdout",
     "output_type": "stream",
     "text": [
      "epoch = 3: best OA = 0.0455\n"
     ]
    },
    {
     "name": "stderr",
     "output_type": "stream",
     "text": [
      "  2%|▊                                         | 4/200 [00:01<00:57,  3.43it/s]"
     ]
    },
    {
     "name": "stdout",
     "output_type": "stream",
     "text": [
      "epoch = 4: best OA = 0.0455\n"
     ]
    },
    {
     "name": "stderr",
     "output_type": "stream",
     "text": [
      "  2%|█                                         | 5/200 [00:01<00:56,  3.44it/s]"
     ]
    },
    {
     "name": "stdout",
     "output_type": "stream",
     "text": [
      "epoch = 5: best OA = 0.0455\n"
     ]
    },
    {
     "name": "stderr",
     "output_type": "stream",
     "text": [
      "  3%|█▎                                        | 6/200 [00:01<00:56,  3.43it/s]"
     ]
    },
    {
     "name": "stdout",
     "output_type": "stream",
     "text": [
      "epoch = 6: best OA = 0.0591\n"
     ]
    },
    {
     "name": "stderr",
     "output_type": "stream",
     "text": [
      "  4%|█▍                                        | 7/200 [00:02<00:55,  3.45it/s]"
     ]
    },
    {
     "name": "stdout",
     "output_type": "stream",
     "text": [
      "epoch = 7: best OA = 0.0864\n"
     ]
    },
    {
     "name": "stderr",
     "output_type": "stream",
     "text": [
      "  4%|█▋                                        | 8/200 [00:02<00:55,  3.44it/s]"
     ]
    },
    {
     "name": "stdout",
     "output_type": "stream",
     "text": [
      "epoch = 8: best OA = 0.1500\n"
     ]
    },
    {
     "name": "stderr",
     "output_type": "stream",
     "text": [
      "  4%|█▉                                        | 9/200 [00:02<00:55,  3.44it/s]"
     ]
    },
    {
     "name": "stdout",
     "output_type": "stream",
     "text": [
      "epoch = 9: best OA = 0.2909\n"
     ]
    },
    {
     "name": "stderr",
     "output_type": "stream",
     "text": [
      "  5%|██                                       | 10/200 [00:02<00:55,  3.45it/s]"
     ]
    },
    {
     "name": "stdout",
     "output_type": "stream",
     "text": [
      "train at epoch 10/200, loss=1.164066\n",
      "epoch = 10: best OA = 0.3864\n"
     ]
    },
    {
     "name": "stderr",
     "output_type": "stream",
     "text": [
      "  6%|██▎                                      | 11/200 [00:03<00:54,  3.45it/s]"
     ]
    },
    {
     "name": "stdout",
     "output_type": "stream",
     "text": [
      "epoch = 11: best OA = 0.5591\n"
     ]
    },
    {
     "name": "stderr",
     "output_type": "stream",
     "text": [
      "  6%|██▍                                      | 12/200 [00:03<00:54,  3.44it/s]"
     ]
    },
    {
     "name": "stdout",
     "output_type": "stream",
     "text": [
      "epoch = 12: best OA = 0.7091\n"
     ]
    },
    {
     "name": "stderr",
     "output_type": "stream",
     "text": [
      "  6%|██▋                                      | 13/200 [00:03<00:54,  3.41it/s]"
     ]
    },
    {
     "name": "stdout",
     "output_type": "stream",
     "text": [
      "epoch = 13: best OA = 0.7182\n"
     ]
    },
    {
     "name": "stderr",
     "output_type": "stream",
     "text": [
      "  7%|██▊                                      | 14/200 [00:04<00:58,  3.16it/s]"
     ]
    },
    {
     "name": "stdout",
     "output_type": "stream",
     "text": [
      "epoch = 14: best OA = 0.7773\n"
     ]
    },
    {
     "name": "stderr",
     "output_type": "stream",
     "text": [
      "  8%|███                                      | 15/200 [00:04<01:02,  2.95it/s]"
     ]
    },
    {
     "name": "stdout",
     "output_type": "stream",
     "text": [
      "epoch = 15: best OA = 0.7773\n"
     ]
    },
    {
     "name": "stderr",
     "output_type": "stream",
     "text": [
      "  8%|███▎                                     | 16/200 [00:04<01:05,  2.80it/s]"
     ]
    },
    {
     "name": "stdout",
     "output_type": "stream",
     "text": [
      "epoch = 16: best OA = 0.8273\n"
     ]
    },
    {
     "name": "stderr",
     "output_type": "stream",
     "text": [
      " 10%|████                                     | 20/200 [00:06<01:07,  2.65it/s]"
     ]
    },
    {
     "name": "stdout",
     "output_type": "stream",
     "text": [
      "train at epoch 20/200, loss=0.743199\n",
      "epoch = 20: best OA = 0.8364\n"
     ]
    },
    {
     "name": "stderr",
     "output_type": "stream",
     "text": [
      " 11%|████▌                                    | 22/200 [00:07<01:07,  2.63it/s]"
     ]
    },
    {
     "name": "stdout",
     "output_type": "stream",
     "text": [
      "epoch = 22: best OA = 0.8545\n"
     ]
    },
    {
     "name": "stderr",
     "output_type": "stream",
     "text": [
      " 15%|██████▏                                  | 30/200 [00:10<01:05,  2.62it/s]"
     ]
    },
    {
     "name": "stdout",
     "output_type": "stream",
     "text": [
      "train at epoch 30/200, loss=0.461868\n"
     ]
    },
    {
     "name": "stderr",
     "output_type": "stream",
     "text": [
      " 16%|██████▌                                  | 32/200 [00:10<01:04,  2.61it/s]"
     ]
    },
    {
     "name": "stdout",
     "output_type": "stream",
     "text": [
      "epoch = 32: best OA = 0.8636\n"
     ]
    },
    {
     "name": "stderr",
     "output_type": "stream",
     "text": [
      " 16%|██████▊                                  | 33/200 [00:11<01:04,  2.60it/s]"
     ]
    },
    {
     "name": "stdout",
     "output_type": "stream",
     "text": [
      "epoch = 33: best OA = 0.8636\n"
     ]
    },
    {
     "name": "stderr",
     "output_type": "stream",
     "text": [
      " 20%|████████▏                                | 40/200 [00:14<01:00,  2.63it/s]"
     ]
    },
    {
     "name": "stdout",
     "output_type": "stream",
     "text": [
      "train at epoch 40/200, loss=0.433932\n"
     ]
    },
    {
     "name": "stderr",
     "output_type": "stream",
     "text": [
      " 24%|█████████▊                               | 48/200 [00:17<00:57,  2.66it/s]"
     ]
    },
    {
     "name": "stdout",
     "output_type": "stream",
     "text": [
      "epoch = 48: best OA = 0.8955\n"
     ]
    },
    {
     "name": "stderr",
     "output_type": "stream",
     "text": [
      " 25%|██████████▎                              | 50/200 [00:17<00:56,  2.64it/s]"
     ]
    },
    {
     "name": "stdout",
     "output_type": "stream",
     "text": [
      "train at epoch 50/200, loss=0.371912\n"
     ]
    },
    {
     "name": "stderr",
     "output_type": "stream",
     "text": [
      " 30%|████████████▎                            | 60/200 [00:21<00:52,  2.66it/s]"
     ]
    },
    {
     "name": "stdout",
     "output_type": "stream",
     "text": [
      "train at epoch 60/200, loss=0.267686\n"
     ]
    },
    {
     "name": "stderr",
     "output_type": "stream",
     "text": [
      " 30%|████████████▌                            | 61/200 [00:21<00:52,  2.63it/s]"
     ]
    },
    {
     "name": "stdout",
     "output_type": "stream",
     "text": [
      "epoch = 61: best OA = 0.8955\n"
     ]
    },
    {
     "name": "stderr",
     "output_type": "stream",
     "text": [
      " 35%|██████████████▎                          | 70/200 [00:25<00:48,  2.67it/s]"
     ]
    },
    {
     "name": "stdout",
     "output_type": "stream",
     "text": [
      "train at epoch 70/200, loss=0.221314\n"
     ]
    },
    {
     "name": "stderr",
     "output_type": "stream",
     "text": [
      " 40%|████████████████▍                        | 80/200 [00:28<00:42,  2.80it/s]"
     ]
    },
    {
     "name": "stdout",
     "output_type": "stream",
     "text": [
      "train at epoch 80/200, loss=0.246742\n"
     ]
    },
    {
     "name": "stderr",
     "output_type": "stream",
     "text": [
      " 45%|██████████████████▍                      | 90/200 [00:32<00:38,  2.84it/s]"
     ]
    },
    {
     "name": "stdout",
     "output_type": "stream",
     "text": [
      "train at epoch 90/200, loss=0.249879\n"
     ]
    },
    {
     "name": "stderr",
     "output_type": "stream",
     "text": [
      " 48%|███████████████████▍                     | 95/200 [00:34<00:38,  2.75it/s]"
     ]
    },
    {
     "name": "stdout",
     "output_type": "stream",
     "text": [
      "epoch = 95: best OA = 0.9045\n"
     ]
    },
    {
     "name": "stderr",
     "output_type": "stream",
     "text": [
      " 50%|████████████████████                    | 100/200 [00:36<00:37,  2.67it/s]"
     ]
    },
    {
     "name": "stdout",
     "output_type": "stream",
     "text": [
      "train at epoch 100/200, loss=0.198293\n"
     ]
    },
    {
     "name": "stderr",
     "output_type": "stream",
     "text": [
      " 55%|██████████████████████                  | 110/200 [00:39<00:33,  2.66it/s]"
     ]
    },
    {
     "name": "stdout",
     "output_type": "stream",
     "text": [
      "train at epoch 110/200, loss=0.210367\n"
     ]
    },
    {
     "name": "stderr",
     "output_type": "stream",
     "text": [
      " 60%|████████████████████████                | 120/200 [00:43<00:29,  2.68it/s]"
     ]
    },
    {
     "name": "stdout",
     "output_type": "stream",
     "text": [
      "train at epoch 120/200, loss=0.222846\n"
     ]
    },
    {
     "name": "stderr",
     "output_type": "stream",
     "text": [
      " 65%|██████████████████████████              | 130/200 [00:47<00:26,  2.65it/s]"
     ]
    },
    {
     "name": "stdout",
     "output_type": "stream",
     "text": [
      "train at epoch 130/200, loss=0.263974\n"
     ]
    },
    {
     "name": "stderr",
     "output_type": "stream",
     "text": [
      " 70%|███████████████████████████▊            | 139/200 [00:50<00:22,  2.67it/s]"
     ]
    },
    {
     "name": "stdout",
     "output_type": "stream",
     "text": [
      "epoch = 139: best OA = 0.9045\n"
     ]
    },
    {
     "name": "stderr",
     "output_type": "stream",
     "text": [
      " 70%|████████████████████████████            | 140/200 [00:51<00:22,  2.66it/s]"
     ]
    },
    {
     "name": "stdout",
     "output_type": "stream",
     "text": [
      "train at epoch 140/200, loss=0.139002\n"
     ]
    },
    {
     "name": "stderr",
     "output_type": "stream",
     "text": [
      " 75%|██████████████████████████████          | 150/200 [00:54<00:18,  2.68it/s]"
     ]
    },
    {
     "name": "stdout",
     "output_type": "stream",
     "text": [
      "train at epoch 150/200, loss=0.119458\n"
     ]
    },
    {
     "name": "stderr",
     "output_type": "stream",
     "text": [
      " 77%|██████████████████████████████▊         | 154/200 [00:56<00:17,  2.66it/s]"
     ]
    },
    {
     "name": "stdout",
     "output_type": "stream",
     "text": [
      "epoch = 154: best OA = 0.9045\n"
     ]
    },
    {
     "name": "stderr",
     "output_type": "stream",
     "text": [
      " 78%|███████████████████████████████         | 155/200 [00:56<00:17,  2.63it/s]"
     ]
    },
    {
     "name": "stdout",
     "output_type": "stream",
     "text": [
      "epoch = 155: best OA = 0.9091\n"
     ]
    },
    {
     "name": "stderr",
     "output_type": "stream",
     "text": [
      " 80%|████████████████████████████████        | 160/200 [00:58<00:15,  2.67it/s]"
     ]
    },
    {
     "name": "stdout",
     "output_type": "stream",
     "text": [
      "train at epoch 160/200, loss=0.097873\n"
     ]
    },
    {
     "name": "stderr",
     "output_type": "stream",
     "text": [
      " 85%|██████████████████████████████████      | 170/200 [01:02<00:11,  2.69it/s]"
     ]
    },
    {
     "name": "stdout",
     "output_type": "stream",
     "text": [
      "train at epoch 170/200, loss=0.208873\n"
     ]
    },
    {
     "name": "stderr",
     "output_type": "stream",
     "text": [
      " 87%|██████████████████████████████████▊     | 174/200 [01:03<00:09,  2.67it/s]"
     ]
    },
    {
     "name": "stdout",
     "output_type": "stream",
     "text": [
      "epoch = 174: best OA = 0.9091\n"
     ]
    },
    {
     "name": "stderr",
     "output_type": "stream",
     "text": [
      " 90%|████████████████████████████████████    | 180/200 [01:05<00:07,  2.67it/s]"
     ]
    },
    {
     "name": "stdout",
     "output_type": "stream",
     "text": [
      "train at epoch 180/200, loss=0.102026\n"
     ]
    },
    {
     "name": "stderr",
     "output_type": "stream",
     "text": [
      " 92%|████████████████████████████████████▌   | 183/200 [01:06<00:06,  2.66it/s]"
     ]
    },
    {
     "name": "stdout",
     "output_type": "stream",
     "text": [
      "epoch = 183: best OA = 0.9091\n"
     ]
    },
    {
     "name": "stderr",
     "output_type": "stream",
     "text": [
      " 92%|████████████████████████████████████▊   | 184/200 [01:07<00:06,  2.64it/s]"
     ]
    },
    {
     "name": "stdout",
     "output_type": "stream",
     "text": [
      "epoch = 184: best OA = 0.9136\n"
     ]
    },
    {
     "name": "stderr",
     "output_type": "stream",
     "text": [
      " 95%|██████████████████████████████████████  | 190/200 [01:09<00:03,  2.73it/s]"
     ]
    },
    {
     "name": "stdout",
     "output_type": "stream",
     "text": [
      "train at epoch 190/200, loss=0.198901\n"
     ]
    },
    {
     "name": "stderr",
     "output_type": "stream",
     "text": [
      "100%|████████████████████████████████████████| 200/200 [01:13<00:00,  2.73it/s]\n"
     ]
    },
    {
     "name": "stdout",
     "output_type": "stream",
     "text": [
      "train at epoch 200/200, loss=0.211961\n"
     ]
    },
    {
     "name": "stderr",
     "output_type": "stream",
     "text": [
      "inference on the HSI: 6999it [00:47, 148.40it/s]                               \n"
     ]
    },
    {
     "name": "stdout",
     "output_type": "stream",
     "text": [
      "Confusion matrix :\n",
      "[[ 13401     86      0      8    420     27      0      8      0      0\n",
      "       5      0      3      0      0      0      0      0     43      0\n",
      "       0      0]\n",
      " [    55   2528    118      0     67      0      0      0      0      0\n",
      "       0      0      0      0      0      0    661      0      0      0\n",
      "       0     43]\n",
      " [   368    330  19685     28    137     15      0    269      0      0\n",
      "       0     12    599    148      9      2     62      0     10     66\n",
      "      10     31]\n",
      " [     3      0     20 152312   7363      0     30     47      0     31\n",
      "      64      0     56      1     14      2      0      7    114     55\n",
      "       0   3126]\n",
      " [    62     10      0    165   5773      0      0      4      0      0\n",
      "       8      0    114      0      0      0      0      0     20     22\n",
      "       0      0]\n",
      " [     0      0      6     47     49  42489      4    166      0     31\n",
      "       4     99   1048    389      0     58      0     13    113      0\n",
      "       1      0]\n",
      " [     0      6      4    118     37     28  20384    881     59    676\n",
      "      50    476      9      5     21      4      0      1    653    197\n",
      "       1    453]\n",
      " [     0      3    136     20     31      9     97   2845      0     15\n",
      "       3     12    337    304      0      0     12      1      4     47\n",
      "      87     51]\n",
      " [     0      0      0      0      0      0      0      0  10548      4\n",
      "       7      0      0      0      0      3      0      0    115     58\n",
      "       0     44]\n",
      " [     0      0      0      0      0    463    505     80     84  10873\n",
      "     110    125      2     57      0      1      0     22     11      0\n",
      "       0     21]\n",
      " [     0      0      0     27     48     49   1509      8     72   1795\n",
      "    4910     97     25      0    125      0      0      4    661    221\n",
      "       0   1424]\n",
      " [     0      0      0      0     39    251   1546    303      0    441\n",
      "       1   5873    167      0      0     45     86    106     27     20\n",
      "       0      9]\n",
      " [     0     17    227    156    206   1135    548    434     18    110\n",
      "      74   1756  15754    299      0     90     59    161    916    256\n",
      "     248      3]\n",
      " [     0      0    103      0      0     40      0     50      0    434\n",
      "       3     20      7   6659      0      0      0      0      0      0\n",
      "       0      0]\n",
      " [     0      0      0     11      0      0      3      1      0      0\n",
      "       0      0      0      0    934      0      0      0      0      7\n",
      "       0      6]\n",
      " [     0      7      0      0      0      0      0      0     22      0\n",
      "       0      0      0      0      0   6107   1086      0      0      0\n",
      "       0      0]\n",
      " [     0      0      0      0      0      0      0      3      0      0\n",
      "       0      0      0      0      0      9   2958      0      0      0\n",
      "       0      0]\n",
      " [     0      0      0      0      0      0    817      5      0     55\n",
      "      26     51     63      0      0      0      0   2145      0      0\n",
      "       0     15]\n",
      " [     0      0      0     28     18      9    293      3    287     27\n",
      "       5      9     47      2      0      0      0      1   7321    565\n",
      "       0     57]\n",
      " [     0     11    155      0      0      0     29      0      0      3\n",
      "       1      0      0      0      0      0      0      0      0   3237\n",
      "       3      7]\n",
      " [     0      0    364      9     56      0      0      3      0      0\n",
      "       0      0     84     45      0      0      0      0      0      2\n",
      "     725      0]\n",
      " [     0      0      0      0      0      0    434     33      0      0\n",
      "       0      0      0      0      0      0      0      0      0      0\n",
      "       0   3533]]---\n",
      "Accuracy : 88.38%\n",
      "---\n",
      "class acc :\n",
      "\tRed roof: 95.71\n",
      "\tRoad: 72.81\n",
      "\tBare soil: 90.38\n",
      "\tCotton: 93.30\n",
      "\tCotton firewood: 93.44\n",
      "\tRape: 95.44\n",
      "\tChinese cabbage: 84.71\n",
      "\tPakchoi: 70.88\n",
      "\tCabbage: 97.86\n",
      "\tTuber mustard: 88.01\n",
      "\tBrassica parachinensis: 44.74\n",
      "\tBrassica chinensis: 65.89\n",
      "\tSmall Brassica chinensis: 70.12\n",
      "\tLactuca sativa: 91.02\n",
      "\tCeltuce: 97.09\n",
      "\tFilm covered lettuce: 84.56\n",
      "\tRomaine lettuce: 99.60\n",
      "\tCarrot: 67.52\n",
      "\tWhite radish: 84.42\n",
      "\tGarlic sprout: 93.93\n",
      "\tBroad bean: 56.29\n",
      "\tTree: 88.33\n",
      "---\n",
      "AA: 83.00%\n",
      "Kappa: 85.52\n",
      "\n",
      "running an experiment with the gscvit_HL_INT model\n",
      "run 4 / 5\n",
      "目标: 每类30个训练样本, 10个验证样本\n",
      "------------------------------------------------------------\n",
      "类别 0: 训练集 30样本, 验证集 10样本, 测试集 14001样本\n",
      "类别 1: 训练集 30样本, 验证集 10样本, 测试集 3472样本\n",
      "类别 2: 训练集 30样本, 验证集 10样本, 测试集 21781样本\n",
      "类别 3: 训练集 30样本, 验证集 10样本, 测试集 163245样本\n",
      "类别 4: 训练集 30样本, 验证集 10样本, 测试集 6178样本\n",
      "类别 5: 训练集 30样本, 验证集 10样本, 测试集 44517样本\n",
      "类别 6: 训练集 30样本, 验证集 10样本, 测试集 24063样本\n",
      "类别 7: 训练集 30样本, 验证集 10样本, 测试集 4014样本\n",
      "类别 8: 训练集 30样本, 验证集 10样本, 测试集 10779样本\n",
      "类别 9: 训练集 30样本, 验证集 10样本, 测试集 12354样本\n",
      "类别 10: 训练集 30样本, 验证集 10样本, 测试集 10975样本\n",
      "类别 11: 训练集 30样本, 验证集 10样本, 测试集 8914样本\n",
      "类别 12: 训练集 30样本, 验证集 10样本, 测试集 22467样本\n",
      "类别 13: 训练集 30样本, 验证集 10样本, 测试集 7316样本\n",
      "类别 14: 训练集 30样本, 验证集 10样本, 测试集 962样本\n",
      "类别 15: 训练集 30样本, 验证集 10样本, 测试集 7222样本\n",
      "类别 16: 训练集 30样本, 验证集 10样本, 测试集 2970样本\n",
      "类别 17: 训练集 30样本, 验证集 10样本, 测试集 3177样本\n",
      "类别 18: 训练集 30样本, 验证集 10样本, 测试集 8672样本\n",
      "类别 19: 训练集 30样本, 验证集 10样本, 测试集 3446样本\n",
      "类别 20: 训练集 30样本, 验证集 10样本, 测试集 1288样本\n",
      "类别 21: 训练集 30样本, 验证集 10样本, 测试集 4000样本\n",
      "\n",
      "验证采样结果:\n"
     ]
    },
    {
     "name": "stderr",
     "output_type": "stream",
     "text": [
      "  0%|▏                                         | 1/200 [00:00<00:57,  3.46it/s]"
     ]
    },
    {
     "name": "stdout",
     "output_type": "stream",
     "text": [
      "train at epoch 1/200, loss=2.843332\n",
      "epoch = 1: best OA = 0.0455\n"
     ]
    },
    {
     "name": "stderr",
     "output_type": "stream",
     "text": [
      "  1%|▍                                         | 2/200 [00:00<00:55,  3.54it/s]"
     ]
    },
    {
     "name": "stdout",
     "output_type": "stream",
     "text": [
      "epoch = 2: best OA = 0.0455\n"
     ]
    },
    {
     "name": "stderr",
     "output_type": "stream",
     "text": [
      "  2%|▋                                         | 3/200 [00:00<00:54,  3.59it/s]"
     ]
    },
    {
     "name": "stdout",
     "output_type": "stream",
     "text": [
      "epoch = 3: best OA = 0.0455\n"
     ]
    },
    {
     "name": "stderr",
     "output_type": "stream",
     "text": [
      "  2%|▊                                         | 4/200 [00:01<00:54,  3.63it/s]"
     ]
    },
    {
     "name": "stdout",
     "output_type": "stream",
     "text": [
      "epoch = 4: best OA = 0.0455\n"
     ]
    },
    {
     "name": "stderr",
     "output_type": "stream",
     "text": [
      "  2%|█                                         | 5/200 [00:01<00:53,  3.63it/s]"
     ]
    },
    {
     "name": "stdout",
     "output_type": "stream",
     "text": [
      "epoch = 5: best OA = 0.0455\n"
     ]
    },
    {
     "name": "stderr",
     "output_type": "stream",
     "text": [
      "  3%|█▎                                        | 6/200 [00:01<00:53,  3.63it/s]"
     ]
    },
    {
     "name": "stdout",
     "output_type": "stream",
     "text": [
      "epoch = 6: best OA = 0.0455\n"
     ]
    },
    {
     "name": "stderr",
     "output_type": "stream",
     "text": [
      "  4%|█▍                                        | 7/200 [00:01<00:52,  3.65it/s]"
     ]
    },
    {
     "name": "stdout",
     "output_type": "stream",
     "text": [
      "epoch = 7: best OA = 0.0818\n"
     ]
    },
    {
     "name": "stderr",
     "output_type": "stream",
     "text": [
      "  4%|█▋                                        | 8/200 [00:02<00:52,  3.69it/s]"
     ]
    },
    {
     "name": "stdout",
     "output_type": "stream",
     "text": [
      "epoch = 8: best OA = 0.1455\n"
     ]
    },
    {
     "name": "stderr",
     "output_type": "stream",
     "text": [
      "  4%|█▉                                        | 9/200 [00:02<00:51,  3.68it/s]"
     ]
    },
    {
     "name": "stdout",
     "output_type": "stream",
     "text": [
      "epoch = 9: best OA = 0.2682\n"
     ]
    },
    {
     "name": "stderr",
     "output_type": "stream",
     "text": [
      "  5%|██                                       | 10/200 [00:02<00:51,  3.66it/s]"
     ]
    },
    {
     "name": "stdout",
     "output_type": "stream",
     "text": [
      "train at epoch 10/200, loss=1.197049\n",
      "epoch = 10: best OA = 0.4864\n"
     ]
    },
    {
     "name": "stderr",
     "output_type": "stream",
     "text": [
      "  6%|██▎                                      | 11/200 [00:03<00:51,  3.65it/s]"
     ]
    },
    {
     "name": "stdout",
     "output_type": "stream",
     "text": [
      "epoch = 11: best OA = 0.5818\n"
     ]
    },
    {
     "name": "stderr",
     "output_type": "stream",
     "text": [
      "  6%|██▍                                      | 12/200 [00:03<00:51,  3.66it/s]"
     ]
    },
    {
     "name": "stdout",
     "output_type": "stream",
     "text": [
      "epoch = 12: best OA = 0.6136\n"
     ]
    },
    {
     "name": "stderr",
     "output_type": "stream",
     "text": [
      "  6%|██▋                                      | 13/200 [00:03<00:51,  3.67it/s]"
     ]
    },
    {
     "name": "stdout",
     "output_type": "stream",
     "text": [
      "epoch = 13: best OA = 0.7182\n"
     ]
    },
    {
     "name": "stderr",
     "output_type": "stream",
     "text": [
      "  7%|██▊                                      | 14/200 [00:03<00:50,  3.66it/s]"
     ]
    },
    {
     "name": "stdout",
     "output_type": "stream",
     "text": [
      "epoch = 14: best OA = 0.7227\n"
     ]
    },
    {
     "name": "stderr",
     "output_type": "stream",
     "text": [
      "  8%|███                                      | 15/200 [00:04<00:50,  3.67it/s]"
     ]
    },
    {
     "name": "stdout",
     "output_type": "stream",
     "text": [
      "epoch = 15: best OA = 0.7591\n"
     ]
    },
    {
     "name": "stderr",
     "output_type": "stream",
     "text": [
      "  8%|███▍                                     | 17/200 [00:04<00:52,  3.46it/s]"
     ]
    },
    {
     "name": "stdout",
     "output_type": "stream",
     "text": [
      "epoch = 17: best OA = 0.7864\n"
     ]
    },
    {
     "name": "stderr",
     "output_type": "stream",
     "text": [
      " 10%|████                                     | 20/200 [00:05<01:01,  2.92it/s]"
     ]
    },
    {
     "name": "stdout",
     "output_type": "stream",
     "text": [
      "train at epoch 20/200, loss=0.875181\n"
     ]
    },
    {
     "name": "stderr",
     "output_type": "stream",
     "text": [
      " 12%|████▋                                    | 23/200 [00:06<01:02,  2.82it/s]"
     ]
    },
    {
     "name": "stdout",
     "output_type": "stream",
     "text": [
      "epoch = 23: best OA = 0.8136\n"
     ]
    },
    {
     "name": "stderr",
     "output_type": "stream",
     "text": [
      " 15%|██████▏                                  | 30/200 [00:09<01:03,  2.69it/s]"
     ]
    },
    {
     "name": "stdout",
     "output_type": "stream",
     "text": [
      "train at epoch 30/200, loss=0.549111\n"
     ]
    },
    {
     "name": "stderr",
     "output_type": "stream",
     "text": [
      " 16%|██████▊                                  | 33/200 [00:10<00:58,  2.85it/s]"
     ]
    },
    {
     "name": "stdout",
     "output_type": "stream",
     "text": [
      "epoch = 33: best OA = 0.8227\n"
     ]
    },
    {
     "name": "stderr",
     "output_type": "stream",
     "text": [
      " 18%|███████▏                                 | 35/200 [00:11<00:55,  2.96it/s]"
     ]
    },
    {
     "name": "stdout",
     "output_type": "stream",
     "text": [
      "epoch = 35: best OA = 0.8318\n"
     ]
    },
    {
     "name": "stderr",
     "output_type": "stream",
     "text": [
      " 20%|███████▉                                 | 39/200 [00:12<00:57,  2.79it/s]"
     ]
    },
    {
     "name": "stdout",
     "output_type": "stream",
     "text": [
      "epoch = 39: best OA = 0.8364\n"
     ]
    },
    {
     "name": "stderr",
     "output_type": "stream",
     "text": [
      " 20%|████████▏                                | 40/200 [00:12<00:58,  2.73it/s]"
     ]
    },
    {
     "name": "stdout",
     "output_type": "stream",
     "text": [
      "train at epoch 40/200, loss=0.405978\n",
      "epoch = 40: best OA = 0.8545\n"
     ]
    },
    {
     "name": "stderr",
     "output_type": "stream",
     "text": [
      " 24%|██████████                               | 49/200 [00:16<00:55,  2.73it/s]"
     ]
    },
    {
     "name": "stdout",
     "output_type": "stream",
     "text": [
      "epoch = 49: best OA = 0.8727\n"
     ]
    },
    {
     "name": "stderr",
     "output_type": "stream",
     "text": [
      " 25%|██████████▎                              | 50/200 [00:16<00:55,  2.70it/s]"
     ]
    },
    {
     "name": "stdout",
     "output_type": "stream",
     "text": [
      "train at epoch 50/200, loss=0.323656\n"
     ]
    },
    {
     "name": "stderr",
     "output_type": "stream",
     "text": [
      " 30%|████████████▎                            | 60/200 [00:20<00:51,  2.71it/s]"
     ]
    },
    {
     "name": "stdout",
     "output_type": "stream",
     "text": [
      "train at epoch 60/200, loss=0.269247\n"
     ]
    },
    {
     "name": "stderr",
     "output_type": "stream",
     "text": [
      " 35%|██████████████▎                          | 70/200 [00:23<00:46,  2.80it/s]"
     ]
    },
    {
     "name": "stdout",
     "output_type": "stream",
     "text": [
      "train at epoch 70/200, loss=0.314775\n"
     ]
    },
    {
     "name": "stderr",
     "output_type": "stream",
     "text": [
      " 40%|████████████████▍                        | 80/200 [00:27<00:44,  2.71it/s]"
     ]
    },
    {
     "name": "stdout",
     "output_type": "stream",
     "text": [
      "train at epoch 80/200, loss=0.201543\n"
     ]
    },
    {
     "name": "stderr",
     "output_type": "stream",
     "text": [
      " 40%|████████████████▌                        | 81/200 [00:27<00:44,  2.67it/s]"
     ]
    },
    {
     "name": "stdout",
     "output_type": "stream",
     "text": [
      "epoch = 81: best OA = 0.8773\n"
     ]
    },
    {
     "name": "stderr",
     "output_type": "stream",
     "text": [
      " 45%|██████████████████▍                      | 90/200 [00:31<00:40,  2.69it/s]"
     ]
    },
    {
     "name": "stdout",
     "output_type": "stream",
     "text": [
      "train at epoch 90/200, loss=0.232757\n"
     ]
    },
    {
     "name": "stderr",
     "output_type": "stream",
     "text": [
      " 50%|████████████████████                    | 100/200 [00:34<00:37,  2.70it/s]"
     ]
    },
    {
     "name": "stdout",
     "output_type": "stream",
     "text": [
      "train at epoch 100/200, loss=0.159820\n"
     ]
    },
    {
     "name": "stderr",
     "output_type": "stream",
     "text": [
      " 55%|██████████████████████                  | 110/200 [00:38<00:33,  2.71it/s]"
     ]
    },
    {
     "name": "stdout",
     "output_type": "stream",
     "text": [
      "train at epoch 110/200, loss=0.149856\n"
     ]
    },
    {
     "name": "stderr",
     "output_type": "stream",
     "text": [
      " 60%|████████████████████████                | 120/200 [00:42<00:29,  2.73it/s]"
     ]
    },
    {
     "name": "stdout",
     "output_type": "stream",
     "text": [
      "train at epoch 120/200, loss=0.240953\n"
     ]
    },
    {
     "name": "stderr",
     "output_type": "stream",
     "text": [
      " 63%|█████████████████████████▏              | 126/200 [00:44<00:26,  2.77it/s]"
     ]
    },
    {
     "name": "stdout",
     "output_type": "stream",
     "text": [
      "epoch = 126: best OA = 0.8818\n"
     ]
    },
    {
     "name": "stderr",
     "output_type": "stream",
     "text": [
      " 65%|██████████████████████████              | 130/200 [00:45<00:25,  2.79it/s]"
     ]
    },
    {
     "name": "stdout",
     "output_type": "stream",
     "text": [
      "train at epoch 130/200, loss=0.199741\n"
     ]
    },
    {
     "name": "stderr",
     "output_type": "stream",
     "text": [
      " 70%|████████████████████████████            | 140/200 [00:49<00:21,  2.84it/s]"
     ]
    },
    {
     "name": "stdout",
     "output_type": "stream",
     "text": [
      "train at epoch 140/200, loss=0.186520\n"
     ]
    },
    {
     "name": "stderr",
     "output_type": "stream",
     "text": [
      " 75%|██████████████████████████████          | 150/200 [00:52<00:17,  2.83it/s]"
     ]
    },
    {
     "name": "stdout",
     "output_type": "stream",
     "text": [
      "train at epoch 150/200, loss=0.073167\n"
     ]
    },
    {
     "name": "stderr",
     "output_type": "stream",
     "text": [
      " 80%|████████████████████████████████        | 160/200 [00:56<00:14,  2.71it/s]"
     ]
    },
    {
     "name": "stdout",
     "output_type": "stream",
     "text": [
      "train at epoch 160/200, loss=0.168692\n"
     ]
    },
    {
     "name": "stderr",
     "output_type": "stream",
     "text": [
      " 85%|██████████████████████████████████      | 170/200 [00:59<00:11,  2.66it/s]"
     ]
    },
    {
     "name": "stdout",
     "output_type": "stream",
     "text": [
      "train at epoch 170/200, loss=0.060954\n"
     ]
    },
    {
     "name": "stderr",
     "output_type": "stream",
     "text": [
      " 90%|████████████████████████████████████    | 180/200 [01:03<00:07,  2.70it/s]"
     ]
    },
    {
     "name": "stdout",
     "output_type": "stream",
     "text": [
      "train at epoch 180/200, loss=0.073838\n"
     ]
    },
    {
     "name": "stderr",
     "output_type": "stream",
     "text": [
      " 95%|██████████████████████████████████████  | 190/200 [01:07<00:03,  2.70it/s]"
     ]
    },
    {
     "name": "stdout",
     "output_type": "stream",
     "text": [
      "train at epoch 190/200, loss=0.258348\n"
     ]
    },
    {
     "name": "stderr",
     "output_type": "stream",
     "text": [
      "100%|████████████████████████████████████████| 200/200 [01:10<00:00,  2.82it/s]\n"
     ]
    },
    {
     "name": "stdout",
     "output_type": "stream",
     "text": [
      "train at epoch 200/200, loss=0.101360\n"
     ]
    },
    {
     "name": "stderr",
     "output_type": "stream",
     "text": [
      "inference on the HSI: 6999it [00:46, 149.61it/s]                               \n"
     ]
    },
    {
     "name": "stdout",
     "output_type": "stream",
     "text": [
      "Confusion matrix :\n",
      "[[ 13380     93     30     79    279     46      0      5      0      0\n",
      "       0      0      1      0      0      0      0      0     86      2\n",
      "       0      0]\n",
      " [   143   2927    245      2      0      0      0     13      0      0\n",
      "       0      0      0     12      0     13     21      0      0     95\n",
      "       0      1]\n",
      " [   122    319  19807     70     34     54      0     55      3     33\n",
      "       3     15    111    495     11      0      0      0      3    429\n",
      "     217      0]\n",
      " [     0      0      9 159471    663      5      0    487      0      0\n",
      "     146      0     14      1    122      5      0     35    584    454\n",
      "       0   1249]\n",
      " [     3     17    286    811   4728      1      0     75      0      0\n",
      "       0     21     60      1      0      2      0      0     66     21\n",
      "      86      0]\n",
      " [     0      0      0     17     38  42371      0     32      9     27\n",
      "       3     15   1555    175      0      9      0     12    248      6\n",
      "       0      0]\n",
      " [     1      8      1    183     21     54  14073    752     30    854\n",
      "     889   3755    717      1     33      0      0    911    868    176\n",
      "       0    736]\n",
      " [     0      1     83      1      1     11     31   2565      0     25\n",
      "       8     75    573    335      0      3      6    112     11     47\n",
      "      40     86]\n",
      " [     0      0      0      0      0      0      5      0  10431      0\n",
      "      92     12      0      0      0      3      0      0    130     81\n",
      "       0     25]\n",
      " [     0      0      0      6      0    173    240     53     74   9376\n",
      "    1485    555    140     57      0      0      0     71     75      5\n",
      "       0     44]\n",
      " [     0      2      4    150     19     20    270    194     38    153\n",
      "    8392    390     89      0     71      0      0    114    677    221\n",
      "       0    171]\n",
      " [     0     14      0      0      0    196     67     91      1     28\n",
      "     164   7437    274      0      0     34      2    549     21     36\n",
      "       0      0]\n",
      " [     0     37    427    120     74   1145     12    290     57      9\n",
      "      25   1922  17250    488      0     20      0    339    197     19\n",
      "      30      6]\n",
      " [     0      0     37      0      0     52     60     24      0    429\n",
      "      96    216     55   6341      0      0      0      0      0      6\n",
      "       0      0]\n",
      " [     0      0      0      1      0      0      0      0      5      0\n",
      "      28      0      0      0    918      0      0      0      0     10\n",
      "       0      0]\n",
      " [     0      3      0      0      0      0      0      0     13      0\n",
      "       0      3      0      0      0   7094    109      0      0      0\n",
      "       0      0]\n",
      " [     0    104      4      0      0      0      0      0      0      0\n",
      "       0      0      0      0      0    107   2755      0      0      0\n",
      "       0      0]\n",
      " [     0      0      0     13      0      9      0      3      3     11\n",
      "      20     31     22      0      0      0      0   3034      4      2\n",
      "       0     25]\n",
      " [     0      0      1     13      1     22      1     30     31     18\n",
      "     142     27     35      0      0      0      0      0   8109    227\n",
      "       0     15]\n",
      " [     0      0      6      2      0      0      0      2      0      0\n",
      "       9      4     17     11      0      0      0      0      0   3393\n",
      "       0      2]\n",
      " [     0      0    137      3      1      2      0      0      0      0\n",
      "       0      0     61     20      0      0      0      0      0      1\n",
      "    1063      0]\n",
      " [     0      0      0    142      0      0     35     35      0      0\n",
      "       5      0      0      0      0      0      0     96     24     48\n",
      "       0   3615]]---\n",
      "Accuracy : 90.34%\n",
      "---\n",
      "class acc :\n",
      "\tRed roof: 95.56\n",
      "\tRoad: 84.30\n",
      "\tBare soil: 90.94\n",
      "\tCotton: 97.69\n",
      "\tCotton firewood: 76.53\n",
      "\tRape: 95.18\n",
      "\tChinese cabbage: 58.48\n",
      "\tPakchoi: 63.90\n",
      "\tCabbage: 96.77\n",
      "\tTuber mustard: 75.89\n",
      "\tBrassica parachinensis: 76.46\n",
      "\tBrassica chinensis: 83.43\n",
      "\tSmall Brassica chinensis: 76.78\n",
      "\tLactuca sativa: 86.67\n",
      "\tCeltuce: 95.43\n",
      "\tFilm covered lettuce: 98.23\n",
      "\tRomaine lettuce: 92.76\n",
      "\tCarrot: 95.50\n",
      "\tWhite radish: 93.51\n",
      "\tGarlic sprout: 98.46\n",
      "\tBroad bean: 82.53\n",
      "\tTree: 90.38\n",
      "---\n",
      "AA: 86.61%\n",
      "Kappa: 87.84\n",
      "\n",
      "running an experiment with the gscvit_HL_INT model\n",
      "run 5 / 5\n",
      "目标: 每类30个训练样本, 10个验证样本\n",
      "------------------------------------------------------------\n",
      "类别 0: 训练集 30样本, 验证集 10样本, 测试集 14001样本\n",
      "类别 1: 训练集 30样本, 验证集 10样本, 测试集 3472样本\n",
      "类别 2: 训练集 30样本, 验证集 10样本, 测试集 21781样本\n",
      "类别 3: 训练集 30样本, 验证集 10样本, 测试集 163245样本\n",
      "类别 4: 训练集 30样本, 验证集 10样本, 测试集 6178样本\n",
      "类别 5: 训练集 30样本, 验证集 10样本, 测试集 44517样本\n",
      "类别 6: 训练集 30样本, 验证集 10样本, 测试集 24063样本\n",
      "类别 7: 训练集 30样本, 验证集 10样本, 测试集 4014样本\n",
      "类别 8: 训练集 30样本, 验证集 10样本, 测试集 10779样本\n",
      "类别 9: 训练集 30样本, 验证集 10样本, 测试集 12354样本\n",
      "类别 10: 训练集 30样本, 验证集 10样本, 测试集 10975样本\n",
      "类别 11: 训练集 30样本, 验证集 10样本, 测试集 8914样本\n",
      "类别 12: 训练集 30样本, 验证集 10样本, 测试集 22467样本\n",
      "类别 13: 训练集 30样本, 验证集 10样本, 测试集 7316样本\n",
      "类别 14: 训练集 30样本, 验证集 10样本, 测试集 962样本\n",
      "类别 15: 训练集 30样本, 验证集 10样本, 测试集 7222样本\n",
      "类别 16: 训练集 30样本, 验证集 10样本, 测试集 2970样本\n",
      "类别 17: 训练集 30样本, 验证集 10样本, 测试集 3177样本\n",
      "类别 18: 训练集 30样本, 验证集 10样本, 测试集 8672样本\n",
      "类别 19: 训练集 30样本, 验证集 10样本, 测试集 3446样本\n",
      "类别 20: 训练集 30样本, 验证集 10样本, 测试集 1288样本\n",
      "类别 21: 训练集 30样本, 验证集 10样本, 测试集 4000样本\n",
      "\n",
      "验证采样结果:\n"
     ]
    },
    {
     "name": "stderr",
     "output_type": "stream",
     "text": [
      "  0%|▏                                         | 1/200 [00:00<00:59,  3.33it/s]"
     ]
    },
    {
     "name": "stdout",
     "output_type": "stream",
     "text": [
      "train at epoch 1/200, loss=2.730756\n",
      "epoch = 1: best OA = 0.0455\n"
     ]
    },
    {
     "name": "stderr",
     "output_type": "stream",
     "text": [
      "  1%|▍                                         | 2/200 [00:00<00:57,  3.42it/s]"
     ]
    },
    {
     "name": "stdout",
     "output_type": "stream",
     "text": [
      "epoch = 2: best OA = 0.0455\n"
     ]
    },
    {
     "name": "stderr",
     "output_type": "stream",
     "text": [
      "  2%|▋                                         | 3/200 [00:00<00:57,  3.43it/s]"
     ]
    },
    {
     "name": "stdout",
     "output_type": "stream",
     "text": [
      "epoch = 3: best OA = 0.0455\n"
     ]
    },
    {
     "name": "stderr",
     "output_type": "stream",
     "text": [
      "  2%|▊                                         | 4/200 [00:01<00:56,  3.47it/s]"
     ]
    },
    {
     "name": "stdout",
     "output_type": "stream",
     "text": [
      "epoch = 4: best OA = 0.0545\n"
     ]
    },
    {
     "name": "stderr",
     "output_type": "stream",
     "text": [
      "  2%|█                                         | 5/200 [00:01<00:56,  3.48it/s]"
     ]
    },
    {
     "name": "stdout",
     "output_type": "stream",
     "text": [
      "epoch = 5: best OA = 0.0545\n"
     ]
    },
    {
     "name": "stderr",
     "output_type": "stream",
     "text": [
      "  3%|█▎                                        | 6/200 [00:01<00:55,  3.48it/s]"
     ]
    },
    {
     "name": "stdout",
     "output_type": "stream",
     "text": [
      "epoch = 6: best OA = 0.0545\n"
     ]
    },
    {
     "name": "stderr",
     "output_type": "stream",
     "text": [
      "  4%|█▍                                        | 7/200 [00:02<00:55,  3.50it/s]"
     ]
    },
    {
     "name": "stdout",
     "output_type": "stream",
     "text": [
      "epoch = 7: best OA = 0.0773\n"
     ]
    },
    {
     "name": "stderr",
     "output_type": "stream",
     "text": [
      "  4%|█▋                                        | 8/200 [00:02<00:54,  3.52it/s]"
     ]
    },
    {
     "name": "stdout",
     "output_type": "stream",
     "text": [
      "epoch = 8: best OA = 0.1091\n"
     ]
    },
    {
     "name": "stderr",
     "output_type": "stream",
     "text": [
      "  4%|█▉                                        | 9/200 [00:02<00:54,  3.52it/s]"
     ]
    },
    {
     "name": "stdout",
     "output_type": "stream",
     "text": [
      "epoch = 9: best OA = 0.1955\n"
     ]
    },
    {
     "name": "stderr",
     "output_type": "stream",
     "text": [
      "  5%|██                                       | 10/200 [00:02<00:57,  3.33it/s]"
     ]
    },
    {
     "name": "stdout",
     "output_type": "stream",
     "text": [
      "train at epoch 10/200, loss=1.180596\n",
      "epoch = 10: best OA = 0.3000\n"
     ]
    },
    {
     "name": "stderr",
     "output_type": "stream",
     "text": [
      "  6%|██▎                                      | 11/200 [00:03<01:01,  3.07it/s]"
     ]
    },
    {
     "name": "stdout",
     "output_type": "stream",
     "text": [
      "epoch = 11: best OA = 0.5364\n"
     ]
    },
    {
     "name": "stderr",
     "output_type": "stream",
     "text": [
      "  6%|██▍                                      | 12/200 [00:03<01:05,  2.87it/s]"
     ]
    },
    {
     "name": "stdout",
     "output_type": "stream",
     "text": [
      "epoch = 12: best OA = 0.6409\n"
     ]
    },
    {
     "name": "stderr",
     "output_type": "stream",
     "text": [
      "  6%|██▋                                      | 13/200 [00:04<01:07,  2.76it/s]"
     ]
    },
    {
     "name": "stdout",
     "output_type": "stream",
     "text": [
      "epoch = 13: best OA = 0.6727\n"
     ]
    },
    {
     "name": "stderr",
     "output_type": "stream",
     "text": [
      "  7%|██▊                                      | 14/200 [00:04<01:09,  2.68it/s]"
     ]
    },
    {
     "name": "stdout",
     "output_type": "stream",
     "text": [
      "epoch = 14: best OA = 0.7182\n"
     ]
    },
    {
     "name": "stderr",
     "output_type": "stream",
     "text": [
      "  8%|███                                      | 15/200 [00:04<01:10,  2.62it/s]"
     ]
    },
    {
     "name": "stdout",
     "output_type": "stream",
     "text": [
      "epoch = 15: best OA = 0.7545\n"
     ]
    },
    {
     "name": "stderr",
     "output_type": "stream",
     "text": [
      " 10%|████                                     | 20/200 [00:06<01:09,  2.60it/s]"
     ]
    },
    {
     "name": "stdout",
     "output_type": "stream",
     "text": [
      "train at epoch 20/200, loss=0.766026\n",
      "epoch = 20: best OA = 0.7636\n"
     ]
    },
    {
     "name": "stderr",
     "output_type": "stream",
     "text": [
      " 11%|████▌                                    | 22/200 [00:07<01:08,  2.59it/s]"
     ]
    },
    {
     "name": "stdout",
     "output_type": "stream",
     "text": [
      "epoch = 22: best OA = 0.7727\n"
     ]
    },
    {
     "name": "stderr",
     "output_type": "stream",
     "text": [
      " 12%|████▋                                    | 23/200 [00:07<01:08,  2.57it/s]"
     ]
    },
    {
     "name": "stdout",
     "output_type": "stream",
     "text": [
      "epoch = 23: best OA = 0.7727\n"
     ]
    },
    {
     "name": "stderr",
     "output_type": "stream",
     "text": [
      " 12%|████▉                                    | 24/200 [00:08<01:08,  2.56it/s]"
     ]
    },
    {
     "name": "stdout",
     "output_type": "stream",
     "text": [
      "epoch = 24: best OA = 0.7909\n"
     ]
    },
    {
     "name": "stderr",
     "output_type": "stream",
     "text": [
      " 14%|█████▌                                   | 27/200 [00:09<01:07,  2.57it/s]"
     ]
    },
    {
     "name": "stdout",
     "output_type": "stream",
     "text": [
      "epoch = 27: best OA = 0.8091\n"
     ]
    },
    {
     "name": "stderr",
     "output_type": "stream",
     "text": [
      " 15%|██████▏                                  | 30/200 [00:10<01:05,  2.59it/s]"
     ]
    },
    {
     "name": "stdout",
     "output_type": "stream",
     "text": [
      "train at epoch 30/200, loss=0.592209\n"
     ]
    },
    {
     "name": "stderr",
     "output_type": "stream",
     "text": [
      " 18%|███████▌                                 | 37/200 [00:13<01:02,  2.61it/s]"
     ]
    },
    {
     "name": "stdout",
     "output_type": "stream",
     "text": [
      "epoch = 37: best OA = 0.8409\n"
     ]
    },
    {
     "name": "stderr",
     "output_type": "stream",
     "text": [
      " 20%|████████▏                                | 40/200 [00:14<01:00,  2.64it/s]"
     ]
    },
    {
     "name": "stdout",
     "output_type": "stream",
     "text": [
      "train at epoch 40/200, loss=0.495360\n"
     ]
    },
    {
     "name": "stderr",
     "output_type": "stream",
     "text": [
      " 20%|████████▍                                | 41/200 [00:14<01:00,  2.61it/s]"
     ]
    },
    {
     "name": "stdout",
     "output_type": "stream",
     "text": [
      "epoch = 41: best OA = 0.8409\n"
     ]
    },
    {
     "name": "stderr",
     "output_type": "stream",
     "text": [
      " 25%|██████████▎                              | 50/200 [00:18<00:54,  2.76it/s]"
     ]
    },
    {
     "name": "stdout",
     "output_type": "stream",
     "text": [
      "train at epoch 50/200, loss=0.373749\n"
     ]
    },
    {
     "name": "stderr",
     "output_type": "stream",
     "text": [
      " 28%|███████████▍                             | 56/200 [00:20<00:53,  2.71it/s]"
     ]
    },
    {
     "name": "stdout",
     "output_type": "stream",
     "text": [
      "epoch = 56: best OA = 0.8409\n"
     ]
    },
    {
     "name": "stderr",
     "output_type": "stream",
     "text": [
      " 30%|████████████▎                            | 60/200 [00:21<00:50,  2.76it/s]"
     ]
    },
    {
     "name": "stdout",
     "output_type": "stream",
     "text": [
      "train at epoch 60/200, loss=0.476538\n"
     ]
    },
    {
     "name": "stderr",
     "output_type": "stream",
     "text": [
      " 35%|██████████████▎                          | 70/200 [00:25<00:49,  2.64it/s]"
     ]
    },
    {
     "name": "stdout",
     "output_type": "stream",
     "text": [
      "train at epoch 70/200, loss=0.314965\n",
      "epoch = 70: best OA = 0.8455\n"
     ]
    },
    {
     "name": "stderr",
     "output_type": "stream",
     "text": [
      " 36%|██████████████▉                          | 73/200 [00:26<00:47,  2.66it/s]"
     ]
    },
    {
     "name": "stdout",
     "output_type": "stream",
     "text": [
      "epoch = 73: best OA = 0.8500\n"
     ]
    },
    {
     "name": "stderr",
     "output_type": "stream",
     "text": [
      " 40%|████████████████▍                        | 80/200 [00:29<00:45,  2.64it/s]"
     ]
    },
    {
     "name": "stdout",
     "output_type": "stream",
     "text": [
      "train at epoch 80/200, loss=0.383288\n"
     ]
    },
    {
     "name": "stderr",
     "output_type": "stream",
     "text": [
      " 41%|████████████████▊                        | 82/200 [00:29<00:44,  2.64it/s]"
     ]
    },
    {
     "name": "stdout",
     "output_type": "stream",
     "text": [
      "epoch = 82: best OA = 0.8500\n"
     ]
    },
    {
     "name": "stderr",
     "output_type": "stream",
     "text": [
      " 42%|█████████████████▏                       | 84/200 [00:30<00:44,  2.63it/s]"
     ]
    },
    {
     "name": "stdout",
     "output_type": "stream",
     "text": [
      "epoch = 84: best OA = 0.8591\n"
     ]
    },
    {
     "name": "stderr",
     "output_type": "stream",
     "text": [
      " 45%|██████████████████▍                      | 90/200 [00:32<00:41,  2.65it/s]"
     ]
    },
    {
     "name": "stdout",
     "output_type": "stream",
     "text": [
      "train at epoch 90/200, loss=0.200792\n",
      "epoch = 90: best OA = 0.8636\n"
     ]
    },
    {
     "name": "stderr",
     "output_type": "stream",
     "text": [
      " 50%|████████████████████                    | 100/200 [00:36<00:37,  2.69it/s]"
     ]
    },
    {
     "name": "stdout",
     "output_type": "stream",
     "text": [
      "train at epoch 100/200, loss=0.273547\n"
     ]
    },
    {
     "name": "stderr",
     "output_type": "stream",
     "text": [
      " 53%|█████████████████████▏                  | 106/200 [00:38<00:34,  2.69it/s]"
     ]
    },
    {
     "name": "stdout",
     "output_type": "stream",
     "text": [
      "epoch = 106: best OA = 0.8773\n"
     ]
    },
    {
     "name": "stderr",
     "output_type": "stream",
     "text": [
      " 55%|██████████████████████                  | 110/200 [00:40<00:33,  2.72it/s]"
     ]
    },
    {
     "name": "stdout",
     "output_type": "stream",
     "text": [
      "train at epoch 110/200, loss=0.212060\n"
     ]
    },
    {
     "name": "stderr",
     "output_type": "stream",
     "text": [
      " 60%|████████████████████████                | 120/200 [00:43<00:28,  2.79it/s]"
     ]
    },
    {
     "name": "stdout",
     "output_type": "stream",
     "text": [
      "train at epoch 120/200, loss=0.241144\n"
     ]
    },
    {
     "name": "stderr",
     "output_type": "stream",
     "text": [
      " 65%|██████████████████████████              | 130/200 [00:47<00:25,  2.77it/s]"
     ]
    },
    {
     "name": "stdout",
     "output_type": "stream",
     "text": [
      "train at epoch 130/200, loss=0.230795\n"
     ]
    },
    {
     "name": "stderr",
     "output_type": "stream",
     "text": [
      " 70%|████████████████████████████            | 140/200 [00:51<00:22,  2.69it/s]"
     ]
    },
    {
     "name": "stdout",
     "output_type": "stream",
     "text": [
      "train at epoch 140/200, loss=0.140109\n"
     ]
    },
    {
     "name": "stderr",
     "output_type": "stream",
     "text": [
      " 75%|██████████████████████████████          | 150/200 [00:54<00:18,  2.71it/s]"
     ]
    },
    {
     "name": "stdout",
     "output_type": "stream",
     "text": [
      "train at epoch 150/200, loss=0.166762\n"
     ]
    },
    {
     "name": "stderr",
     "output_type": "stream",
     "text": [
      " 80%|████████████████████████████████        | 160/200 [00:58<00:14,  2.70it/s]"
     ]
    },
    {
     "name": "stdout",
     "output_type": "stream",
     "text": [
      "train at epoch 160/200, loss=0.158449\n"
     ]
    },
    {
     "name": "stderr",
     "output_type": "stream",
     "text": [
      " 85%|██████████████████████████████████      | 170/200 [01:02<00:11,  2.70it/s]"
     ]
    },
    {
     "name": "stdout",
     "output_type": "stream",
     "text": [
      "train at epoch 170/200, loss=0.162819\n"
     ]
    },
    {
     "name": "stderr",
     "output_type": "stream",
     "text": [
      " 90%|████████████████████████████████████    | 180/200 [01:05<00:06,  2.88it/s]"
     ]
    },
    {
     "name": "stdout",
     "output_type": "stream",
     "text": [
      "train at epoch 180/200, loss=0.353630\n"
     ]
    },
    {
     "name": "stderr",
     "output_type": "stream",
     "text": [
      " 94%|█████████████████████████████████████▍  | 187/200 [01:07<00:04,  2.89it/s]"
     ]
    },
    {
     "name": "stdout",
     "output_type": "stream",
     "text": [
      "epoch = 187: best OA = 0.8864\n"
     ]
    },
    {
     "name": "stderr",
     "output_type": "stream",
     "text": [
      " 95%|██████████████████████████████████████  | 190/200 [01:08<00:03,  2.84it/s]"
     ]
    },
    {
     "name": "stdout",
     "output_type": "stream",
     "text": [
      "train at epoch 190/200, loss=0.128106\n"
     ]
    },
    {
     "name": "stderr",
     "output_type": "stream",
     "text": [
      " 98%|███████████████████████████████████████▏| 196/200 [01:11<00:01,  2.67it/s]"
     ]
    },
    {
     "name": "stdout",
     "output_type": "stream",
     "text": [
      "epoch = 196: best OA = 0.8955\n"
     ]
    },
    {
     "name": "stderr",
     "output_type": "stream",
     "text": [
      "100%|████████████████████████████████████████| 200/200 [01:12<00:00,  2.75it/s]\n"
     ]
    },
    {
     "name": "stdout",
     "output_type": "stream",
     "text": [
      "train at epoch 200/200, loss=0.156779\n"
     ]
    },
    {
     "name": "stderr",
     "output_type": "stream",
     "text": [
      "inference on the HSI: 6999it [00:46, 149.71it/s]                               "
     ]
    },
    {
     "name": "stdout",
     "output_type": "stream",
     "text": [
      "Confusion matrix :\n",
      "[[ 13750    136     24     47     33     11      0      0      0      0\n",
      "       0      0      0      0      0      0      0      0      0      0\n",
      "       0      0]\n",
      " [   205   3062    110      0      6      0      5     26      0      0\n",
      "       0      0      4      0      0      0      9      0      1     44\n",
      "       0      0]\n",
      " [   208    255  19601     10     36      0      2    235     25      0\n",
      "       1     78     30     12      4      2      5      0      5     97\n",
      "    1175      0]\n",
      " [   684      0    119 151208   7281      2     16     71      0      8\n",
      "    2199     75     92      0     33      0      0      7     70     33\n",
      "     498    849]\n",
      " [    94      9     46    324   5275      0      1     20      0      0\n",
      "      52      7    156      0      0      0      0      0     12     13\n",
      "     169      0]\n",
      " [    68      0     12     19     12  40582      0   1533      0      5\n",
      "      73     37   1330    757      0      0      0      7     39      0\n",
      "      43      0]\n",
      " [    14      7     25     44      3    285  16876   1480      0   1003\n",
      "    1240   1513    360     45     29      0      0    107    130     36\n",
      "      45    821]\n",
      " [     8      0    101     32      0      3    209   3085      0      4\n",
      "      43      5    174     78      0      0     25      0      1      8\n",
      "     207     31]\n",
      " [     0      0      0      3      0      0     12      1  10094      8\n",
      "     209      4      1      5      2      8      0      0    399     32\n",
      "       0      1]\n",
      " [     0      0      7      7      0    222    133    571      1   8563\n",
      "     558    105     50   1949      0      0      0     92      8      0\n",
      "       2     86]\n",
      " [     7      3      0     51      4     72    252    297      0   1199\n",
      "    7563    205     77    151    124      0      0    408    118      7\n",
      "       2    435]\n",
      " [     0      3      1      0      0     49    144   1292      0     81\n",
      "     193   6334    551     19      0      0      0    224      3      0\n",
      "       1     19]\n",
      " [    25     11    221    148     21    768    420   2568      0     24\n",
      "     756    838  15759     57      0      2      0    185     33     38\n",
      "     593      0]\n",
      " [     0      0    191      0      0     51      0    259      0     20\n",
      "      27      2      1   6743      0      0      0      1      0      0\n",
      "      21      0]\n",
      " [     0      0      0      0      0      0      0      0      0      0\n",
      "       4      0      0      0    958      0      0      0      0      0\n",
      "       0      0]\n",
      " [     0     17      0      0      0      0      0      3      5      0\n",
      "       0     15      5      9      0   6951    209      0      8      0\n",
      "       0      0]\n",
      " [     0     39      0      0      0      0      0      3      0      0\n",
      "       0      0     22      0      0    112   2784      0     10      0\n",
      "       0      0]\n",
      " [     0      0      0      0      0      0      0      7      0      3\n",
      "      42     56    108      0      0      0      0   2794      3      0\n",
      "       0    164]\n",
      " [    27      0     15     42     12    867      7     95     17     47\n",
      "     260    341    137     12      0      0      0     73   6348    256\n",
      "      21     95]\n",
      " [     0      0     87      6      0      0     37      6      2      0\n",
      "      31      0      0      0      5      0      0      0      0   3262\n",
      "       7      3]\n",
      " [     0      0     23      0      0      0      0      8      0      0\n",
      "       0      0      0      0      0      0      0      0      0      0\n",
      "    1257      0]\n",
      " [     0      0      0    154      0      0     92     24      0      0\n",
      "       5      1      0      0      0      0      0      0      0      0\n",
      "       0   3724]]---\n",
      "Accuracy : 87.24%\n",
      "---\n",
      "class acc :\n",
      "\tRed roof: 98.21\n",
      "\tRoad: 88.19\n",
      "\tBare soil: 89.99\n",
      "\tCotton: 92.63\n",
      "\tCotton firewood: 85.38\n",
      "\tRape: 91.16\n",
      "\tChinese cabbage: 70.13\n",
      "\tPakchoi: 76.86\n",
      "\tCabbage: 93.65\n",
      "\tTuber mustard: 69.31\n",
      "\tBrassica parachinensis: 68.91\n",
      "\tBrassica chinensis: 71.06\n",
      "\tSmall Brassica chinensis: 70.14\n",
      "\tLactuca sativa: 92.17\n",
      "\tCeltuce: 99.58\n",
      "\tFilm covered lettuce: 96.25\n",
      "\tRomaine lettuce: 93.74\n",
      "\tCarrot: 87.94\n",
      "\tWhite radish: 73.20\n",
      "\tGarlic sprout: 94.66\n",
      "\tBroad bean: 97.59\n",
      "\tTree: 93.10\n",
      "---\n",
      "AA: 86.08%\n",
      "Kappa: 84.13\n",
      "\n",
      "Agregated results :\n",
      "Confusion matrix :\n",
      "[[1.34506e+04 1.45800e+02 2.08000e+01 2.86000e+01 2.35200e+02 5.96000e+01\n",
      "  8.80000e+00 9.80000e+00 0.00000e+00 0.00000e+00 7.20000e+00 0.00000e+00\n",
      "  8.00000e-01 0.00000e+00 1.00000e+00 0.00000e+00 2.60000e+00 0.00000e+00\n",
      "  2.78000e+01 4.00000e-01 0.00000e+00 2.00000e+00]\n",
      " [1.13800e+02 2.82080e+03 1.83400e+02 4.00000e-01 1.60000e+01 0.00000e+00\n",
      "  1.00000e+00 7.80000e+00 0.00000e+00 0.00000e+00 0.00000e+00 0.00000e+00\n",
      "  8.00000e-01 2.40000e+00 0.00000e+00 2.60000e+00 2.83800e+02 0.00000e+00\n",
      "  2.00000e-01 3.02000e+01 0.00000e+00 8.80000e+00]\n",
      " [2.34400e+02 2.68200e+02 1.99414e+04 3.22000e+01 9.90000e+01 1.38000e+01\n",
      "  4.00000e+00 1.98000e+02 1.46000e+01 1.16000e+01 2.60000e+00 2.44000e+01\n",
      "  1.50200e+02 1.50400e+02 5.00000e+00 8.00000e-01 4.06000e+01 2.00000e-01\n",
      "  3.60000e+00 2.05800e+02 3.74000e+02 6.20000e+00]\n",
      " [1.47400e+02 6.00000e-01 6.62000e+01 1.50990e+05 6.32420e+03 1.40000e+00\n",
      "  8.19600e+02 1.78800e+02 4.40000e+00 1.24000e+01 6.96800e+02 1.50000e+01\n",
      "  4.12000e+01 6.00000e-01 3.48000e+01 2.80000e+00 0.00000e+00 2.04000e+01\n",
      "  1.88200e+02 1.77800e+02 1.03200e+02 3.41920e+03]\n",
      " [4.26000e+01 1.80000e+01 8.74000e+01 3.27800e+02 5.40980e+03 2.00000e-01\n",
      "  1.48000e+01 3.38000e+01 0.00000e+00 0.00000e+00 5.46000e+01 9.80000e+00\n",
      "  8.46000e+01 2.00000e-01 0.00000e+00 4.00000e-01 0.00000e+00 4.00000e-01\n",
      "  2.64000e+01 1.60000e+01 5.12000e+01 0.00000e+00]\n",
      " [1.42000e+01 0.00000e+00 1.86000e+01 2.42000e+01 2.98000e+01 4.12044e+04\n",
      "  2.58000e+01 5.07200e+02 2.00000e+00 7.94200e+02 8.18000e+01 3.62000e+01\n",
      "  1.17780e+03 3.23000e+02 2.00000e-01 1.34000e+01 3.20000e+00 1.94000e+01\n",
      "  2.29000e+02 2.00000e+00 1.02000e+01 4.00000e-01]\n",
      " [3.00000e+00 7.60000e+00 9.80000e+00 1.00200e+02 2.00000e+01 9.02000e+01\n",
      "  1.67798e+04 9.04600e+02 2.48000e+01 1.21020e+03 5.84800e+02 2.24420e+03\n",
      "  2.48200e+02 2.10000e+01 3.56000e+01 2.00000e+00 0.00000e+00 3.16600e+02\n",
      "  7.63600e+02 9.98000e+01 9.20000e+00 5.87800e+02]\n",
      " [1.60000e+00 5.40000e+00 1.35000e+02 1.48000e+01 6.60000e+00 6.40000e+00\n",
      "  1.29400e+02 2.94040e+03 0.00000e+00 2.72000e+01 1.90000e+01 2.88000e+01\n",
      "  2.55000e+02 1.70400e+02 1.00000e+00 1.06000e+01 1.74000e+01 6.28000e+01\n",
      "  3.20000e+00 3.34000e+01 8.40000e+01 6.16000e+01]\n",
      " [0.00000e+00 0.00000e+00 0.00000e+00 6.00000e-01 0.00000e+00 0.00000e+00\n",
      "  7.60000e+00 2.00000e-01 1.03442e+04 7.60000e+00 7.00000e+01 3.20000e+00\n",
      "  2.00000e-01 1.00000e+00 4.00000e-01 8.60000e+00 0.00000e+00 0.00000e+00\n",
      "  2.63400e+02 4.16000e+01 0.00000e+00 3.04000e+01]\n",
      " [0.00000e+00 1.60000e+00 3.40000e+00 2.60000e+00 0.00000e+00 3.43600e+02\n",
      "  2.46400e+02 1.68800e+02 3.90000e+01 9.99320e+03 5.46800e+02 2.33200e+02\n",
      "  6.30000e+01 4.78200e+02 2.40000e+00 2.00000e-01 4.20000e+00 1.11600e+02\n",
      "  7.58000e+01 1.00000e+00 4.00000e-01 3.86000e+01]\n",
      " [1.40000e+00 1.00000e+00 4.00000e+00 6.52000e+01 1.70000e+01 5.98000e+01\n",
      "  6.41200e+02 1.12800e+02 2.88000e+01 1.15220e+03 7.01080e+03 3.00200e+02\n",
      "  6.08000e+01 4.54000e+01 1.12800e+02 2.00000e-01 8.00000e-01 1.89600e+02\n",
      "  6.27000e+02 1.05200e+02 4.00000e-01 4.38400e+02]\n",
      " [0.00000e+00 1.02000e+01 4.74000e+01 0.00000e+00 7.80000e+00 1.71800e+02\n",
      "  4.49000e+02 4.25600e+02 2.00000e-01 1.68800e+02 1.34600e+02 6.76020e+03\n",
      "  3.48200e+02 9.20000e+00 1.60000e+00 3.50000e+01 2.28000e+01 2.81000e+02\n",
      "  2.00000e+01 1.48000e+01 2.00000e-01 5.60000e+00]\n",
      " [5.60000e+00 2.88000e+01 3.89200e+02 1.22400e+02 1.01000e+02 1.03860e+03\n",
      "  2.94400e+02 1.27020e+03 1.50000e+01 1.95600e+02 4.28400e+02 1.62780e+03\n",
      "  1.57416e+04 2.14000e+02 4.40000e+00 2.54000e+01 1.86000e+01 3.26600e+02\n",
      "  2.79800e+02 8.02000e+01 2.56400e+02 3.00000e+00]\n",
      " [2.00000e-01 0.00000e+00 1.41600e+02 0.00000e+00 0.00000e+00 1.00600e+02\n",
      "  1.52000e+01 1.76800e+02 0.00000e+00 3.10600e+02 2.72000e+01 5.34000e+01\n",
      "  2.06000e+01 6.46100e+03 0.00000e+00 0.00000e+00 1.40000e+00 1.40000e+00\n",
      "  4.00000e-01 1.20000e+00 4.40000e+00 0.00000e+00]\n",
      " [0.00000e+00 0.00000e+00 0.00000e+00 6.40000e+00 0.00000e+00 0.00000e+00\n",
      "  2.00000e+00 2.00000e-01 3.60000e+00 8.00000e-01 6.80000e+00 0.00000e+00\n",
      "  0.00000e+00 0.00000e+00 9.37600e+02 0.00000e+00 0.00000e+00 0.00000e+00\n",
      "  0.00000e+00 3.40000e+00 0.00000e+00 1.20000e+00]\n",
      " [0.00000e+00 8.40000e+00 1.56000e+01 0.00000e+00 0.00000e+00 1.00000e+00\n",
      "  0.00000e+00 1.00000e+00 1.48000e+01 1.00000e+00 0.00000e+00 3.60000e+00\n",
      "  1.00000e+00 1.80000e+00 0.00000e+00 6.59620e+03 5.75600e+02 0.00000e+00\n",
      "  2.00000e+00 0.00000e+00 0.00000e+00 0.00000e+00]\n",
      " [0.00000e+00 3.50000e+01 2.80000e+00 0.00000e+00 0.00000e+00 0.00000e+00\n",
      "  0.00000e+00 1.20000e+00 0.00000e+00 0.00000e+00 0.00000e+00 0.00000e+00\n",
      "  4.40000e+00 0.00000e+00 0.00000e+00 4.82000e+01 2.87640e+03 0.00000e+00\n",
      "  2.00000e+00 0.00000e+00 0.00000e+00 0.00000e+00]\n",
      " [0.00000e+00 0.00000e+00 2.00000e-01 3.80000e+00 0.00000e+00 1.80000e+00\n",
      "  1.66200e+02 3.20000e+00 6.00000e-01 1.40000e+01 2.54000e+01 3.46000e+01\n",
      "  5.70000e+01 0.00000e+00 0.00000e+00 0.00000e+00 0.00000e+00 2.82620e+03\n",
      "  1.40000e+00 4.00000e-01 0.00000e+00 4.22000e+01]\n",
      " [5.40000e+00 1.20000e+00 5.20000e+00 2.78000e+01 6.80000e+00 1.83000e+02\n",
      "  1.10800e+02 3.64000e+01 7.38000e+01 4.12000e+01 1.07200e+02 9.10000e+01\n",
      "  5.68000e+01 3.40000e+00 0.00000e+00 0.00000e+00 0.00000e+00 1.54000e+01\n",
      "  7.59880e+03 2.58200e+02 4.80000e+00 4.48000e+01]\n",
      " [0.00000e+00 2.20000e+00 8.56000e+01 1.60000e+00 0.00000e+00 0.00000e+00\n",
      "  1.40000e+01 5.60000e+00 1.00000e+00 6.00000e-01 1.76000e+01 2.00000e+00\n",
      "  3.40000e+00 2.20000e+00 1.00000e+00 0.00000e+00 2.00000e-01 0.00000e+00\n",
      "  4.00000e-01 3.30360e+03 2.00000e+00 3.00000e+00]\n",
      " [0.00000e+00 1.40000e+00 2.65600e+02 2.40000e+00 1.64000e+01 4.00000e-01\n",
      "  0.00000e+00 1.84000e+01 0.00000e+00 0.00000e+00 4.00000e-01 0.00000e+00\n",
      "  2.90000e+01 1.30000e+01 0.00000e+00 0.00000e+00 0.00000e+00 0.00000e+00\n",
      "  0.00000e+00 1.60000e+00 9.39400e+02 0.00000e+00]\n",
      " [0.00000e+00 0.00000e+00 6.00000e-01 6.12000e+01 0.00000e+00 0.00000e+00\n",
      "  1.55600e+02 2.30000e+01 0.00000e+00 1.80000e+00 5.20000e+00 8.00000e-01\n",
      "  0.00000e+00 0.00000e+00 0.00000e+00 0.00000e+00 0.00000e+00 2.04000e+01\n",
      "  7.00000e+00 1.48000e+01 0.00000e+00 3.70960e+03]]---\n",
      "Accuracy: 87.77±1.63\n",
      "---\n",
      "class acc :\n",
      "\tRed roof: 96.07±1.11\n",
      "\tRoad: 81.24±5.19\n",
      "\tBare soil: 91.55±1.42\n",
      "\tCotton: 92.49±3.27\n",
      "\tCotton firewood: 87.57±6.24\n",
      "\tRape: 92.56±2.47\n",
      "\tChinese cabbage: 69.73±8.92\n",
      "\tPakchoi: 73.25±5.54\n",
      "\tCabbage: 95.97±1.76\n",
      "\tTuber mustard: 80.89±8.46\n",
      "\tBrassica parachinensis: 63.88±11.70\n",
      "\tBrassica chinensis: 75.84±6.95\n",
      "\tSmall Brassica chinensis: 70.07±3.70\n",
      "\tLactuca sativa: 88.31±4.43\n",
      "\tCeltuce: 97.46±1.34\n",
      "\tFilm covered lettuce: 91.33±5.30\n",
      "\tRomaine lettuce: 96.85±2.97\n",
      "\tCarrot: 88.96±11.27\n",
      "\tWhite radish: 87.62±8.15\n",
      "\tGarlic sprout: 95.87±1.72\n",
      "\tBroad bean: 72.93±15.50\n",
      "\tTree: 92.74±3.08\n",
      "---\n",
      "AA: 85.60±1.31\n",
      "Kappa: 84.81±1.91\n",
      "\n"
     ]
    },
    {
     "name": "stderr",
     "output_type": "stream",
     "text": [
      "\n"
     ]
    }
   ],
   "source": [
    "time_all = []\n",
    "for run in range(opts.num_run):\n",
    "    np.random.seed(seeds[run])\n",
    "    torch.manual_seed(seeds[run])\n",
    "    torch.cuda.manual_seed(seeds[run])\n",
    "    cudnn.deterministic = True\n",
    "    cudnn.benchmark = False\n",
    "    print(\"running an experiment with the {} model\".format(opts.model))\n",
    "    print(\"run {} / {}\".format(run + 1, opts.num_run))\n",
    "\n",
    "    # get train_gt, val_gt and test_gt\n",
    "    train_gt, val_gt, test_gt = sample_gt(\n",
    "            gt, \n",
    "            train_samples_per_class=30,  # 每类30个训练样本\n",
    "            val_samples_per_class=10,    # 每类10个验证样本\n",
    "            seed=seeds[run]\n",
    "        )\n",
    "\n",
    "    # 设置数据加载器\n",
    "    train_loader, val_loader = setup_dataloaders(\n",
    "        image=image,\n",
    "        train_gt=train_gt,\n",
    "        val_gt=val_gt,\n",
    "        opts=opts,\n",
    "        seed=seeds[run]\n",
    "    )\n",
    "\n",
    "    # load model and loss\n",
    "    model = get_model(opts.model, opts.dataset_name, opts.patch_size)\n",
    "    model = model.to(device)\n",
    "    \n",
    "    model.set_qconfig()\n",
    "    torch.ao.quantization.prepare_qat(model, inplace=True)\n",
    "    if run == 0:\n",
    "        split_info_print(train_gt, val_gt, test_gt, labels)\n",
    "        print(\"network information:\")\n",
    "        with torch.no_grad():\n",
    "            input_shape = (1, num_bands, opts.patch_size, opts.patch_size)\n",
    "            summary(model, input_shape)\n",
    "\n",
    "    model = model.to(device)\n",
    "    # print(model)\n",
    "    optimizer, scheduler = load_scheduler(opts.model, model)\n",
    "\n",
    "    criterion = nn.CrossEntropyLoss()\n",
    "\n",
    "    # where to save checkpoint model\n",
    "    model_dir = \"./checkpoints/\" + opts.model + '/' + opts.dataset_name + '/' + str(run)\n",
    "\n",
    "    try:\n",
    "        train(model, optimizer, criterion, train_loader, val_loader, opts.epoch, model_dir, device, scheduler)\n",
    "    except KeyboardInterrupt:\n",
    "        print('\"ctrl+c\" is pused, the training is over')\n",
    "    start = time.time()\n",
    "    # test the model\n",
    "    model.eval()\n",
    "    torch.ao.quantization.convert(model, inplace=True)\n",
    "    probabilities = test(model, model_dir, image, opts.patch_size, num_classes, device)\n",
    "\n",
    "    prediction = np.argmax(probabilities, axis=-1)\n",
    "    end = time.time()\n",
    "    test_time = end - start\n",
    "    time_all.append(test_time)\n",
    "    # computing metrics\n",
    "    run_results = metrics(prediction, test_gt, n_classes=num_classes)  # only for test set\n",
    "    results.append(run_results)\n",
    "    show_results(run_results, label_values=labels)\n",
    "\n",
    "    # draw the classification map\n",
    "    # Draw(model,image,gt,opts.patch_size,opts.dataset_name,opts.model,num_classes)\n",
    "if opts.num_run > 1:\n",
    "        show_results(results, label_values=labels, agregated=True)"
   ]
  },
  {
   "cell_type": "code",
   "execution_count": null,
   "id": "cb610c10-e680-4d6a-b753-1e482dc95a0a",
   "metadata": {},
   "outputs": [],
   "source": []
  },
  {
   "cell_type": "code",
   "execution_count": null,
   "id": "9855ad45-8e98-47d4-ac5c-3f3f85ea2efa",
   "metadata": {},
   "outputs": [],
   "source": []
  },
  {
   "cell_type": "code",
   "execution_count": null,
   "id": "7507a664-1ec9-4432-bada-702fe4b2b6de",
   "metadata": {},
   "outputs": [],
   "source": []
  },
  {
   "cell_type": "code",
   "execution_count": null,
   "id": "af7d6943-59c0-4c44-893e-56bf65b9e329",
   "metadata": {},
   "outputs": [],
   "source": []
  },
  {
   "cell_type": "code",
   "execution_count": null,
   "id": "430d744c-0c22-41ea-8f1f-8f32790db40e",
   "metadata": {},
   "outputs": [],
   "source": []
  }
 ],
 "metadata": {
  "kernelspec": {
   "display_name": "Python 3 (ipykernel)",
   "language": "python",
   "name": "python3"
  },
  "language_info": {
   "codemirror_mode": {
    "name": "ipython",
    "version": 3
   },
   "file_extension": ".py",
   "mimetype": "text/x-python",
   "name": "python",
   "nbconvert_exporter": "python",
   "pygments_lexer": "ipython3",
   "version": "3.10.16"
  }
 },
 "nbformat": 4,
 "nbformat_minor": 5
}
