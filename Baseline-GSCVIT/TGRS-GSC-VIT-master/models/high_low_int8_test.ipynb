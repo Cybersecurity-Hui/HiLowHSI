{
 "cells": [
  {
   "cell_type": "code",
   "execution_count": 1,
   "id": "c403a701-35cf-4d39-bcd1-ff8b38a47f59",
   "metadata": {},
   "outputs": [],
   "source": [
    "import argparse\n",
    "import numpy as np\n",
    "import torch.nn as nn\n",
    "import torch.utils.data\n",
    "from torchsummary import summary\n",
    "from utils.dataset import load_mat_hsi, sample_gt, HSIDataset\n",
    "from utils.utils import split_info_print, metrics, show_results\n",
    "from utils.scheduler import load_scheduler\n",
    "from models.get_model import get_model\n",
    "from utils.utils import Draw\n",
    "import time\n",
    "from sklearn.utils import shuffle\n",
    "from tqdm import tqdm\n",
    "import torch.backends.cudnn as cudnn\n",
    "\n",
    "import os\n",
    "from utils.utils import grouper, sliding_window, count_sliding_window"
   ]
  },
  {
   "cell_type": "code",
   "execution_count": 2,
   "id": "2b3fd4b1-e99c-4f78-a5ad-86e7f15dbead",
   "metadata": {},
   "outputs": [
    {
     "name": "stdout",
     "output_type": "stream",
     "text": [
      "experiments will run on GPU device 0\n",
      "model = gscvit_HL_INT\n",
      "dataset = HanChuan\n",
      "dataset folder = ../data\n",
      "patch size = 8\n",
      "batch size = 128\n",
      "total epoch = 200\n",
      "0.01 for training, 0.01 for validation and 0.98 testing\n"
     ]
    }
   ],
   "source": [
    "parser = argparse.ArgumentParser(description=\"run patch-based HSI classification\")\n",
    "parser.add_argument(\"--model\", type=str, default='gscvit_HL_INT') # model name\n",
    "parser.add_argument(\"--dataset_name\", type=str, default=\"HanChuan\") # dataset name\n",
    "parser.add_argument(\"--dataset_dir\", type=str, default=\"../data\") # dataset dir\n",
    "parser.add_argument(\"--device\", type=str, default=\"0\")\n",
    "parser.add_argument(\"--patch_size\", type=int, default=8) # patch_size\n",
    "parser.add_argument(\"--num_run\", type=int, default=5)\n",
    "parser.add_argument(\"--epoch\", type=int, default=200)\n",
    "parser.add_argument(\"--bs\", type=int, default=128)  # bs = batch size\n",
    "parser.add_argument(\"--ratio\", type=float, default=0.02) # ratio of training + validation sample\n",
    "\n",
    "opts,_ = parser.parse_known_args()\n",
    "\n",
    "device = torch.device(\"cuda:{}\".format(opts.device))\n",
    "\n",
    "# print parameters\n",
    "print(\"experiments will run on GPU device {}\".format(opts.device))\n",
    "print(\"model = {}\".format(opts.model))\n",
    "print(\"dataset = {}\".format(opts.dataset_name))\n",
    "print(\"dataset folder = {}\".format(opts.dataset_dir))\n",
    "print(\"patch size = {}\".format(opts.patch_size))\n",
    "print(\"batch size = {}\".format(opts.bs))\n",
    "print(\"total epoch = {}\".format(opts.epoch))\n",
    "print(\"{} for training, {} for validation and {} testing\".format(opts.ratio / 2, opts.ratio / 2, 1 - opts.ratio))\n",
    "\n",
    "# load data\n",
    "image, gt, labels = load_mat_hsi(opts.dataset_name, opts.dataset_dir)\n",
    "\n",
    "num_classes = len(labels)\n",
    "\n",
    "num_bands = image.shape[-1]\n",
    "\n",
    "# random seeds\n",
    "seeds = [202401, 202402, 202403, 202404, 202405, 202406, 202407, 202408, 202409, 202410]\n",
    "\n",
    "# empty list to storing results\n",
    "results = []\n"
   ]
  },
  {
   "cell_type": "code",
   "execution_count": 3,
   "id": "9ad04d68-7407-4d0e-82a7-2e38732e2a96",
   "metadata": {},
   "outputs": [],
   "source": [
    "def setup_dataloaders(image, train_gt, val_gt, opts, seed):\n",
    "    \"\"\"\n",
    "    设置数据加载器\n",
    "    \"\"\"\n",
    "    # 创建数据集\n",
    "    train_set = HSIDataset(image, train_gt, patch_size=opts.patch_size, data_aug=True)\n",
    "    \n",
    "    val_set = HSIDataset(image, val_gt, patch_size=opts.patch_size, data_aug=True)\n",
    "\n",
    "    # 创建数据加载器\n",
    "    generator = torch.Generator()\n",
    "    generator.manual_seed(seed)\n",
    "\n",
    "    train_loader = torch.utils.data.DataLoader(\n",
    "        dataset=train_set,\n",
    "        batch_size=opts.bs,\n",
    "        shuffle=True,\n",
    "        drop_last=False,\n",
    "        generator=generator,\n",
    "        worker_init_fn=lambda worker_id: np.random.seed(seed + worker_id)\n",
    "    )\n",
    "\n",
    "    val_loader = torch.utils.data.DataLoader(\n",
    "        dataset=val_set,\n",
    "        batch_size=opts.bs,\n",
    "        shuffle=False,\n",
    "        drop_last=False\n",
    "    )\n",
    "\n",
    "    return train_loader, val_loader"
   ]
  },
  {
   "cell_type": "code",
   "execution_count": 4,
   "id": "3241999e-6285-4e8d-ae55-c34126d82688",
   "metadata": {},
   "outputs": [],
   "source": [
    "def setup_seed(seed):\n",
    "    # PyTorch CPU随机种子\n",
    "    torch.manual_seed(seed)\n",
    "    # 所有GPU的随机种子\n",
    "    torch.cuda.manual_seed_all(seed)\n",
    "    torch.cuda.manual_seed(seed)\n",
    "    # Python哈希种子（影响字典等数据结构的行为）\n",
    "    os.environ['PYTHONHASHSEED'] = str(seed)\n",
    "    # NumPy随机种子\n",
    "    np.random.seed(seed)\n",
    "    # Python内置随机种子\n",
    "    random.seed(seed)\n",
    "    # 启用确定性算法（降低性能但保证可重复）\n",
    "    torch.backends.cudnn.deterministic = True\n",
    "    # 关闭自动优化（固定卷积算法选择）\n",
    "    torch.backends.cudnn.benchmark = False\n",
    "    # 设置线程数，确保一致性\n",
    "    torch.set_num_threads(1)"
   ]
  },
  {
   "cell_type": "code",
   "execution_count": 5,
   "id": "185c8083-c7e7-4cb8-b25e-84f40a162136",
   "metadata": {},
   "outputs": [],
   "source": [
    "def train(network, optimizer, criterion, train_loader, val_loader, epoch, saving_path, device, scheduler=None):\n",
    "\n",
    "    best_acc = -0.1\n",
    "    losses = []\n",
    "\n",
    "    for e in tqdm(range(1, epoch+1), desc=\"\"):\n",
    "        network.train()\n",
    "        for batch_idx, (images, targets) in enumerate(train_loader):\n",
    "            images, targets = images.to(device), targets.to(device)\n",
    "            optimizer.zero_grad()\n",
    "            outputs = network(images)\n",
    "            loss = criterion(outputs, targets)\n",
    "            loss.backward()\n",
    "            optimizer.step()\n",
    "            losses.append(loss.item())\n",
    "        if e % 10 == 0 or e == 1:\n",
    "            mean_losses = np.mean(losses)\n",
    "            train_info = \"train at epoch {}/{}, loss={:.6f}\"\n",
    "            train_info = train_info.format(e, epoch,  mean_losses)\n",
    "            tqdm.write(train_info)\n",
    "            losses = []\n",
    "        else:\n",
    "            losses = []\n",
    "\n",
    "        val_acc = validation(network, val_loader, device)\n",
    "\n",
    "        if scheduler is not None:\n",
    "            scheduler.step()\n",
    "\n",
    "        is_best = val_acc >= best_acc\n",
    "        best_acc = max(val_acc, best_acc)\n",
    "        save_checkpoint(network, is_best, saving_path, epoch=e, acc=best_acc)\n",
    "\n",
    "\n",
    "def validation(network, val_loader, device):\n",
    "    num_correct = 0.\n",
    "    total_num = 0.\n",
    "    network.eval()\n",
    "    for batch_idx, (images, targets) in enumerate(val_loader):\n",
    "        images, targets = images.to(device), targets.to(device)\n",
    "        outputs = network(images)\n",
    "        _, outputs = torch.max(outputs, dim=1) \n",
    "        for output, target in zip(outputs, targets):\n",
    "            num_correct = num_correct + (output.item() == target.item())\n",
    "            total_num = total_num + 1\n",
    "    overall_acc = num_correct / total_num\n",
    "    return overall_acc\n",
    "\n",
    "\n",
    "def test(network, model_dir, image, patch_size, n_classes, device):\n",
    "    #network.load_state_dict(torch.load(model_dir + \"/model_best.pth\"))\n",
    "    network.eval()\n",
    "\n",
    "    patch_size = patch_size\n",
    "    batch_size = 64\n",
    "    window_size = (patch_size, patch_size)\n",
    "    image_w, image_h = image.shape[:2]\n",
    "    pad_size = patch_size // 2\n",
    "\n",
    "    # pad the image\n",
    "    image = np.pad(image, ((pad_size, pad_size), (pad_size, pad_size), (0, 0)), mode='reflect')\n",
    "\n",
    "    probs = np.zeros(image.shape[:2] + (n_classes, ))\n",
    "\n",
    "    iterations = count_sliding_window(image, window_size=window_size) // batch_size\n",
    "    for batch in tqdm(grouper(batch_size, sliding_window(image, window_size=window_size)),\n",
    "                      total=iterations,\n",
    "                      desc=\"inference on the HSI\"):\n",
    "        with torch.no_grad():\n",
    "            data = [b[0] for b in batch]\n",
    "            data = np.copy(data)\n",
    "            data = data.transpose((0, 3, 1, 2))\n",
    "            data = torch.from_numpy(data)\n",
    "            data = data.unsqueeze(1)\n",
    "\n",
    "            indices = [b[1:] for b in batch]\n",
    "            data = data.to(device)\n",
    "            output = network(data)\n",
    "            if isinstance(output, tuple):\n",
    "                output = output[0]\n",
    "            output = output.to('cpu').numpy()\n",
    "\n",
    "            for (x, y, w, h), out in zip(indices, output):\n",
    "                probs[x + w // 2, y + h // 2] += out\n",
    "    return probs[pad_size:image_w + pad_size, pad_size:image_h + pad_size, :]\n",
    "\n",
    "\n",
    "def save_checkpoint(network, is_best, saving_path, **kwargs):\n",
    "    if not os.path.isdir(saving_path):\n",
    "        os.makedirs(saving_path, exist_ok=True)\n",
    "\n",
    "    if is_best:\n",
    "        tqdm.write(\"epoch = {epoch}: best OA = {acc:.4f}\".format(**kwargs))\n",
    "        torch.save(network.state_dict(), os.path.join(saving_path, 'model_best.pth'))\n",
    "    else:  # save the ckpt for each 10 epoch\n",
    "        if kwargs['epoch'] % 10 == 0:\n",
    "            torch.save(network.state_dict(), os.path.join(saving_path, 'model.pth'))\n",
    "\n"
   ]
  },
  {
   "cell_type": "code",
   "execution_count": null,
   "id": "870fb337-5005-4b83-9c1e-46024bbd359e",
   "metadata": {
    "scrolled": true
   },
   "outputs": [
    {
     "name": "stdout",
     "output_type": "stream",
     "text": [
      "running an experiment with the gscvit_HL_INT model\n",
      "run 1 / 5\n",
      "目标: 每类30个训练样本, 10个验证样本\n",
      "------------------------------------------------------------\n",
      "类别 0: 训练集 30样本, 验证集 10样本, 测试集 44695样本\n",
      "类别 1: 训练集 30样本, 验证集 10样本, 测试集 22713样本\n",
      "类别 2: 训练集 30样本, 验证集 10样本, 测试集 10247样本\n",
      "类别 3: 训练集 30样本, 验证集 10样本, 测试集 5313样本\n",
      "类别 4: 训练集 30样本, 验证集 10样本, 测试集 1160样本\n",
      "类别 5: 训练集 30样本, 验证集 10样本, 测试集 4493样本\n",
      "类别 6: 训练集 30样本, 验证集 10样本, 测试集 5863样本\n",
      "类别 7: 训练集 30样本, 验证集 10样本, 测试集 17938样本\n",
      "类别 8: 训练集 30样本, 验证集 10样本, 测试集 9429样本\n",
      "类别 9: 训练集 30样本, 验证集 10样本, 测试集 10476样本\n",
      "类别 10: 训练集 30样本, 验证集 10样本, 测试集 16871样本\n",
      "类别 11: 训练集 30样本, 验证集 10样本, 测试集 3639样本\n",
      "类别 12: 训练集 30样本, 验证集 10样本, 测试集 9076样本\n",
      "类别 13: 训练集 30样本, 验证集 10样本, 测试集 18520样本\n",
      "类别 14: 训练集 30样本, 验证集 10样本, 测试集 1096样本\n",
      "类别 15: 训练集 30样本, 验证集 10样本, 测试集 75361样本\n",
      "\n",
      "验证采样结果:\n",
      "------------------------------------------------------------\n",
      "类别                               训练集        验证集        测试集\n",
      "------------------------------------------------------------\n",
      "name1                             30         10      44695\n",
      "name2                             30         10      22713\n",
      "name3                             30         10      10247\n",
      "name4                             30         10       5313\n",
      "name5                             30         10       1160\n",
      "name6                             30         10       4493\n",
      "name7                             30         10       5863\n",
      "name8                             30         10      17938\n",
      "name9                             30         10       9429\n",
      "name10                            30         10      10476\n",
      "name11                            30         10      16871\n",
      "name12                            30         10       3639\n",
      "name13                            30         10       9076\n",
      "name14                            30         10      18520\n",
      "name15                            30         10       1096\n",
      "name16                            30         10      75361\n",
      "network information:\n",
      "----------------------------------------------------------------\n",
      "        Layer (type)               Output Shape         Param #\n",
      "================================================================\n",
      "            Conv2d-1            [-1, 256, 8, 8]          70,400\n",
      "       BatchNorm2d-2            [-1, 256, 8, 8]             512\n",
      "              ReLU-3            [-1, 256, 8, 8]               0\n",
      "SpectralCalibration-4            [-1, 256, 8, 8]               0\n",
      "       BatchNorm2d-5            [-1, 256, 8, 8]             512\n",
      "              ReLU-6            [-1, 256, 8, 8]               0\n",
      "   ReflectionPad2d-7            [-1, 1, 22, 22]               0\n",
      "            Conv2d-8              [-1, 1, 8, 8]             225\n",
      "    SpectralDecomp-9  [[-1, 256, 8, 8], [-1, 256, 8, 8]]               0\n",
      "           Conv2d-10            [-1, 128, 8, 8]          32,896\n",
      "MovingAverageMinMaxObserver-11            [-1, 128, 8, 8]               0\n",
      "        QuantStub-12            [-1, 128, 8, 8]               0\n",
      "   MinMaxObserver-13            [-1, 128, 1, 1]               0\n",
      "MovingAverageMinMaxObserver-14            [-1, 128, 8, 8]               0\n",
      "           Conv2d-15            [-1, 128, 8, 8]          16,512\n",
      "   MinMaxObserver-16            [-1, 128, 1, 1]               0\n",
      "MovingAverageMinMaxObserver-17            [-1, 128, 8, 8]               0\n",
      "           Conv2d-18            [-1, 128, 8, 8]          16,512\n",
      "      DeQuantStub-19            [-1, 128, 8, 8]               0\n",
      "      BatchNorm2d-20            [-1, 128, 8, 8]             256\n",
      "             ReLU-21            [-1, 128, 8, 8]               0\n",
      "           Conv2d-22             [-1, 16, 8, 8]           1,040\n",
      "           Conv2d-23             [-1, 16, 8, 8]             592\n",
      "      BatchNorm2d-24             [-1, 16, 8, 8]              32\n",
      "             ReLU-25             [-1, 16, 8, 8]               0\n",
      "              GSC-26             [-1, 16, 8, 8]               0\n",
      "    ChanLayerNorm-27             [-1, 16, 8, 8]               0\n",
      "           Conv1d-28               [-1, 48, 17]             768\n",
      "          Softmax-29            [-1, 1, 17, 17]               0\n",
      "          Dropout-30            [-1, 1, 17, 17]               0\n",
      "        LayerNorm-31             [-1, 1, 4, 16]              32\n",
      "             GELU-32             [-1, 1, 4, 16]               0\n",
      "        Rearrange-33                [-1, 16, 4]               0\n",
      "           Conv1d-34                [-1, 32, 4]             544\n",
      "        Rearrange-35             [-1, 1, 4, 32]               0\n",
      "          Softmax-36              [-1, 1, 4, 4]               0\n",
      "          Dropout-37              [-1, 1, 4, 4]               0\n",
      "           Conv2d-38             [-1, 16, 8, 8]             272\n",
      "          Dropout-39             [-1, 16, 8, 8]               0\n",
      "             GSSA-40             [-1, 16, 8, 8]               0\n",
      "          PreNorm-41             [-1, 16, 8, 8]               0\n",
      "    ChanLayerNorm-42             [-1, 16, 8, 8]               0\n",
      "      Transformer-43             [-1, 16, 8, 8]               0\n",
      "      BatchNorm2d-44             [-1, 16, 8, 8]              32\n",
      "             ReLU-45             [-1, 16, 8, 8]               0\n",
      "           Conv2d-46            [-1, 144, 8, 8]          20,880\n",
      "      BatchNorm2d-47            [-1, 144, 8, 8]             288\n",
      "             ReLU-48            [-1, 144, 8, 8]               0\n",
      "  ReflectionPad2d-49            [-1, 1, 22, 22]               0\n",
      "           Conv2d-50              [-1, 1, 8, 8]             225\n",
      "   SpectralDecomp-51  [[-1, 144, 8, 8], [-1, 144, 8, 8]]               0\n",
      "           Conv2d-52             [-1, 64, 8, 8]           9,280\n",
      "    ChanLayerNorm-53             [-1, 64, 8, 8]               0\n",
      "           Conv1d-54               [-1, 48, 17]           3,072\n",
      "          Softmax-55            [-1, 1, 17, 17]               0\n",
      "          Dropout-56            [-1, 1, 17, 17]               0\n",
      "        LayerNorm-57             [-1, 1, 4, 16]              32\n",
      "             GELU-58             [-1, 1, 4, 16]               0\n",
      "        Rearrange-59                [-1, 16, 4]               0\n",
      "           Conv1d-60                [-1, 32, 4]             544\n",
      "        Rearrange-61             [-1, 1, 4, 32]               0\n",
      "          Softmax-62              [-1, 1, 4, 4]               0\n",
      "          Dropout-63              [-1, 1, 4, 4]               0\n",
      "           Conv2d-64             [-1, 64, 8, 8]           1,088\n",
      "          Dropout-65             [-1, 64, 8, 8]               0\n",
      "             GSSA-66             [-1, 64, 8, 8]               0\n",
      "          PreNorm-67             [-1, 64, 8, 8]               0\n",
      "    ChanLayerNorm-68             [-1, 64, 8, 8]               0\n",
      "      Transformer-69             [-1, 64, 8, 8]               0\n",
      "           Conv2d-70             [-1, 64, 8, 8]           4,160\n",
      "      BatchNorm2d-71             [-1, 64, 8, 8]             128\n",
      "             ReLU-72             [-1, 64, 8, 8]               0\n",
      "           Conv2d-73             [-1, 16, 8, 8]             592\n",
      "           Conv2d-74             [-1, 16, 8, 8]             592\n",
      "      BatchNorm2d-75             [-1, 16, 8, 8]              32\n",
      "             ReLU-76             [-1, 16, 8, 8]               0\n",
      "              GSC-77             [-1, 16, 8, 8]               0\n",
      "    ChanLayerNorm-78             [-1, 16, 8, 8]               0\n",
      "           Conv1d-79               [-1, 48, 17]             768\n",
      "          Softmax-80            [-1, 1, 17, 17]               0\n",
      "          Dropout-81            [-1, 1, 17, 17]               0\n",
      "        LayerNorm-82             [-1, 1, 4, 16]              32\n",
      "             GELU-83             [-1, 1, 4, 16]               0\n",
      "        Rearrange-84                [-1, 16, 4]               0\n",
      "           Conv1d-85                [-1, 32, 4]             544\n",
      "        Rearrange-86             [-1, 1, 4, 32]               0\n",
      "          Softmax-87              [-1, 1, 4, 4]               0\n",
      "          Dropout-88              [-1, 1, 4, 4]               0\n",
      "           Conv2d-89             [-1, 16, 8, 8]             272\n",
      "          Dropout-90             [-1, 16, 8, 8]               0\n",
      "             GSSA-91             [-1, 16, 8, 8]               0\n",
      "          PreNorm-92             [-1, 16, 8, 8]               0\n",
      "    ChanLayerNorm-93             [-1, 16, 8, 8]               0\n",
      "      Transformer-94             [-1, 16, 8, 8]               0\n",
      "      BatchNorm2d-95             [-1, 16, 8, 8]              32\n",
      "             ReLU-96             [-1, 16, 8, 8]               0\n",
      "           Reduce-97                   [-1, 80]               0\n",
      "        LayerNorm-98                   [-1, 80]             160\n",
      "           Linear-99                   [-1, 16]           1,296\n",
      "================================================================\n",
      "Total params: 185,154\n",
      "Trainable params: 185,154\n",
      "Non-trainable params: 0\n",
      "----------------------------------------------------------------\n",
      "Input size (MB): 0.07\n",
      "Forward/backward pass size (MB): 2693.80\n",
      "Params size (MB): 0.71\n",
      "Estimated Total Size (MB): 2694.57\n",
      "----------------------------------------------------------------\n"
     ]
    },
    {
     "name": "stderr",
     "output_type": "stream",
     "text": [
      "  0%|▏                                         | 1/200 [00:00<02:21,  1.41it/s]"
     ]
    },
    {
     "name": "stdout",
     "output_type": "stream",
     "text": [
      "train at epoch 1/200, loss=2.537418\n",
      "epoch = 1: best OA = 0.0625\n"
     ]
    },
    {
     "name": "stderr",
     "output_type": "stream",
     "text": [
      "  1%|▍                                         | 2/200 [00:00<01:30,  2.19it/s]"
     ]
    },
    {
     "name": "stdout",
     "output_type": "stream",
     "text": [
      "epoch = 2: best OA = 0.0625\n"
     ]
    },
    {
     "name": "stderr",
     "output_type": "stream",
     "text": [
      "  2%|▋                                         | 3/200 [00:01<01:14,  2.65it/s]"
     ]
    },
    {
     "name": "stdout",
     "output_type": "stream",
     "text": [
      "epoch = 3: best OA = 0.0813\n"
     ]
    },
    {
     "name": "stderr",
     "output_type": "stream",
     "text": [
      "  2%|▊                                         | 4/200 [00:01<01:06,  2.96it/s]"
     ]
    },
    {
     "name": "stdout",
     "output_type": "stream",
     "text": [
      "epoch = 4: best OA = 0.0938\n"
     ]
    },
    {
     "name": "stderr",
     "output_type": "stream",
     "text": [
      "  4%|█▋                                        | 8/200 [00:02<00:53,  3.57it/s]"
     ]
    },
    {
     "name": "stdout",
     "output_type": "stream",
     "text": [
      "epoch = 8: best OA = 0.1000\n"
     ]
    },
    {
     "name": "stderr",
     "output_type": "stream",
     "text": [
      "  4%|█▉                                        | 9/200 [00:02<00:53,  3.55it/s]"
     ]
    },
    {
     "name": "stdout",
     "output_type": "stream",
     "text": [
      "epoch = 9: best OA = 0.1062\n"
     ]
    },
    {
     "name": "stderr",
     "output_type": "stream",
     "text": [
      "  5%|██                                       | 10/200 [00:03<00:53,  3.56it/s]"
     ]
    },
    {
     "name": "stdout",
     "output_type": "stream",
     "text": [
      "train at epoch 10/200, loss=1.084388\n",
      "epoch = 10: best OA = 0.1125\n"
     ]
    },
    {
     "name": "stderr",
     "output_type": "stream",
     "text": [
      "  6%|██▎                                      | 11/200 [00:03<00:53,  3.56it/s]"
     ]
    },
    {
     "name": "stdout",
     "output_type": "stream",
     "text": [
      "epoch = 11: best OA = 0.1625\n"
     ]
    },
    {
     "name": "stderr",
     "output_type": "stream",
     "text": [
      "  6%|██▍                                      | 12/200 [00:03<00:52,  3.55it/s]"
     ]
    },
    {
     "name": "stdout",
     "output_type": "stream",
     "text": [
      "epoch = 12: best OA = 0.1938\n"
     ]
    },
    {
     "name": "stderr",
     "output_type": "stream",
     "text": [
      "  7%|██▊                                      | 14/200 [00:04<00:51,  3.63it/s]"
     ]
    },
    {
     "name": "stdout",
     "output_type": "stream",
     "text": [
      "epoch = 14: best OA = 0.2188\n"
     ]
    },
    {
     "name": "stderr",
     "output_type": "stream",
     "text": [
      "  8%|███▎                                     | 16/200 [00:04<00:50,  3.63it/s]"
     ]
    },
    {
     "name": "stdout",
     "output_type": "stream",
     "text": [
      "epoch = 16: best OA = 0.2437\n"
     ]
    },
    {
     "name": "stderr",
     "output_type": "stream",
     "text": [
      "  8%|███▍                                     | 17/200 [00:05<00:50,  3.62it/s]"
     ]
    },
    {
     "name": "stdout",
     "output_type": "stream",
     "text": [
      "epoch = 17: best OA = 0.3438\n"
     ]
    },
    {
     "name": "stderr",
     "output_type": "stream",
     "text": [
      "  9%|███▋                                     | 18/200 [00:05<00:50,  3.61it/s]"
     ]
    },
    {
     "name": "stdout",
     "output_type": "stream",
     "text": [
      "epoch = 18: best OA = 0.4500\n"
     ]
    },
    {
     "name": "stderr",
     "output_type": "stream",
     "text": [
      " 10%|███▉                                     | 19/200 [00:05<00:50,  3.60it/s]"
     ]
    },
    {
     "name": "stdout",
     "output_type": "stream",
     "text": [
      "epoch = 19: best OA = 0.5375\n"
     ]
    },
    {
     "name": "stderr",
     "output_type": "stream",
     "text": [
      " 10%|████                                     | 20/200 [00:05<00:50,  3.58it/s]"
     ]
    },
    {
     "name": "stdout",
     "output_type": "stream",
     "text": [
      "train at epoch 20/200, loss=0.630276\n",
      "epoch = 20: best OA = 0.5625\n"
     ]
    },
    {
     "name": "stderr",
     "output_type": "stream",
     "text": [
      " 10%|████▎                                    | 21/200 [00:06<00:50,  3.58it/s]"
     ]
    },
    {
     "name": "stdout",
     "output_type": "stream",
     "text": [
      "epoch = 21: best OA = 0.6813\n"
     ]
    },
    {
     "name": "stderr",
     "output_type": "stream",
     "text": [
      " 11%|████▌                                    | 22/200 [00:06<00:49,  3.58it/s]"
     ]
    },
    {
     "name": "stdout",
     "output_type": "stream",
     "text": [
      "epoch = 22: best OA = 0.7312\n"
     ]
    },
    {
     "name": "stderr",
     "output_type": "stream",
     "text": [
      " 12%|████▋                                    | 23/200 [00:06<00:49,  3.58it/s]"
     ]
    },
    {
     "name": "stdout",
     "output_type": "stream",
     "text": [
      "epoch = 23: best OA = 0.7625\n"
     ]
    },
    {
     "name": "stderr",
     "output_type": "stream",
     "text": [
      " 12%|█████▏                                   | 25/200 [00:07<00:48,  3.64it/s]"
     ]
    },
    {
     "name": "stdout",
     "output_type": "stream",
     "text": [
      "epoch = 25: best OA = 0.8000\n"
     ]
    },
    {
     "name": "stderr",
     "output_type": "stream",
     "text": [
      " 14%|█████▉                                   | 29/200 [00:08<00:45,  3.75it/s]"
     ]
    },
    {
     "name": "stdout",
     "output_type": "stream",
     "text": [
      "epoch = 29: best OA = 0.8125\n"
     ]
    },
    {
     "name": "stderr",
     "output_type": "stream",
     "text": [
      " 15%|██████▏                                  | 30/200 [00:08<00:45,  3.70it/s]"
     ]
    },
    {
     "name": "stdout",
     "output_type": "stream",
     "text": [
      "train at epoch 30/200, loss=0.504542\n"
     ]
    },
    {
     "name": "stderr",
     "output_type": "stream",
     "text": [
      " 16%|██████▌                                  | 32/200 [00:09<00:45,  3.71it/s]"
     ]
    },
    {
     "name": "stdout",
     "output_type": "stream",
     "text": [
      "epoch = 32: best OA = 0.8125\n"
     ]
    },
    {
     "name": "stderr",
     "output_type": "stream",
     "text": [
      " 18%|███████▏                                 | 35/200 [00:09<00:44,  3.73it/s]"
     ]
    },
    {
     "name": "stdout",
     "output_type": "stream",
     "text": [
      "epoch = 35: best OA = 0.8187\n"
     ]
    },
    {
     "name": "stderr",
     "output_type": "stream",
     "text": [
      " 19%|███████▊                                 | 38/200 [00:10<00:43,  3.76it/s]"
     ]
    },
    {
     "name": "stdout",
     "output_type": "stream",
     "text": [
      "epoch = 38: best OA = 0.8187\n"
     ]
    },
    {
     "name": "stderr",
     "output_type": "stream",
     "text": [
      " 20%|████████▏                                | 40/200 [00:11<00:42,  3.74it/s]"
     ]
    },
    {
     "name": "stdout",
     "output_type": "stream",
     "text": [
      "train at epoch 40/200, loss=0.357439\n"
     ]
    },
    {
     "name": "stderr",
     "output_type": "stream",
     "text": [
      " 25%|██████████▎                              | 50/200 [00:13<00:40,  3.75it/s]"
     ]
    },
    {
     "name": "stdout",
     "output_type": "stream",
     "text": [
      "train at epoch 50/200, loss=0.263092\n"
     ]
    },
    {
     "name": "stderr",
     "output_type": "stream",
     "text": [
      " 26%|██████████▋                              | 52/200 [00:14<00:39,  3.71it/s]"
     ]
    },
    {
     "name": "stdout",
     "output_type": "stream",
     "text": [
      "epoch = 52: best OA = 0.8250\n"
     ]
    },
    {
     "name": "stderr",
     "output_type": "stream",
     "text": [
      " 28%|███████████▎                             | 55/200 [00:15<00:38,  3.75it/s]"
     ]
    },
    {
     "name": "stdout",
     "output_type": "stream",
     "text": [
      "epoch = 55: best OA = 0.8313\n"
     ]
    },
    {
     "name": "stderr",
     "output_type": "stream",
     "text": [
      " 28%|███████████▍                             | 56/200 [00:15<00:38,  3.71it/s]"
     ]
    },
    {
     "name": "stdout",
     "output_type": "stream",
     "text": [
      "epoch = 56: best OA = 0.8562\n"
     ]
    },
    {
     "name": "stderr",
     "output_type": "stream",
     "text": [
      " 30%|████████████▎                            | 60/200 [00:16<00:37,  3.76it/s]"
     ]
    },
    {
     "name": "stdout",
     "output_type": "stream",
     "text": [
      "train at epoch 60/200, loss=0.196005\n"
     ]
    },
    {
     "name": "stderr",
     "output_type": "stream",
     "text": [
      " 35%|██████████████▎                          | 70/200 [00:19<00:35,  3.69it/s]"
     ]
    },
    {
     "name": "stdout",
     "output_type": "stream",
     "text": [
      "train at epoch 70/200, loss=0.164008\n"
     ]
    },
    {
     "name": "stderr",
     "output_type": "stream",
     "text": [
      " 40%|████████████████▍                        | 80/200 [00:21<00:32,  3.74it/s]"
     ]
    },
    {
     "name": "stdout",
     "output_type": "stream",
     "text": [
      "train at epoch 80/200, loss=0.162081\n"
     ]
    },
    {
     "name": "stderr",
     "output_type": "stream",
     "text": [
      " 45%|██████████████████▍                      | 90/200 [00:24<00:29,  3.74it/s]"
     ]
    },
    {
     "name": "stdout",
     "output_type": "stream",
     "text": [
      "train at epoch 90/200, loss=0.149350\n"
     ]
    },
    {
     "name": "stderr",
     "output_type": "stream",
     "text": [
      " 50%|████████████████████                    | 100/200 [00:27<00:26,  3.83it/s]"
     ]
    },
    {
     "name": "stdout",
     "output_type": "stream",
     "text": [
      "train at epoch 100/200, loss=0.092868\n"
     ]
    },
    {
     "name": "stderr",
     "output_type": "stream",
     "text": [
      " 52%|████████████████████▌                   | 103/200 [00:27<00:25,  3.79it/s]"
     ]
    },
    {
     "name": "stdout",
     "output_type": "stream",
     "text": [
      "epoch = 103: best OA = 0.8688\n"
     ]
    },
    {
     "name": "stderr",
     "output_type": "stream",
     "text": [
      " 55%|██████████████████████                  | 110/200 [00:29<00:24,  3.74it/s]"
     ]
    },
    {
     "name": "stdout",
     "output_type": "stream",
     "text": [
      "train at epoch 110/200, loss=0.073864\n"
     ]
    },
    {
     "name": "stderr",
     "output_type": "stream",
     "text": [
      " 60%|████████████████████████                | 120/200 [00:32<00:20,  3.83it/s]"
     ]
    },
    {
     "name": "stdout",
     "output_type": "stream",
     "text": [
      "train at epoch 120/200, loss=0.083121\n"
     ]
    },
    {
     "name": "stderr",
     "output_type": "stream",
     "text": [
      " 65%|██████████████████████████              | 130/200 [00:34<00:18,  3.77it/s]"
     ]
    },
    {
     "name": "stdout",
     "output_type": "stream",
     "text": [
      "train at epoch 130/200, loss=0.114193\n"
     ]
    },
    {
     "name": "stderr",
     "output_type": "stream",
     "text": [
      " 70%|████████████████████████████            | 140/200 [00:37<00:15,  3.90it/s]"
     ]
    },
    {
     "name": "stdout",
     "output_type": "stream",
     "text": [
      "train at epoch 140/200, loss=0.096641\n"
     ]
    },
    {
     "name": "stderr",
     "output_type": "stream",
     "text": [
      " 75%|██████████████████████████████          | 150/200 [00:39<00:13,  3.74it/s]"
     ]
    },
    {
     "name": "stdout",
     "output_type": "stream",
     "text": [
      "train at epoch 150/200, loss=0.086045\n"
     ]
    },
    {
     "name": "stderr",
     "output_type": "stream",
     "text": [
      " 80%|████████████████████████████████        | 160/200 [00:42<00:10,  3.82it/s]"
     ]
    },
    {
     "name": "stdout",
     "output_type": "stream",
     "text": [
      "train at epoch 160/200, loss=0.091842\n"
     ]
    },
    {
     "name": "stderr",
     "output_type": "stream",
     "text": [
      " 85%|██████████████████████████████████      | 170/200 [00:45<00:07,  3.81it/s]"
     ]
    },
    {
     "name": "stdout",
     "output_type": "stream",
     "text": [
      "train at epoch 170/200, loss=0.075529\n"
     ]
    },
    {
     "name": "stderr",
     "output_type": "stream",
     "text": [
      " 88%|███████████████████████████████████▏    | 176/200 [00:46<00:06,  3.81it/s]"
     ]
    },
    {
     "name": "stdout",
     "output_type": "stream",
     "text": [
      "epoch = 176: best OA = 0.8688\n"
     ]
    },
    {
     "name": "stderr",
     "output_type": "stream",
     "text": [
      " 90%|████████████████████████████████████    | 180/200 [00:47<00:05,  3.84it/s]"
     ]
    },
    {
     "name": "stdout",
     "output_type": "stream",
     "text": [
      "train at epoch 180/200, loss=0.153613\n"
     ]
    },
    {
     "name": "stderr",
     "output_type": "stream",
     "text": [
      " 95%|██████████████████████████████████████  | 190/200 [00:50<00:02,  3.83it/s]"
     ]
    },
    {
     "name": "stdout",
     "output_type": "stream",
     "text": [
      "train at epoch 190/200, loss=0.059368\n"
     ]
    },
    {
     "name": "stderr",
     "output_type": "stream",
     "text": [
      "100%|████████████████████████████████████████| 200/200 [00:52<00:00,  3.78it/s]\n"
     ]
    },
    {
     "name": "stdout",
     "output_type": "stream",
     "text": [
      "train at epoch 200/200, loss=0.057114\n"
     ]
    },
    {
     "name": "stderr",
     "output_type": "stream",
     "text": [
      "inference on the HSI: 5786it [00:40, 142.83it/s]                               \n"
     ]
    },
    {
     "name": "stdout",
     "output_type": "stream",
     "text": [
      "Confusion matrix :\n",
      "[[34812    20     0     0   468   135     8     0    16     4    18   301\n",
      "   8380   510    23     0]\n",
      " [   45 16557   329    45   768  1848   544   508   748     0     0     9\n",
      "   1309     0     3     0]\n",
      " [    0    75  8637    30     0  1058     1   303     6     0     0     0\n",
      "    137     0     0     0]\n",
      " [    0     0    27  5176     0     2     0     0   108     0     0     0\n",
      "      0     0     0     0]\n",
      " [    0     0     0     0  1160     0     0     0     0     0     0     0\n",
      "      0     0     0     0]\n",
      " [  312   110    65     4    65  3466     0   103   132     1     0    12\n",
      "    215     0     8     0]\n",
      " [    0     0     0     0     0     0  4355   283   661     0     0     5\n",
      "    559     0     0     0]\n",
      " [  169   353  1273   677    25  1090   213 13126   748    13     0     1\n",
      "    237    12     1     0]\n",
      " [  209   397     0    74   851    60    10   196  7330     0     0     0\n",
      "    302     0     0     0]\n",
      " [    0     3     1     0     0     0     0     1    66 10165    19     2\n",
      "    219     0     0     0]\n",
      " [    0     0     0     0     0     0     5    10  8744   124  7194    60\n",
      "    672     0     0    62]\n",
      " [    0     0     0     0     0     0     0     0     1     0     0  2312\n",
      "   1182   144     0     0]\n",
      " [  302    86     1     0    37    44     2    23   116     3     0   130\n",
      "   8317     5    10     0]\n",
      " [   92     0    18     0    22     5     0     3   119     2   299  2611\n",
      "   3482 11785    82     0]\n",
      " [    0     0     0     0     0     2     0     0     0     0     0    51\n",
      "      0    39  1004     0]\n",
      " [    0     0     0     0     0     0    14     0  1964     0     0     0\n",
      "    125     0     0 73258]]---\n",
      "Accuracy : 81.22%\n",
      "---\n",
      "class acc :\n",
      "\tname1: 77.89\n",
      "\tname2: 72.90\n",
      "\tname3: 84.29\n",
      "\tname4: 97.42\n",
      "\tname5: 100.00\n",
      "\tname6: 77.14\n",
      "\tname7: 74.28\n",
      "\tname8: 73.17\n",
      "\tname9: 77.74\n",
      "\tname10: 97.03\n",
      "\tname11: 42.64\n",
      "\tname12: 63.53\n",
      "\tname13: 91.64\n",
      "\tname14: 63.63\n",
      "\tname15: 91.61\n",
      "\tname16: 97.21\n",
      "---\n",
      "AA: 80.13%\n",
      "Kappa: 78.29\n",
      "\n",
      "running an experiment with the gscvit_HL_INT model\n",
      "run 2 / 5\n",
      "目标: 每类30个训练样本, 10个验证样本\n",
      "------------------------------------------------------------\n",
      "类别 0: 训练集 30样本, 验证集 10样本, 测试集 44695样本\n",
      "类别 1: 训练集 30样本, 验证集 10样本, 测试集 22713样本\n",
      "类别 2: 训练集 30样本, 验证集 10样本, 测试集 10247样本\n",
      "类别 3: 训练集 30样本, 验证集 10样本, 测试集 5313样本\n",
      "类别 4: 训练集 30样本, 验证集 10样本, 测试集 1160样本\n",
      "类别 5: 训练集 30样本, 验证集 10样本, 测试集 4493样本\n",
      "类别 6: 训练集 30样本, 验证集 10样本, 测试集 5863样本\n",
      "类别 7: 训练集 30样本, 验证集 10样本, 测试集 17938样本\n",
      "类别 8: 训练集 30样本, 验证集 10样本, 测试集 9429样本\n",
      "类别 9: 训练集 30样本, 验证集 10样本, 测试集 10476样本\n",
      "类别 10: 训练集 30样本, 验证集 10样本, 测试集 16871样本\n",
      "类别 11: 训练集 30样本, 验证集 10样本, 测试集 3639样本\n",
      "类别 12: 训练集 30样本, 验证集 10样本, 测试集 9076样本\n",
      "类别 13: 训练集 30样本, 验证集 10样本, 测试集 18520样本\n",
      "类别 14: 训练集 30样本, 验证集 10样本, 测试集 1096样本\n",
      "类别 15: 训练集 30样本, 验证集 10样本, 测试集 75361样本\n",
      "\n",
      "验证采样结果:\n"
     ]
    },
    {
     "name": "stderr",
     "output_type": "stream",
     "text": [
      "  0%|▏                                         | 1/200 [00:00<00:56,  3.53it/s]"
     ]
    },
    {
     "name": "stdout",
     "output_type": "stream",
     "text": [
      "train at epoch 1/200, loss=2.484281\n",
      "epoch = 1: best OA = 0.0625\n"
     ]
    },
    {
     "name": "stderr",
     "output_type": "stream",
     "text": [
      "  1%|▍                                         | 2/200 [00:00<00:55,  3.56it/s]"
     ]
    },
    {
     "name": "stdout",
     "output_type": "stream",
     "text": [
      "epoch = 2: best OA = 0.0625\n"
     ]
    },
    {
     "name": "stderr",
     "output_type": "stream",
     "text": [
      "  2%|▋                                         | 3/200 [00:00<00:55,  3.58it/s]"
     ]
    },
    {
     "name": "stdout",
     "output_type": "stream",
     "text": [
      "epoch = 3: best OA = 0.0625\n"
     ]
    },
    {
     "name": "stderr",
     "output_type": "stream",
     "text": [
      "  2%|▊                                         | 4/200 [00:01<00:55,  3.53it/s]"
     ]
    },
    {
     "name": "stdout",
     "output_type": "stream",
     "text": [
      "epoch = 4: best OA = 0.0625\n"
     ]
    },
    {
     "name": "stderr",
     "output_type": "stream",
     "text": [
      "  2%|█                                         | 5/200 [00:01<00:54,  3.55it/s]"
     ]
    },
    {
     "name": "stdout",
     "output_type": "stream",
     "text": [
      "epoch = 5: best OA = 0.0875\n"
     ]
    },
    {
     "name": "stderr",
     "output_type": "stream",
     "text": [
      "  3%|█▎                                        | 6/200 [00:01<00:54,  3.57it/s]"
     ]
    },
    {
     "name": "stdout",
     "output_type": "stream",
     "text": [
      "epoch = 6: best OA = 0.0875\n"
     ]
    },
    {
     "name": "stderr",
     "output_type": "stream",
     "text": [
      "  4%|█▋                                        | 8/200 [00:02<00:52,  3.66it/s]"
     ]
    },
    {
     "name": "stdout",
     "output_type": "stream",
     "text": [
      "epoch = 8: best OA = 0.0875\n"
     ]
    },
    {
     "name": "stderr",
     "output_type": "stream",
     "text": [
      "  4%|█▉                                        | 9/200 [00:02<00:52,  3.65it/s]"
     ]
    },
    {
     "name": "stdout",
     "output_type": "stream",
     "text": [
      "epoch = 9: best OA = 0.0938\n"
     ]
    },
    {
     "name": "stderr",
     "output_type": "stream",
     "text": [
      "  5%|██                                       | 10/200 [00:02<00:52,  3.63it/s]"
     ]
    },
    {
     "name": "stdout",
     "output_type": "stream",
     "text": [
      "train at epoch 10/200, loss=1.067634\n",
      "epoch = 10: best OA = 0.1375\n"
     ]
    },
    {
     "name": "stderr",
     "output_type": "stream",
     "text": [
      "  6%|██▎                                      | 11/200 [00:03<00:52,  3.63it/s]"
     ]
    },
    {
     "name": "stdout",
     "output_type": "stream",
     "text": [
      "epoch = 11: best OA = 0.1437\n"
     ]
    },
    {
     "name": "stderr",
     "output_type": "stream",
     "text": [
      "  6%|██▍                                      | 12/200 [00:03<00:51,  3.62it/s]"
     ]
    },
    {
     "name": "stdout",
     "output_type": "stream",
     "text": [
      "epoch = 12: best OA = 0.1625\n"
     ]
    },
    {
     "name": "stderr",
     "output_type": "stream",
     "text": [
      "  6%|██▋                                      | 13/200 [00:03<00:51,  3.62it/s]"
     ]
    },
    {
     "name": "stdout",
     "output_type": "stream",
     "text": [
      "epoch = 13: best OA = 0.1938\n"
     ]
    },
    {
     "name": "stderr",
     "output_type": "stream",
     "text": [
      "  7%|██▊                                      | 14/200 [00:03<00:50,  3.71it/s]"
     ]
    },
    {
     "name": "stdout",
     "output_type": "stream",
     "text": [
      "epoch = 14: best OA = 0.2375\n"
     ]
    },
    {
     "name": "stderr",
     "output_type": "stream",
     "text": [
      "  8%|███                                      | 15/200 [00:04<00:50,  3.69it/s]"
     ]
    },
    {
     "name": "stdout",
     "output_type": "stream",
     "text": [
      "epoch = 15: best OA = 0.3563\n"
     ]
    },
    {
     "name": "stderr",
     "output_type": "stream",
     "text": [
      "  8%|███▎                                     | 16/200 [00:04<00:50,  3.67it/s]"
     ]
    },
    {
     "name": "stdout",
     "output_type": "stream",
     "text": [
      "epoch = 16: best OA = 0.3625\n"
     ]
    },
    {
     "name": "stderr",
     "output_type": "stream",
     "text": [
      "  8%|███▍                                     | 17/200 [00:04<00:50,  3.66it/s]"
     ]
    },
    {
     "name": "stdout",
     "output_type": "stream",
     "text": [
      "epoch = 17: best OA = 0.4625\n"
     ]
    },
    {
     "name": "stderr",
     "output_type": "stream",
     "text": [
      "  9%|███▋                                     | 18/200 [00:04<00:50,  3.62it/s]"
     ]
    },
    {
     "name": "stdout",
     "output_type": "stream",
     "text": [
      "epoch = 18: best OA = 0.5500\n"
     ]
    },
    {
     "name": "stderr",
     "output_type": "stream",
     "text": [
      " 10%|███▉                                     | 19/200 [00:05<00:49,  3.64it/s]"
     ]
    },
    {
     "name": "stdout",
     "output_type": "stream",
     "text": [
      "epoch = 19: best OA = 0.6438\n"
     ]
    },
    {
     "name": "stderr",
     "output_type": "stream",
     "text": [
      " 10%|████                                     | 20/200 [00:05<00:48,  3.68it/s]"
     ]
    },
    {
     "name": "stdout",
     "output_type": "stream",
     "text": [
      "train at epoch 20/200, loss=0.696743\n"
     ]
    },
    {
     "name": "stderr",
     "output_type": "stream",
     "text": [
      " 10%|████▎                                    | 21/200 [00:05<00:47,  3.80it/s]"
     ]
    },
    {
     "name": "stdout",
     "output_type": "stream",
     "text": [
      "epoch = 21: best OA = 0.7688\n"
     ]
    },
    {
     "name": "stderr",
     "output_type": "stream",
     "text": [
      " 11%|████▌                                    | 22/200 [00:05<00:45,  3.91it/s]"
     ]
    },
    {
     "name": "stdout",
     "output_type": "stream",
     "text": [
      "epoch = 22: best OA = 0.7688\n"
     ]
    },
    {
     "name": "stderr",
     "output_type": "stream",
     "text": [
      " 12%|████▋                                    | 23/200 [00:06<00:46,  3.80it/s]"
     ]
    },
    {
     "name": "stdout",
     "output_type": "stream",
     "text": [
      "epoch = 23: best OA = 0.8000\n"
     ]
    },
    {
     "name": "stderr",
     "output_type": "stream",
     "text": [
      " 12%|█████▏                                   | 25/200 [00:06<00:47,  3.70it/s]"
     ]
    },
    {
     "name": "stdout",
     "output_type": "stream",
     "text": [
      "epoch = 25: best OA = 0.8000\n"
     ]
    },
    {
     "name": "stderr",
     "output_type": "stream",
     "text": [
      " 14%|█████▋                                   | 28/200 [00:07<00:47,  3.64it/s]"
     ]
    },
    {
     "name": "stdout",
     "output_type": "stream",
     "text": [
      "epoch = 28: best OA = 0.8438\n"
     ]
    },
    {
     "name": "stderr",
     "output_type": "stream",
     "text": [
      " 15%|██████▏                                  | 30/200 [00:08<00:46,  3.65it/s]"
     ]
    },
    {
     "name": "stdout",
     "output_type": "stream",
     "text": [
      "train at epoch 30/200, loss=0.418000\n"
     ]
    },
    {
     "name": "stderr",
     "output_type": "stream",
     "text": [
      " 20%|████████▏                                | 40/200 [00:10<00:42,  3.72it/s]"
     ]
    },
    {
     "name": "stdout",
     "output_type": "stream",
     "text": [
      "train at epoch 40/200, loss=0.390314\n"
     ]
    },
    {
     "name": "stderr",
     "output_type": "stream",
     "text": [
      " 24%|█████████▋                               | 47/200 [00:12<00:41,  3.65it/s]"
     ]
    },
    {
     "name": "stdout",
     "output_type": "stream",
     "text": [
      "epoch = 47: best OA = 0.8562\n"
     ]
    },
    {
     "name": "stderr",
     "output_type": "stream",
     "text": [
      " 24%|██████████                               | 49/200 [00:13<00:42,  3.55it/s]"
     ]
    },
    {
     "name": "stdout",
     "output_type": "stream",
     "text": [
      "epoch = 49: best OA = 0.8562\n"
     ]
    },
    {
     "name": "stderr",
     "output_type": "stream",
     "text": [
      " 25%|██████████▎                              | 50/200 [00:13<00:42,  3.57it/s]"
     ]
    },
    {
     "name": "stdout",
     "output_type": "stream",
     "text": [
      "train at epoch 50/200, loss=0.270543\n"
     ]
    },
    {
     "name": "stderr",
     "output_type": "stream",
     "text": [
      " 27%|███████████                              | 54/200 [00:14<00:39,  3.71it/s]"
     ]
    },
    {
     "name": "stdout",
     "output_type": "stream",
     "text": [
      "epoch = 54: best OA = 0.8625\n"
     ]
    },
    {
     "name": "stderr",
     "output_type": "stream",
     "text": [
      " 30%|████████████▎                            | 60/200 [00:16<00:36,  3.84it/s]"
     ]
    },
    {
     "name": "stdout",
     "output_type": "stream",
     "text": [
      "train at epoch 60/200, loss=0.211697\n"
     ]
    },
    {
     "name": "stderr",
     "output_type": "stream",
     "text": [
      " 30%|████████████▌                            | 61/200 [00:16<00:37,  3.76it/s]"
     ]
    },
    {
     "name": "stdout",
     "output_type": "stream",
     "text": [
      "epoch = 61: best OA = 0.8938\n"
     ]
    },
    {
     "name": "stderr",
     "output_type": "stream",
     "text": [
      " 35%|██████████████▎                          | 70/200 [00:18<00:34,  3.80it/s]"
     ]
    },
    {
     "name": "stdout",
     "output_type": "stream",
     "text": [
      "train at epoch 70/200, loss=0.154588\n"
     ]
    },
    {
     "name": "stderr",
     "output_type": "stream",
     "text": [
      " 36%|██████████████▉                          | 73/200 [00:19<00:33,  3.78it/s]"
     ]
    },
    {
     "name": "stdout",
     "output_type": "stream",
     "text": [
      "epoch = 73: best OA = 0.9062\n"
     ]
    },
    {
     "name": "stderr",
     "output_type": "stream",
     "text": [
      " 40%|████████████████▍                        | 80/200 [00:21<00:32,  3.74it/s]"
     ]
    },
    {
     "name": "stdout",
     "output_type": "stream",
     "text": [
      "train at epoch 80/200, loss=0.099964\n"
     ]
    },
    {
     "name": "stderr",
     "output_type": "stream",
     "text": [
      " 45%|██████████████████▍                      | 90/200 [00:23<00:27,  3.98it/s]"
     ]
    },
    {
     "name": "stdout",
     "output_type": "stream",
     "text": [
      "train at epoch 90/200, loss=0.067807\n"
     ]
    },
    {
     "name": "stderr",
     "output_type": "stream",
     "text": [
      " 48%|███████████████████▋                     | 96/200 [00:25<00:27,  3.81it/s]"
     ]
    },
    {
     "name": "stdout",
     "output_type": "stream",
     "text": [
      "epoch = 96: best OA = 0.9125\n"
     ]
    },
    {
     "name": "stderr",
     "output_type": "stream",
     "text": [
      " 50%|████████████████████                    | 100/200 [00:26<00:26,  3.77it/s]"
     ]
    },
    {
     "name": "stdout",
     "output_type": "stream",
     "text": [
      "train at epoch 100/200, loss=0.078409\n"
     ]
    },
    {
     "name": "stderr",
     "output_type": "stream",
     "text": [
      " 55%|██████████████████████                  | 110/200 [00:29<00:24,  3.69it/s]"
     ]
    },
    {
     "name": "stdout",
     "output_type": "stream",
     "text": [
      "train at epoch 110/200, loss=0.079835\n"
     ]
    },
    {
     "name": "stderr",
     "output_type": "stream",
     "text": [
      " 60%|████████████████████████                | 120/200 [00:31<00:21,  3.70it/s]"
     ]
    },
    {
     "name": "stdout",
     "output_type": "stream",
     "text": [
      "train at epoch 120/200, loss=0.103338\n"
     ]
    },
    {
     "name": "stderr",
     "output_type": "stream",
     "text": [
      " 65%|██████████████████████████              | 130/200 [00:34<00:18,  3.78it/s]"
     ]
    },
    {
     "name": "stdout",
     "output_type": "stream",
     "text": [
      "train at epoch 130/200, loss=0.057645\n"
     ]
    },
    {
     "name": "stderr",
     "output_type": "stream",
     "text": [
      " 70%|████████████████████████████            | 140/200 [00:37<00:15,  3.79it/s]"
     ]
    },
    {
     "name": "stdout",
     "output_type": "stream",
     "text": [
      "train at epoch 140/200, loss=0.085303\n"
     ]
    },
    {
     "name": "stderr",
     "output_type": "stream",
     "text": [
      " 75%|██████████████████████████████          | 150/200 [00:39<00:13,  3.70it/s]"
     ]
    },
    {
     "name": "stdout",
     "output_type": "stream",
     "text": [
      "train at epoch 150/200, loss=0.152111\n"
     ]
    },
    {
     "name": "stderr",
     "output_type": "stream",
     "text": [
      " 80%|████████████████████████████████        | 160/200 [00:42<00:10,  3.78it/s]"
     ]
    },
    {
     "name": "stdout",
     "output_type": "stream",
     "text": [
      "train at epoch 160/200, loss=0.066089\n"
     ]
    },
    {
     "name": "stderr",
     "output_type": "stream",
     "text": [
      " 85%|██████████████████████████████████      | 170/200 [00:45<00:07,  3.76it/s]"
     ]
    },
    {
     "name": "stdout",
     "output_type": "stream",
     "text": [
      "train at epoch 170/200, loss=0.033085\n"
     ]
    },
    {
     "name": "stderr",
     "output_type": "stream",
     "text": [
      " 90%|████████████████████████████████████    | 180/200 [00:47<00:05,  3.74it/s]"
     ]
    },
    {
     "name": "stdout",
     "output_type": "stream",
     "text": [
      "train at epoch 180/200, loss=0.026896\n"
     ]
    },
    {
     "name": "stderr",
     "output_type": "stream",
     "text": [
      " 95%|██████████████████████████████████████  | 190/200 [00:50<00:02,  3.75it/s]"
     ]
    },
    {
     "name": "stdout",
     "output_type": "stream",
     "text": [
      "train at epoch 190/200, loss=0.057407\n"
     ]
    },
    {
     "name": "stderr",
     "output_type": "stream",
     "text": [
      "100%|████████████████████████████████████████| 200/200 [00:52<00:00,  3.78it/s]\n"
     ]
    },
    {
     "name": "stdout",
     "output_type": "stream",
     "text": [
      "train at epoch 200/200, loss=0.031745\n"
     ]
    },
    {
     "name": "stderr",
     "output_type": "stream",
     "text": [
      "inference on the HSI:  56%|████████▍      | 3231/5785 [00:21<00:15, 160.34it/s]"
     ]
    }
   ],
   "source": [
    "time_all = []\n",
    "for run in range(opts.num_run):\n",
    "    np.random.seed(seeds[run])\n",
    "    torch.manual_seed(seeds[run])\n",
    "    torch.cuda.manual_seed(seeds[run])\n",
    "    cudnn.deterministic = True\n",
    "    cudnn.benchmark = False\n",
    "    print(\"running an experiment with the {} model\".format(opts.model))\n",
    "    print(\"run {} / {}\".format(run + 1, opts.num_run))\n",
    "\n",
    "    # get train_gt, val_gt and test_gt\n",
    "    train_gt, val_gt, test_gt = sample_gt(\n",
    "            gt, \n",
    "            train_samples_per_class=30,  # 每类30个训练样本\n",
    "            val_samples_per_class=10,    # 每类10个验证样本\n",
    "            seed=seeds[run]\n",
    "        )\n",
    "\n",
    "    # 设置数据加载器\n",
    "    train_loader, val_loader = setup_dataloaders(\n",
    "        image=image,\n",
    "        train_gt=train_gt,\n",
    "        val_gt=val_gt,\n",
    "        opts=opts,\n",
    "        seed=seeds[run]\n",
    "    )\n",
    "\n",
    "    # load model and loss\n",
    "    model = get_model(opts.model, opts.dataset_name, opts.patch_size)\n",
    "    model = model.to(device)\n",
    "    \n",
    "    model.set_qconfig()\n",
    "    torch.ao.quantization.prepare_qat(model, inplace=True)\n",
    "    if run == 0:\n",
    "        split_info_print(train_gt, val_gt, test_gt, labels)\n",
    "        print(\"network information:\")\n",
    "        with torch.no_grad():\n",
    "            input_shape = (1, num_bands, opts.patch_size, opts.patch_size)\n",
    "            summary(model, input_shape)\n",
    "\n",
    "    model = model.to(device)\n",
    "    # print(model)\n",
    "    optimizer, scheduler = load_scheduler(opts.model, model)\n",
    "\n",
    "    criterion = nn.CrossEntropyLoss()\n",
    "\n",
    "    # where to save checkpoint model\n",
    "    model_dir = \"./checkpoints/\" + opts.model + '/' + opts.dataset_name + '/' + str(run)\n",
    "\n",
    "    try:\n",
    "        train(model, optimizer, criterion, train_loader, val_loader, opts.epoch, model_dir, device, scheduler)\n",
    "    except KeyboardInterrupt:\n",
    "        print('\"ctrl+c\" is pused, the training is over')\n",
    "    start = time.time()\n",
    "    # test the model\n",
    "    model.eval()\n",
    "    torch.ao.quantization.convert(model, inplace=True)\n",
    "    probabilities = test(model, model_dir, image, opts.patch_size, num_classes, device)\n",
    "\n",
    "    prediction = np.argmax(probabilities, axis=-1)\n",
    "    end = time.time()\n",
    "    test_time = end - start\n",
    "    time_all.append(test_time)\n",
    "    # computing metrics\n",
    "    run_results = metrics(prediction, test_gt, n_classes=num_classes)  # only for test set\n",
    "    results.append(run_results)\n",
    "    show_results(run_results, label_values=labels)\n",
    "\n",
    "    # draw the classification map\n",
    "    # Draw(model,image,gt,opts.patch_size,opts.dataset_name,opts.model,num_classes)\n",
    "if opts.num_run > 1:\n",
    "        show_results(results, label_values=labels, agregated=True)"
   ]
  },
  {
   "cell_type": "code",
   "execution_count": null,
   "id": "cb610c10-e680-4d6a-b753-1e482dc95a0a",
   "metadata": {},
   "outputs": [],
   "source": []
  },
  {
   "cell_type": "code",
   "execution_count": null,
   "id": "9855ad45-8e98-47d4-ac5c-3f3f85ea2efa",
   "metadata": {},
   "outputs": [],
   "source": []
  },
  {
   "cell_type": "code",
   "execution_count": null,
   "id": "7507a664-1ec9-4432-bada-702fe4b2b6de",
   "metadata": {},
   "outputs": [],
   "source": []
  },
  {
   "cell_type": "code",
   "execution_count": null,
   "id": "af7d6943-59c0-4c44-893e-56bf65b9e329",
   "metadata": {},
   "outputs": [],
   "source": []
  }
 ],
 "metadata": {
  "kernelspec": {
   "display_name": "Python 3 (ipykernel)",
   "language": "python",
   "name": "python3"
  },
  "language_info": {
   "codemirror_mode": {
    "name": "ipython",
    "version": 3
   },
   "file_extension": ".py",
   "mimetype": "text/x-python",
   "name": "python",
   "nbconvert_exporter": "python",
   "pygments_lexer": "ipython3",
   "version": "3.10.16"
  }
 },
 "nbformat": 4,
 "nbformat_minor": 5
}
